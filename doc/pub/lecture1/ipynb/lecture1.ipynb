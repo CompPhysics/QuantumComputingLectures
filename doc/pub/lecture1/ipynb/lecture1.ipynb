{
 "cells": [
  {
   "cell_type": "markdown",
   "id": "1f8872e1",
   "metadata": {
    "editable": true
   },
   "source": [
    "<!-- HTML file automatically generated from DocOnce source (https://github.com/doconce/doconce/)\n",
    "doconce format html lecture1.do.txt --no_mako -->\n",
    "<!-- dom:TITLE: Quantum Computing Lectures for  Nano and Quantum Workshop -->"
   ]
  },
  {
   "cell_type": "markdown",
   "id": "a1cb25f9",
   "metadata": {
    "editable": true
   },
   "source": [
    "# Quantum Computing Lectures for  Nano and Quantum Workshop\n",
    "**Morten Hjorth-Jensen**, Department of Physics and Center for Computing in Science Education, University of Oslo, Norway and Department of Physics and Astronomy and Facility for Rare Isotope Beams, Michigan State University, East Lansing, Michigan, USA\n",
    "\n",
    "Date: **Cali, Colombia, December 4-8, 2023**"
   ]
  },
  {
   "cell_type": "markdown",
   "id": "69afd7ee",
   "metadata": {
    "editable": true
   },
   "source": [
    "## Overview of first lecture\n",
    "\n",
    "**Definitions:Basics in Linear Algebra, The Hilbert Space, Operators on Hilbert Spaces, States and qubits.**\n",
    "\n",
    "1. Mathematical notation, Hilbert spaces and operators\n",
    "\n",
    "2. Description of Quantum Systems and one-qubit systems \n",
    "\n",
    "3. States in Hilbert Space, pure and mixed states\n",
    "\n",
    "4. Operators and gates\n",
    "\n",
    "**Reading recommendation**: [Scherer, Mathematics of Quantum Computations, chapter 2](https://link.springer.com/book/10.1007/978-3-030-12358-1)"
   ]
  },
  {
   "cell_type": "markdown",
   "id": "4e9c024e",
   "metadata": {
    "editable": true
   },
   "source": [
    "## Defining basis states and quantum mechanical operators\n",
    "\n",
    "We start by defining a state vector $\\boldsymbol{x}$ (meant to represent\n",
    "various quantum mechanical degrees of freedom) with $n$ components as"
   ]
  },
  {
   "cell_type": "markdown",
   "id": "3187c321",
   "metadata": {
    "editable": true
   },
   "source": [
    "$$\n",
    "\\boldsymbol{x} = \\begin{bmatrix} x_0\\\\ x_1 \\\\ x_2 \\\\ \\dots \\\\ \\dots \\\\ x_{n-1} \\end{bmatrix}.\n",
    "$$"
   ]
  },
  {
   "cell_type": "markdown",
   "id": "3ff28d9e",
   "metadata": {
    "editable": true
   },
   "source": [
    "Throughout these notes we will use the so-called Dirac **bra-ket**\n",
    "formalism and we will replace the above standard boldfaced notation\n",
    "for a vector with"
   ]
  },
  {
   "cell_type": "markdown",
   "id": "d3116e9e",
   "metadata": {
    "editable": true
   },
   "source": [
    "$$\n",
    "\\boldsymbol{x} = \\vert x \\rangle = \\begin{bmatrix} x_0\\\\ x_1 \\\\ x_2 \\\\ \\dots \\\\ \\dots \\\\ x_{n-1} \\end{bmatrix},\n",
    "$$"
   ]
  },
  {
   "cell_type": "markdown",
   "id": "921e8f4d",
   "metadata": {
    "editable": true
   },
   "source": [
    "and"
   ]
  },
  {
   "cell_type": "markdown",
   "id": "e32e87ad",
   "metadata": {
    "editable": true
   },
   "source": [
    "$$\n",
    "\\boldsymbol{x}^{\\dagger} = \\langle x \\vert = \\begin{bmatrix} x_0^* & x_1^* & x_2^* & \\dots & \\dots & x_{n-1}^* \\end{bmatrix},\n",
    "$$"
   ]
  },
  {
   "cell_type": "markdown",
   "id": "af8ffc3f",
   "metadata": {
    "editable": true
   },
   "source": [
    "With a given vector $\\vert x \\rangle$, we define the inner product as"
   ]
  },
  {
   "cell_type": "markdown",
   "id": "ff08cd58",
   "metadata": {
    "editable": true
   },
   "source": [
    "$$\n",
    "\\langle x \\vert x\\rangle = \\sum_{i=0}^{n-1} x_i^*x_i=x_0^2+x_1^2+\\dots + x_{n-1}^2.\n",
    "$$"
   ]
  },
  {
   "cell_type": "markdown",
   "id": "e54885af",
   "metadata": {
    "editable": true
   },
   "source": [
    "For two arbitrary vectors $\\vert x\\rangle$ and $\\vert y\\rangle$ with the same lentgh, we have the\n",
    "general expression"
   ]
  },
  {
   "cell_type": "markdown",
   "id": "030e3326",
   "metadata": {
    "editable": true
   },
   "source": [
    "$$\n",
    "\\langle y \\vert x\\rangle = \\sum_{i=0}^{n-1} y_i^*x_i=y_0^*x_0+y_1^*x_1+\\dots + y_{n-1}^*x_{n-1}.\n",
    "$$"
   ]
  },
  {
   "cell_type": "markdown",
   "id": "3adf08b8",
   "metadata": {
    "editable": true
   },
   "source": [
    "Note well that the inner product $\\langle x \\vert x\\rangle$ is always a real number while for a two different vectors $\\langle y \\vert x\\rangle$ is in general not equal to\n",
    "$\\langle x \\vert y\\rangle$, as can be seen from the following example\n",
    "\n",
    "We note in bypassing that $\\vert x\\rangle^{\\dagger}=\\langle x \\vert$,\n",
    "$\\langle x\\vert^{\\dagger}=\\vert x\\rangle$ and $(\\vert\n",
    "x\\rangle^{\\dagger})^{\\dagger}=\\vert x \\rangle$."
   ]
  },
  {
   "cell_type": "markdown",
   "id": "801de5cf",
   "metadata": {
    "editable": true
   },
   "source": [
    "### Examples\n",
    "\n",
    "Let us assume that $\\vert x \\rangle$ is given by"
   ]
  },
  {
   "cell_type": "markdown",
   "id": "d0d03959",
   "metadata": {
    "editable": true
   },
   "source": [
    "$$\n",
    "\\vert x \\rangle = \\begin{bmatrix} 1-\\imath \\\\ 2+\\imath \\end{bmatrix}.\n",
    "$$"
   ]
  },
  {
   "cell_type": "markdown",
   "id": "b6dc1f3d",
   "metadata": {
    "editable": true
   },
   "source": [
    "The inner product gives us"
   ]
  },
  {
   "cell_type": "markdown",
   "id": "9998b05a",
   "metadata": {
    "editable": true
   },
   "source": [
    "$$\n",
    "\\langle x\\vert x \\rangle = (1+\\imath)(1-\\imath)+(2-\\imath)(2+\\imath)=7,\n",
    "$$"
   ]
  },
  {
   "cell_type": "markdown",
   "id": "0a5b3729",
   "metadata": {
    "editable": true
   },
   "source": [
    "a real number.\n",
    "We can use the norm/inner product to normalize the vector $\\vert x \\rangle$ and obtain"
   ]
  },
  {
   "cell_type": "markdown",
   "id": "2889dd14",
   "metadata": {
    "editable": true
   },
   "source": [
    "$$\n",
    "\\vert x \\rangle = \\frac{1}{\\sqrt{7}}\\begin{bmatrix} 1-\\imath \\\\ 2+\\imath \\end{bmatrix}.\n",
    "$$"
   ]
  },
  {
   "cell_type": "markdown",
   "id": "c94d5084",
   "metadata": {
    "editable": true
   },
   "source": [
    "As another example, consider the two vectors"
   ]
  },
  {
   "cell_type": "markdown",
   "id": "4b6f4f01",
   "metadata": {
    "editable": true
   },
   "source": [
    "$$\n",
    "\\vert x \\rangle = \\begin{bmatrix} -1 \\\\ 2\\imath \\\\ 1\\end{bmatrix},\n",
    "$$"
   ]
  },
  {
   "cell_type": "markdown",
   "id": "dc253183",
   "metadata": {
    "editable": true
   },
   "source": [
    "and"
   ]
  },
  {
   "cell_type": "markdown",
   "id": "9ee8f96f",
   "metadata": {
    "editable": true
   },
   "source": [
    "$$\n",
    "\\vert y \\rangle = \\begin{bmatrix} 1 \\\\ 0\\imath \\\\ \\imath\\end{bmatrix}.\n",
    "$$"
   ]
  },
  {
   "cell_type": "markdown",
   "id": "d96060a5",
   "metadata": {
    "editable": true
   },
   "source": [
    "We see that the inner products $\\langle x\\vert y \\rangle = -1+\\imath$, which is not the same as\n",
    "$\\langle y\\vert x \\rangle = -1-\\imath$. This leads to the important rule"
   ]
  },
  {
   "cell_type": "markdown",
   "id": "723707bc",
   "metadata": {
    "editable": true
   },
   "source": [
    "$$\n",
    "\\langle x\\vert y\\rangle^* = \\langle y \\vert x\\rangle.\n",
    "$$"
   ]
  },
  {
   "cell_type": "markdown",
   "id": "6dfd1807",
   "metadata": {
    "editable": true
   },
   "source": [
    "## Outer products\n",
    "\n",
    "In addition to inner products between vectors/states, the outer\n",
    "product plays a central role in all of quantum mechanics. It is\n",
    "defined as"
   ]
  },
  {
   "cell_type": "markdown",
   "id": "0633eea8",
   "metadata": {
    "editable": true
   },
   "source": [
    "$$\n",
    "\\vert x\\rangle \\langle y \\vert = \\begin{bmatrix}\n",
    "               x_0y_0^* & x_0y_1^* & x_0y_2^* & \\dots & \\dots & x_0y_{n-2}^* & x_0y_{n-1}^* \\\\\n",
    "\t       x_1y_0^* & x_1y_1^* & x_1y_2^* & \\dots & \\dots & x_1y_{n-2}^* & x_1y_{n-1}^* \\\\\n",
    "\t       x_2y_0^* & x_2y_1^* & x_2y_2^* & \\dots & \\dots & x_2y_{n-2}^* & x_2y_{n-1}^* \\\\\t       \n",
    "               \\dots &   \\dots   & \\dots  & \\dots & \\dots & \\dots & \\dots \\\\\n",
    "               \\dots &   \\dots   & \\dots  & \\dots & \\dots & \\dots & \\dots \\\\\t       \n",
    "\t       x_{n-2}y_0^* & x_{n-2}y_1^* & x_{n-2}y_2^* & \\dots & \\dots & x_{n-2}y_{n-2}^* & x_{n-2}y_{n-1}^* \\\\\n",
    "\t       x_{n-1}y_0^* & x_{n-1}y_1^* & x_{n-1}y_2^* & \\dots & \\dots & x_{n-1}y_{n-2}^* & x_{n-1}y_{n-1}^* \\end{bmatrix}\n",
    "$$"
   ]
  },
  {
   "cell_type": "markdown",
   "id": "79869bc2",
   "metadata": {
    "editable": true
   },
   "source": [
    "## Different operators and gates\n",
    "\n",
    "In quantum computing, the so-called Pauli matrices, and other simple\n",
    "$2\\times 2$ matrices, play an important role, ranging from the setup\n",
    "of quantum gates to a rewrite of creation and annihilation operators\n",
    "and other quantum mechanical operators. Let us start with the familiar\n",
    "Pauli matrices and remind ourselves of some of their basic properties.\n",
    "\n",
    "The Pauli matrices are defined as"
   ]
  },
  {
   "cell_type": "markdown",
   "id": "bb59a838",
   "metadata": {
    "editable": true
   },
   "source": [
    "$$\n",
    "\\sigma_x = \\begin{bmatrix} 0 & 1 \\\\ 1 & 0 \\end{bmatrix},\n",
    "$$"
   ]
  },
  {
   "cell_type": "markdown",
   "id": "cfd66c4d",
   "metadata": {
    "editable": true
   },
   "source": [
    "$$\n",
    "\\sigma_y = \\begin{bmatrix} 0 & -\\imath \\\\ \\imath & 0 \\end{bmatrix},\n",
    "$$"
   ]
  },
  {
   "cell_type": "markdown",
   "id": "f0f02364",
   "metadata": {
    "editable": true
   },
   "source": [
    "and"
   ]
  },
  {
   "cell_type": "markdown",
   "id": "b8f9720a",
   "metadata": {
    "editable": true
   },
   "source": [
    "$$\n",
    "\\sigma_z = \\begin{bmatrix} 1 & 0 \\\\ 0 & -1 \\end{bmatrix}.\n",
    "$$"
   ]
  },
  {
   "cell_type": "markdown",
   "id": "87df2185",
   "metadata": {
    "editable": true
   },
   "source": [
    "It is easy to show that the matrices obey the properties (being involutory)"
   ]
  },
  {
   "cell_type": "markdown",
   "id": "96dffcae",
   "metadata": {
    "editable": true
   },
   "source": [
    "$$\n",
    "\\sigma_x\\sigma_x = \\sigma_y\\sigma_y=\\sigma_z\\sigma_z = I=\\begin{bmatrix} 1 & 0 \\\\ 0 & 1\\end{bmatrix},\n",
    "$$"
   ]
  },
  {
   "cell_type": "markdown",
   "id": "2767d317",
   "metadata": {
    "editable": true
   },
   "source": [
    "that is their products with themselves result in the identity matrix\n",
    "$\\boldsymbol{I}$.  Furthermore, the Pauli matrices are unitary matrices\n",
    "meaning that their inverses are equal to their hermitian conjugated\n",
    "matrices. The determinants of the Pauli matrices are all equal to $-1$,\n",
    "as can be easily verified.\n",
    "\n",
    "The Pauli matrices obey also the following commutation rules"
   ]
  },
  {
   "cell_type": "markdown",
   "id": "fdb858d0",
   "metadata": {
    "editable": true
   },
   "source": [
    "$$\n",
    "\\left[\\sigma_x,\\sigma_y\\right] = 2\\imath \\sigma_z.\n",
    "$$"
   ]
  },
  {
   "cell_type": "markdown",
   "id": "f0812213",
   "metadata": {
    "editable": true
   },
   "source": [
    "Before we proceed with other matrices and how they can be used to\n",
    "operate on various quantum mechanical states, let us try to define\n",
    "various basis sets and their pertinent notations. We will often refer\n",
    "to these basis states as our computational basis."
   ]
  },
  {
   "cell_type": "markdown",
   "id": "03dad4e0",
   "metadata": {
    "editable": true
   },
   "source": [
    "## Definition of Computational basis states\n",
    "\n",
    "<!-- to do: make figures with examples of basis states, hydrogen like systems, harmonic oscillator -->\n",
    "Assume we have a two-level system where the two states are represented\n",
    "by the state vectors $\\vert \\phi_0\\rangle$ and $\\vert \\phi_1\\rangle$,\n",
    "respectively. These states could represent selected or effective\n",
    "degrees of freedom for either a single particle (fermion or boson) or\n",
    "they could represent effective many-body degrees of freedon. In actual\n",
    "realizations of quantum computing we search often for candidate\n",
    "systems where we can use some low-lying states as computational basis\n",
    "states. But we are not limited to quantum computing. When doing\n",
    "many-body physics, due to the exploding degrees of freedom, we\n",
    "normally search after effective ways by which we can reduce the\n",
    "involved dimensionalities to a number of degrees of freedom we can\n",
    "handle by a given many-body method."
   ]
  },
  {
   "cell_type": "markdown",
   "id": "244b226b",
   "metadata": {
    "editable": true
   },
   "source": [
    "### Examples: Hydrogen like states and the harmonic oscillator in one, two and three dimensions\n",
    "\n",
    "We will now relabel the above two states as two orthogonal and normalized basis (ONB) states"
   ]
  },
  {
   "cell_type": "markdown",
   "id": "46f5145f",
   "metadata": {
    "editable": true
   },
   "source": [
    "$$\n",
    "\\vert \\phi_0 \\rangle = \\vert 0 \\rangle = \\begin{bmatrix} 1 \\\\ 0 \\end{bmatrix},\n",
    "$$"
   ]
  },
  {
   "cell_type": "markdown",
   "id": "cdae85a5",
   "metadata": {
    "editable": true
   },
   "source": [
    "and"
   ]
  },
  {
   "cell_type": "markdown",
   "id": "6aefb33f",
   "metadata": {
    "editable": true
   },
   "source": [
    "$$\n",
    "\\vert \\phi_1 \\rangle = \\vert 1 \\rangle = \\begin{bmatrix} 0 \\\\ 1 \\end{bmatrix}.\n",
    "$$"
   ]
  },
  {
   "cell_type": "markdown",
   "id": "deba863c",
   "metadata": {
    "editable": true
   },
   "source": [
    "It is straight forward to see that $\\langle 1 \\vert 0\\rangle=0$. With these two states we can define the define the identity operator $\\boldsymbol{I}$ as the sum of the outer products of these two states, namely"
   ]
  },
  {
   "cell_type": "markdown",
   "id": "89f3a8b0",
   "metadata": {
    "editable": true
   },
   "source": [
    "$$\n",
    "\\boldsymbol{I} = \\sum_{i=0}^{i=1}\\vert i\\rangle \\langle i\\vert = \\begin{bmatrix} 1 & 0 \\\\ 0 & 0 \\end{bmatrix} +\\begin{bmatrix} 0 & 0 \\\\ 0 & 1 \\end{bmatrix}=\\begin{bmatrix} 1 & 0 \\\\ 0 & 1 \\end{bmatrix}.\n",
    "$$"
   ]
  },
  {
   "cell_type": "markdown",
   "id": "46b8bfc0",
   "metadata": {
    "editable": true
   },
   "source": [
    "We can further define the projection operators"
   ]
  },
  {
   "cell_type": "markdown",
   "id": "a6d06b8a",
   "metadata": {
    "editable": true
   },
   "source": [
    "$$\n",
    "\\boldsymbol{P} = \\vert 0\\rangle \\langle 0\\vert = \\begin{bmatrix} 1 & 0 \\\\ 0 & 0 \\end{bmatrix},\n",
    "$$"
   ]
  },
  {
   "cell_type": "markdown",
   "id": "b61755dc",
   "metadata": {
    "editable": true
   },
   "source": [
    "and"
   ]
  },
  {
   "cell_type": "markdown",
   "id": "fc966cc4",
   "metadata": {
    "editable": true
   },
   "source": [
    "$$\n",
    "\\boldsymbol{Q} = \\vert 1\\rangle \\langle 1\\vert = \\begin{bmatrix} 0 & 0 \\\\ 0 & 1 \\end{bmatrix}.\n",
    "$$"
   ]
  },
  {
   "cell_type": "markdown",
   "id": "249f5dec",
   "metadata": {
    "editable": true
   },
   "source": [
    "We note that $P^2=P$, $Q^2=Q$ (the operators are idempotent) and that\n",
    "their determinants are zero, meaning in turn that we cannot use these\n",
    "operators for unitary/orthogonal transformations. However, they play\n",
    "important roles in defining effective Hilbert spaces for many-body\n",
    "studies. Finally, before proceeding we note also that the two matrices\n",
    "commute and we have $\\boldsymbol{P}\\boldsymbol{Q}=0$ and $\\left[ \\boldsymbol{P},\\boldsymbol{Q}\\right]=0$."
   ]
  },
  {
   "cell_type": "markdown",
   "id": "9f1deea3",
   "metadata": {
    "editable": true
   },
   "source": [
    "### Superposition and more\n",
    "\n",
    "Using the properties of ONBs we can expand a new state in terms of the\n",
    "above states. These states could also form  a basis which is an\n",
    "eigenbasis of a selected Hamiltonian (more of this below).\n",
    "\n",
    "We define now a new state which is a linear expansion in terms of\n",
    "these computational basis states"
   ]
  },
  {
   "cell_type": "markdown",
   "id": "6eac4fda",
   "metadata": {
    "editable": true
   },
   "source": [
    "$$\n",
    "\\vert \\psi \\rangle = \\alpha \\vert 0 \\rangle + \\beta\\vert 1 \\rangle,\n",
    "$$"
   ]
  },
  {
   "cell_type": "markdown",
   "id": "052d9d66",
   "metadata": {
    "editable": true
   },
   "source": [
    "where the coefficients $\\alpha = \\langle 0 \\vert \\psi \\rangle$ and\n",
    "$\\beta =\\langle 1 \\vert \\psi\\rangle$ reresent the overlaps between the\n",
    "computational basis states and the state $\\vert \\psi\\rangle$. In quantum speech, we say the state is in a superposition of the states $\\vert 0\\rangle$ and $\\vert 1\\rangle$.\n",
    "\n",
    "Computing the inner product of $\\vert \\psi \\rangle$ we obtain"
   ]
  },
  {
   "cell_type": "markdown",
   "id": "31c110de",
   "metadata": {
    "editable": true
   },
   "source": [
    "$$\n",
    "\\langle \\psi \\vert \\psi \\rangle = \\vert \\alpha \\vert ^2\\langle 0\\vert 0\\rangle + \\vert \\beta \\vert ^2\\langle 1\\vert 1\\rangle = \\vert \\alpha \\vert ^2 + \\vert \\beta \\vert ^2 = 1,\n",
    "$$"
   ]
  },
  {
   "cell_type": "markdown",
   "id": "fc93b0bf",
   "metadata": {
    "editable": true
   },
   "source": [
    "since the new basis, which is defined in terms of a a unitary/orthogonal\n",
    "transformation, preserves the orthogonality and norm of the original\n",
    "computational basis $\\vert 0\\rangle$ and $\\vert 1\\rangle$. To see\n",
    "this, consider the unitary transformation (show derivation of\n",
    "preserving orthogonality).\n",
    "\n",
    "If we now act with the projection operators $\\boldsymbol{P}$ and $\\boldsymbol{Q}$ on\n",
    "the state $\\vert \\psi\\rangle$ we get"
   ]
  },
  {
   "cell_type": "markdown",
   "id": "294cfb52",
   "metadata": {
    "editable": true
   },
   "source": [
    "$$\n",
    "\\boldsymbol{P}\\vert \\psi \\rangle = \\vert 0 \\rangle\\langle 0\\vert (\\alpha \\vert 0 \\rangle + \\beta\\vert 1 \\rangle)=\\alpha \\vert 0\\rangle,\n",
    "$$"
   ]
  },
  {
   "cell_type": "markdown",
   "id": "7d458296",
   "metadata": {
    "editable": true
   },
   "source": [
    "that is we **project** out the $\\vert 0\\rangle$ component of the state\n",
    "$\\vert \\psi\\rangle$ with the coefficient $\\alpha$ while $\\boldsymbol{Q}$\n",
    "projects out the $\\vert 1\\rangle$ component with coefficient $\\beta$\n",
    "as seen from"
   ]
  },
  {
   "cell_type": "markdown",
   "id": "d048300e",
   "metadata": {
    "editable": true
   },
   "source": [
    "$$\n",
    "\\boldsymbol{Q}\\vert \\psi \\rangle = \\vert 1 \\rangle\\langle 1\\vert (\\alpha \\vert 0 \\rangle + \\beta\\vert 1 \\rangle)=\\beta \\vert 1\\rangle.\n",
    "$$"
   ]
  },
  {
   "cell_type": "markdown",
   "id": "2ef27068",
   "metadata": {
    "editable": true
   },
   "source": [
    "The above results can easily be derived by multiplying the pertinent\n",
    "matrices with the vectors $\\vert 0\\rangle$ and $\\vert 1\\rangle$,\n",
    "respectively.\n",
    "\n",
    "Using the above linear expansion we can now define the density matrix of the state $\\vert \\psi\\rangle$ as the outer product"
   ]
  },
  {
   "cell_type": "markdown",
   "id": "1fcca348",
   "metadata": {
    "editable": true
   },
   "source": [
    "$$\n",
    "\\boldsymbol{\\rho}=\\vert \\psi \\rangle\\langle \\psi \\vert = \\alpha\\alpha^* \\vert 0 \\rangle\\langle 0\\vert+\\alpha\\beta^* \\vert 0 \\rangle\\langle 1\\vert+\\beta\\alpha^* \\vert 1 \\rangle\\langle 0\\vert+\\beta\\beta^* \\vert 1 \\rangle\\langle 1\\vert=\\begin{bmatrix} \\alpha\\alpha^* & \\alpha\\beta^*\\\\ \\beta\\alpha^* & \\beta\\beta^*\\end{bmatrix}.\n",
    "$$"
   ]
  },
  {
   "cell_type": "markdown",
   "id": "64cd37c7",
   "metadata": {
    "editable": true
   },
   "source": [
    "Finally, we note that the trace of the density matrix is simply given by unity"
   ]
  },
  {
   "cell_type": "markdown",
   "id": "6b58e97a",
   "metadata": {
    "editable": true
   },
   "source": [
    "$$\n",
    "\\mathrm{tr}\\boldsymbol{\\rho}=\\alpha\\alpha^* +\\beta\\beta^*=1.\n",
    "$$"
   ]
  },
  {
   "cell_type": "markdown",
   "id": "19d265c7",
   "metadata": {
    "editable": true
   },
   "source": [
    "### Other important matrices\n",
    "\n",
    "We end with presenting other operators (as matrices) which play an important role in quantum computing, the so-called Hadamard matrix (or gate as we will use later)"
   ]
  },
  {
   "cell_type": "markdown",
   "id": "09402f87",
   "metadata": {
    "editable": true
   },
   "source": [
    "$$\n",
    "\\boldsymbol{H}=\\frac{1}{\\sqrt{2}}\\begin{bmatrix} 1 & 1 \\\\ 1 & -1\\end{bmatrix}.\n",
    "$$"
   ]
  },
  {
   "cell_type": "markdown",
   "id": "73186ce0",
   "metadata": {
    "editable": true
   },
   "source": [
    "The action of the operator $\\boldsymbol{H}$ on a computational basis state like $\\vert 0\\rangle$ gives"
   ]
  },
  {
   "cell_type": "markdown",
   "id": "ebe54f7c",
   "metadata": {
    "editable": true
   },
   "source": [
    "$$\n",
    "\\boldsymbol{H}\\vert 0 \\rangle = \\frac{1}{\\sqrt{2}}\\begin{bmatrix} 1 & 1 \\\\ 1 & -1\\end{bmatrix}\\begin{bmatrix} 1 \\\\ 0\\end{bmatrix}=\\frac{1}{\\sqrt{2}}(\\vert 0\\rangle + \\vert 1\\rangle),\n",
    "$$"
   ]
  },
  {
   "cell_type": "markdown",
   "id": "2ed9fb46",
   "metadata": {
    "editable": true
   },
   "source": [
    "and"
   ]
  },
  {
   "cell_type": "markdown",
   "id": "d27dcb18",
   "metadata": {
    "editable": true
   },
   "source": [
    "$$\n",
    "\\boldsymbol{H}\\vert 1 \\rangle = \\frac{1}{\\sqrt{2}}\\begin{bmatrix} 1 & 1 \\\\ 1 & -1\\end{bmatrix}\\begin{bmatrix} 0 \\\\ 1\\end{bmatrix}=\\frac{1}{\\sqrt{2}}(\\vert 0\\rangle - \\vert 1\\rangle),\n",
    "$$"
   ]
  },
  {
   "cell_type": "markdown",
   "id": "d5fe15d9",
   "metadata": {
    "editable": true
   },
   "source": [
    "that is we create a superposition of the states $\\vert 0\\rangle$ and $\\vert 1\\rangle$.\n",
    "\n",
    "Another famous operation is the phase matrix given by"
   ]
  },
  {
   "cell_type": "markdown",
   "id": "bd51b91f",
   "metadata": {
    "editable": true
   },
   "source": [
    "$$\n",
    "\\boldsymbol{S} = \\begin{bmatrix} 1 & 0 \\\\ 0 & \\imath\\end{bmatrix}.\n",
    "$$"
   ]
  },
  {
   "cell_type": "markdown",
   "id": "9e197496",
   "metadata": {
    "editable": true
   },
   "source": [
    "### Eigenvalues and spectral decomposition"
   ]
  },
  {
   "cell_type": "markdown",
   "id": "d4003cbc",
   "metadata": {
    "editable": true
   },
   "source": [
    "## Tensor products\n",
    "\n",
    "Consider now two vectors with length $n=2$, with elements"
   ]
  },
  {
   "cell_type": "markdown",
   "id": "98ee72b2",
   "metadata": {
    "editable": true
   },
   "source": [
    "$$\n",
    "\\vert x \\rangle = \\begin{bmatrix} x_0 \\\\ x_1 \\end{bmatrix},\n",
    "$$"
   ]
  },
  {
   "cell_type": "markdown",
   "id": "36cf444c",
   "metadata": {
    "editable": true
   },
   "source": [
    "and"
   ]
  },
  {
   "cell_type": "markdown",
   "id": "df3702aa",
   "metadata": {
    "editable": true
   },
   "source": [
    "$$\n",
    "\\vert y \\rangle = \\begin{bmatrix} y_0 \\\\ y_1 \\end{bmatrix}.\n",
    "$$"
   ]
  },
  {
   "cell_type": "markdown",
   "id": "c9c75969",
   "metadata": {
    "editable": true
   },
   "source": [
    "The tensor product of these two vectors is defined as"
   ]
  },
  {
   "cell_type": "markdown",
   "id": "9409d721",
   "metadata": {
    "editable": true
   },
   "source": [
    "$$\n",
    "\\vert x \\rangle \\otimes \\vert y \\rangle = \\vert xy \\rangle  = \\begin{bmatrix} x_0y_0 \\\\ x_0y_1 \\\\ x_1y_0 \\\\ x_1y_1 \\end{bmatrix},\n",
    "$$"
   ]
  },
  {
   "cell_type": "markdown",
   "id": "90a5001e",
   "metadata": {
    "editable": true
   },
   "source": [
    "which is now a vector of length $4$.\n",
    "\n",
    "If we now go back to our original one-qubit basis states, we can form teh following tensor products"
   ]
  },
  {
   "cell_type": "markdown",
   "id": "a93bc423",
   "metadata": {
    "editable": true
   },
   "source": [
    "$$\n",
    "\\vert 0 \\rangle \\otimes \\vert 0 \\rangle = \\begin{bmatrix} 1 \\\\ 0\\end{bmatrix} \\otimes \\begin{bmatrix} 1 \\\\ 0\\end{bmatrix} =\\begin{bmatrix} 1 \\\\ 0 \\\\ 0 \\\\ 0 \\end{bmatrix}=\\vert 00 \\rangle,\n",
    "$$"
   ]
  },
  {
   "cell_type": "markdown",
   "id": "29337e6e",
   "metadata": {
    "editable": true
   },
   "source": [
    "$$\n",
    "\\vert 0 \\rangle \\otimes \\vert 1 \\rangle = \\begin{bmatrix} 1 \\\\ 0\\end{bmatrix} \\otimes \\begin{bmatrix} 0 \\\\ 1\\end{bmatrix} =\\begin{bmatrix} 0 \\\\ 1 \\\\ 0 \\\\ 0 \\end{bmatrix}=\\vert 01 \\rangle,\n",
    "$$"
   ]
  },
  {
   "cell_type": "markdown",
   "id": "f97d1424",
   "metadata": {
    "editable": true
   },
   "source": [
    "$$\n",
    "\\vert 1 \\rangle \\otimes \\vert 0 \\rangle = \\begin{bmatrix} 0 \\\\ 1\\end{bmatrix} \\otimes \\begin{bmatrix} 1 \\\\ 0\\end{bmatrix} =\\begin{bmatrix} 0 \\\\ 0 \\\\ 1 \\\\ 0 \\end{bmatrix}=\\vert 10 \\rangle,\n",
    "$$"
   ]
  },
  {
   "cell_type": "markdown",
   "id": "b922737e",
   "metadata": {
    "editable": true
   },
   "source": [
    "and finally"
   ]
  },
  {
   "cell_type": "markdown",
   "id": "ebfb57d8",
   "metadata": {
    "editable": true
   },
   "source": [
    "$$\n",
    "\\vert 1 \\rangle \\otimes \\vert 1 \\rangle = \\begin{bmatrix} 0 \\\\ 1\\end{bmatrix} \\otimes \\begin{bmatrix} 0 \\\\ 1\\end{bmatrix} =\\begin{bmatrix} 0 \\\\ 0 \\\\ 0 \\\\ 1 \\end{bmatrix}=\\vert 11 \\rangle.\n",
    "$$"
   ]
  },
  {
   "cell_type": "markdown",
   "id": "10672f35",
   "metadata": {
    "editable": true
   },
   "source": [
    "We have now four different states and we could try to make a new list\n",
    "by relabeling the states as follows $\\vert 00 \\rangle =\\vert 0\n",
    "\\rangle$, $\\vert 01 \\rangle =\\vert 1 \\rangle$, $\\vert 10 \\rangle\n",
    "=\\vert 2 \\rangle$, $\\vert 11 \\rangle =\\vert 3 \\rangle$.\n",
    "\n",
    "In similar ways we can define the tensor product of three qubits (or single-particle states) as"
   ]
  },
  {
   "cell_type": "markdown",
   "id": "f2ff1d24",
   "metadata": {
    "editable": true
   },
   "source": [
    "$$\n",
    "\\vert 0 \\rangle \\otimes \\vert 0 \\rangle \\otimes \\vert 0 \\rangle = \\begin{bmatrix} 1 \\\\ 0\\end{bmatrix} \\otimes \\begin{bmatrix} 1 \\\\ 0\\end{bmatrix} \\otimes \\begin{bmatrix} 1 \\\\ 0\\end{bmatrix}=\\begin{bmatrix} 1 \\\\ 0 \\\\ 0 \\\\ 0 \\\\ 0 \\\\0 \\\\ 0 \\\\ 0\\end{bmatrix}=\\vert 000 \\rangle,\n",
    "$$"
   ]
  },
  {
   "cell_type": "markdown",
   "id": "3aaaf2e7",
   "metadata": {
    "editable": true
   },
   "source": [
    "which is a new vector of length eight. We note that with a single-particle basis given the states $\\vert 0\\rangle$ and $\\vert 1\\rangle$ we can, with $N$ particles construct $2^N$ different states.\n",
    "This is something we can generalize to\n",
    " * discuss ways of labeling states\n",
    "\n",
    " * how to write a code which does it\n",
    "\n",
    "The tensor product of two $2\\times 2$ matrices $\\boldsymbol{A}$ and $\\boldsymbol{B}$ is given by"
   ]
  },
  {
   "cell_type": "markdown",
   "id": "3760ea17",
   "metadata": {
    "editable": true
   },
   "source": [
    "$$\n",
    "\\boldsymbol{A} \\times \\boldsymbol{B} = \\begin{bmatrix} a_{00} & a_{01} \\\\ a_{10} & a_{11} \\end{bmatrix} \\otimes \\begin{bmatrix} b_{00} & b_{01} \\\\ b_{10} & b_{11} \\end{bmatrix} =\n",
    "\\begin{bmatrix} a_{00} b_{00} &  a_{00}b_{01} & a_{01} b_{00} & a_{01}b_{01} \\\\\n",
    "                a_{00} b_{10} &  a_{00}b_{11} & a_{01} b_{10} & a_{01}b_{11} \\\\\n",
    "                a_{10} b_{00} &  a_{10}b_{01} & a_{11} b_{00} & a_{11}b_{01} \\\\\n",
    "                a_{10} b_{10} &  a_{10}b_{11} & a_{11} b_{10} & a_{11}b_{11} \\end{bmatrix}\n",
    "$$"
   ]
  }
 ],
 "metadata": {},
 "nbformat": 4,
 "nbformat_minor": 5
}

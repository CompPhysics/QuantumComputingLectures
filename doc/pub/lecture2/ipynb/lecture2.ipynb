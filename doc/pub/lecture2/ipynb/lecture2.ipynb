{
 "cells": [
  {
   "cell_type": "markdown",
   "id": "a43527dc",
   "metadata": {
    "editable": true
   },
   "source": [
    "<!-- HTML file automatically generated from DocOnce source (https://github.com/doconce/doconce/)\n",
    "doconce format html lecture2.do.txt --no_mako -->\n",
    "<!-- dom:TITLE: Quantum Computing Lectures for  Nano and Quantum Workshop -->"
   ]
  },
  {
   "cell_type": "markdown",
   "id": "3267b538",
   "metadata": {
    "editable": true
   },
   "source": [
    "# Quantum Computing Lectures for  Nano and Quantum Workshop\n",
    "**Morten Hjorth-Jensen**, Department of Physics and Center for Computing in Science Education, University of Oslo, Norway and Department of Physics and Astronomy and Facility for Rare Isotope Beams, Michigan State University, East Lansing, Michigan, USA\n",
    "\n",
    "Date: **Cali, Colombia, December 4-8, 2023**"
   ]
  },
  {
   "cell_type": "markdown",
   "id": "8d053784",
   "metadata": {
    "editable": true
   },
   "source": [
    "## Spectral Decomposition, Measurements and Density matrices\n",
    "\n",
    "1. Density matrices and Measurements\n",
    "\n",
    "2. Entropy and entaglement\n",
    "\n",
    "3. Additional material on gates and using [Qiskit](https://qiskit.org/)"
   ]
  },
  {
   "cell_type": "markdown",
   "id": "d580afe5",
   "metadata": {
    "editable": true
   },
   "source": [
    "## Introduction\n",
    "\n",
    "In order to study entanglement and why it is so important for quantum\n",
    "computing, we need to introduce some basic measures and useful\n",
    "quantities.  These quantities are the spectral decomposition of\n",
    "hermitian operators, how these are then used to define measurements\n",
    "and how we can define so-called density operators (matrices). These\n",
    "are all quantities which will become very useful when we discuss\n",
    "entanglement and in particular how to quantify it. In order to define\n",
    "these quantities we need first to remind ourselves about some basic linear\n",
    "algebra properties of hermitian operators and matrices."
   ]
  },
  {
   "cell_type": "markdown",
   "id": "8a01b64e",
   "metadata": {
    "editable": true
   },
   "source": [
    "## Basic properties of hermitian operators\n",
    "\n",
    "The operators we typically encounter in quantum mechanical studies\n",
    "1. Hermitian (self-adjoint) meaning that for example the elements of a Hermitian matrix $\\boldsymbol{U}$ obey $u_{ij}=u_{ji}^*$.\n",
    "\n",
    "2. Unitary $\\boldsymbol{U}\\boldsymbol{U}^{\\dagger}=\\boldsymbol{U}^{\\dagger}\\boldsymbol{U}=\\boldsymbol{I}$, where $\\boldsymbol{I}$ is the unit matrix\n",
    "\n",
    "3. The oparator $\\boldsymbol{U}$ and its self-adjoint commute (often labeled as normal operators), that is  $[\\boldsymbol{U},\\boldsymbol{U}^{\\dagger}]=0$. An operator is **normal** if and only if it is diagonalizable. A Hermitian operator is normal.\n",
    "\n",
    "Unitary operators in a Hilbert space preserve the norm and orthogonality. If $\\boldsymbol{U}$ is a unitary operator acting on a state $\\vert \\psi_j\\rangle$, the action of"
   ]
  },
  {
   "cell_type": "markdown",
   "id": "b13b9101",
   "metadata": {
    "editable": true
   },
   "source": [
    "$$\n",
    "\\vert \\phi_i\\rangle=\\boldsymbol{U}\\vert \\psi_j\\rangle,\n",
    "$$"
   ]
  },
  {
   "cell_type": "markdown",
   "id": "433d4fe4",
   "metadata": {
    "editable": true
   },
   "source": [
    "preserves both the norm and orthogonality, that is $\\langle \\phi_i \\vert \\phi_j\\rangle=\\langle \\psi_i \\vert \\psi_j\\rangle=\\delta_{ij}$, as discussed earlier.\n",
    "\n",
    "As example, consider the Pauli matrix $\\sigma_x$. We have already seen that this matrix is a unitary matrix. Consider then an orthogonal and normalized basis $\\vert 0\\rangle^{\\dagger} =\\begin{bmatrix} 1 &  0\\end{bmatrix}$ and $\\vert 1\\rangle^{\\dagger} =\\begin{bmatrix} 0 &  1\\end{bmatrix}$ and a state which is a linear superposition of these two basis states"
   ]
  },
  {
   "cell_type": "markdown",
   "id": "cb802022",
   "metadata": {
    "editable": true
   },
   "source": [
    "$$\n",
    "\\vert \\psi_a\\rangle=\\alpha_0\\vert 0\\rangle +\\alpha_1\\vert 1\\rangle.\n",
    "$$"
   ]
  },
  {
   "cell_type": "markdown",
   "id": "1827aadf",
   "metadata": {
    "editable": true
   },
   "source": [
    "A new state $\\vert \\psi_b\\rangle$ is given by"
   ]
  },
  {
   "cell_type": "markdown",
   "id": "8dabc2bc",
   "metadata": {
    "editable": true
   },
   "source": [
    "$$\n",
    "\\vert \\psi_b\\rangle=\\sigma_x\\vert \\psi_a\\rangle=\\alpha_0\\vert 1\\rangle +\\alpha_1\\vert 0\\rangle.\n",
    "$$"
   ]
  },
  {
   "cell_type": "markdown",
   "id": "171d9a90",
   "metadata": {
    "editable": true
   },
   "source": [
    "### Spectral Decomposition\n",
    "\n",
    "An important techanicality which we will use in the discussion of\n",
    "density matrices, entanglement, quantum entropies and other properties\n",
    "is the so-called spectral decomposition of an operator.\n",
    "\n",
    "Let $\\vert \\psi\\rangle$ be a vector in a Hilbert space of dimension $n$ and a hermitian operator $\\boldsymbol{A}$ defined in this\n",
    "space. Assume $\\vert \\psi\\rangle$ is an eigenvector of $\\boldsymbol{A}$ with eigenvalue $\\lambda$, that is"
   ]
  },
  {
   "cell_type": "markdown",
   "id": "d4127d7f",
   "metadata": {
    "editable": true
   },
   "source": [
    "$$\n",
    "\\boldsymbol{A}\\vert \\psi\\rangle = \\lambda\\vert \\psi\\rangle = \\lambda \\boldsymbol{I}\\vert \\psi \\rangle,\n",
    "$$"
   ]
  },
  {
   "cell_type": "markdown",
   "id": "12691068",
   "metadata": {
    "editable": true
   },
   "source": [
    "where we used $\\boldsymbol{I}\\vert \\psi \\rangle = 1 \\vert \\psi \\rangle$.\n",
    "Subtracting the right hand side from the left hand side gives"
   ]
  },
  {
   "cell_type": "markdown",
   "id": "2415ead9",
   "metadata": {
    "editable": true
   },
   "source": [
    "$$\n",
    "\\left[\\boldsymbol{A}-\\lambda \\boldsymbol{I}\\right]\\vert \\psi \\rangle=0,\n",
    "$$"
   ]
  },
  {
   "cell_type": "markdown",
   "id": "8ea6ad7c",
   "metadata": {
    "editable": true
   },
   "source": [
    "which has a nontrivial solution only if the determinant\n",
    "$\\mathrm{det}(\\boldsymbol{A}-\\lambda\\boldsymbol{I})=0$.\n",
    "\n",
    "We define now an orthonormal basis $\\vert i \\rangle =\\{\\vert 0\n",
    "\\rangle, \\vert 1\\rangle, \\dots, \\vert n-1\\rangle$ in the same Hilbert\n",
    "space. We will assume that this basis is an eigenbasis of $\\boldsymbol{A}$ with eigenvalues $\\lambda_i$\n",
    "\n",
    "We expand a new vector using this eigenbasis of $\\boldsymbol{A}$"
   ]
  },
  {
   "cell_type": "markdown",
   "id": "80445858",
   "metadata": {
    "editable": true
   },
   "source": [
    "$$\n",
    "\\vert \\psi \\rangle = \\sum_{i=0}^{n-1}\\alpha_i\\vert i\\rangle,\n",
    "$$"
   ]
  },
  {
   "cell_type": "markdown",
   "id": "044d0beb",
   "metadata": {
    "editable": true
   },
   "source": [
    "with the normalization condition $\\sum_{i=0}^{n-1}\\vert \\alpha_i\\vert^2$.\n",
    "Acting with $\\boldsymbol{A}$ on this new state results in"
   ]
  },
  {
   "cell_type": "markdown",
   "id": "1011bf8f",
   "metadata": {
    "editable": true
   },
   "source": [
    "$$\n",
    "\\boldsymbol{A}\\vert \\psi \\rangle = \\sum_{i=0}^{n-1}\\alpha_i\\boldsymbol{A}\\vert i\\rangle=\\sum_{i=0}^{n-1}\\alpha_i\\lambda_i\\vert i\\rangle.\n",
    "$$"
   ]
  },
  {
   "cell_type": "markdown",
   "id": "b564c2ad",
   "metadata": {
    "editable": true
   },
   "source": [
    "If we then use that the outer product of any state with itself defines a projection operator we have the projection operators"
   ]
  },
  {
   "cell_type": "markdown",
   "id": "2bf83188",
   "metadata": {
    "editable": true
   },
   "source": [
    "$$\n",
    "\\boldsymbol{P}_{\\psi} = \\vert \\psi\\rangle\\langle \\psi\\vert,\n",
    "$$"
   ]
  },
  {
   "cell_type": "markdown",
   "id": "b2eb5538",
   "metadata": {
    "editable": true
   },
   "source": [
    "and"
   ]
  },
  {
   "cell_type": "markdown",
   "id": "a5050c60",
   "metadata": {
    "editable": true
   },
   "source": [
    "$$\n",
    "\\boldsymbol{P}_{j} = \\vert j\\rangle\\langle j\\vert,\n",
    "$$"
   ]
  },
  {
   "cell_type": "markdown",
   "id": "2336f13c",
   "metadata": {
    "editable": true
   },
   "source": [
    "we have that"
   ]
  },
  {
   "cell_type": "markdown",
   "id": "f6858129",
   "metadata": {
    "editable": true
   },
   "source": [
    "$$\n",
    "\\boldsymbol{P}_{j}\\vert \\psi\\rangle=\\vert j\\rangle\\langle j\\vert\\sum_{i=0}^{n-1}\\alpha_i\\vert i\\rangle=\\sum_{i=0}^{n-1}\\alpha_i\\vert j\\rangle\\langle j\\vert i\\rangle,\n",
    "$$"
   ]
  },
  {
   "cell_type": "markdown",
   "id": "06536c11",
   "metadata": {
    "editable": true
   },
   "source": [
    "which results in"
   ]
  },
  {
   "cell_type": "markdown",
   "id": "06349e93",
   "metadata": {
    "editable": true
   },
   "source": [
    "$$\n",
    "\\boldsymbol{P}_{j}\\vert \\psi\\rangle=\\alpha_j\\vert j\\rangle,\n",
    "$$"
   ]
  },
  {
   "cell_type": "markdown",
   "id": "ad2ffe78",
   "metadata": {
    "editable": true
   },
   "source": [
    "since $\\langle j\\vert i\\rangle$.\n",
    "With the last equation we can rewrite"
   ]
  },
  {
   "cell_type": "markdown",
   "id": "031afb09",
   "metadata": {
    "editable": true
   },
   "source": [
    "$$\n",
    "\\boldsymbol{A}\\vert \\psi \\rangle = \\sum_{i=0}^{n-1}\\alpha_i\\lambda_i\\vert i\\rangle=\\sum_{i=0}^{n-1}\\lambda_i\\boldsymbol{P}_i\\vert \\psi\\rangle,\n",
    "$$"
   ]
  },
  {
   "cell_type": "markdown",
   "id": "0b2dda6b",
   "metadata": {
    "editable": true
   },
   "source": [
    "from which we conclude that"
   ]
  },
  {
   "cell_type": "markdown",
   "id": "056bfeac",
   "metadata": {
    "editable": true
   },
   "source": [
    "$$\n",
    "\\boldsymbol{A}=\\sum_{i=0}^{n-1}\\lambda_i\\boldsymbol{P}_i.\n",
    "$$"
   ]
  },
  {
   "cell_type": "markdown",
   "id": "e00dcef5",
   "metadata": {
    "editable": true
   },
   "source": [
    "This is the spectral decomposition of a hermitian and normal operator. It is true for any state and it is independent of the basis. The spectral decomposition can in turn be used to exhaustively specify a measurement, as we will see in the next section.\n",
    "\n",
    "As an example, consider two states $\\vert \\psi_a\\rangle$ and $\\vert\n",
    "\\psi_b\\rangle$ that are eigenstates of $\\boldsymbol{A}$ with eigenvalues\n",
    "$\\lambda_a$ and $\\lambda_b$, respectively. In the diagonalization\n",
    "process we have obtained the coefficients $\\alpha_0$, $\\alpha_1$,\n",
    "$\\beta_0$ and $\\beta_1$ using an expansion in terms of the orthogonal\n",
    "basis $\\vert 0\\rangle$ and $\\vert 1\\rangle$. That is we have"
   ]
  },
  {
   "cell_type": "markdown",
   "id": "ce2940ab",
   "metadata": {
    "editable": true
   },
   "source": [
    "$$\n",
    "\\vert \\psi_a\\rangle = \\alpha_0\\vert 0\\rangle+\\alpha_1\\vert 1\\rangle,\n",
    "$$"
   ]
  },
  {
   "cell_type": "markdown",
   "id": "23261c6e",
   "metadata": {
    "editable": true
   },
   "source": [
    "and"
   ]
  },
  {
   "cell_type": "markdown",
   "id": "ecb67e55",
   "metadata": {
    "editable": true
   },
   "source": [
    "$$\n",
    "\\vert \\psi_b\\rangle = \\beta_0\\vert 0\\rangle+\\beta_1\\vert 1\\rangle,\n",
    "$$"
   ]
  },
  {
   "cell_type": "markdown",
   "id": "7632ae22",
   "metadata": {
    "editable": true
   },
   "source": [
    "with corresponding projection operators"
   ]
  },
  {
   "cell_type": "markdown",
   "id": "b7665471",
   "metadata": {
    "editable": true
   },
   "source": [
    "$$\n",
    "\\boldsymbol{P}_a=\\vert \\psi_a\\rangle \\langle \\psi_a\\vert = \\begin{bmatrix} \\vert \\alpha_0\\vert^2 &\\alpha_0\\alpha_1^* \\\\\n",
    "                                                                   \\alpha_1\\alpha_0^* & \\vert \\alpha_1\\vert^* \\end{bmatrix},\n",
    "$$"
   ]
  },
  {
   "cell_type": "markdown",
   "id": "d647635a",
   "metadata": {
    "editable": true
   },
   "source": [
    "and"
   ]
  },
  {
   "cell_type": "markdown",
   "id": "e46ca6ac",
   "metadata": {
    "editable": true
   },
   "source": [
    "$$\n",
    "\\boldsymbol{P}_b=\\vert \\psi_b\\rangle \\langle \\psi_b\\vert = \\begin{bmatrix} \\vert \\beta_0\\vert^2 &\\beta_0\\beta_1^* \\\\\n",
    "                                                                   \\beta_1\\beta_0^* & \\vert \\beta_1\\vert^* \\end{bmatrix},\n",
    "$$"
   ]
  },
  {
   "cell_type": "markdown",
   "id": "86c7279f",
   "metadata": {
    "editable": true
   },
   "source": [
    "resulting in the following spectral decomposition of $\\boldsymbol{A}$"
   ]
  },
  {
   "cell_type": "markdown",
   "id": "581490cd",
   "metadata": {
    "editable": true
   },
   "source": [
    "$$\n",
    "\\boldsymbol{A}=\\lambda_a \\vert \\psi_a\\rangle \\langle \\psi_a\\vert+\\lambda_b \\vert \\psi_b\\rangle \\langle \\psi_b\\vert,\n",
    "$$"
   ]
  },
  {
   "cell_type": "markdown",
   "id": "8fe22642",
   "metadata": {
    "editable": true
   },
   "source": [
    "which written out in all its details reads"
   ]
  },
  {
   "cell_type": "markdown",
   "id": "d4b9e603",
   "metadata": {
    "editable": true
   },
   "source": [
    "$$\n",
    "\\boldsymbol{A}=\\lambda_a\\begin{bmatrix} \\vert \\alpha_0\\vert^2 &\\alpha_0\\alpha_1^* \\\\\n",
    "                                                                   \\alpha_1\\alpha_0^* & \\vert \\alpha_1\\vert^* \\end{bmatrix} +\\lambda_b\\begin{bmatrix} \\vert \\beta_0\\vert^2 &\\beta_0\\beta_1^* \\\\\n",
    "                                                                   \\beta_1\\beta_0^* & \\vert \\beta_1\\vert^* \\end{bmatrix}.\n",
    "$$"
   ]
  },
  {
   "cell_type": "markdown",
   "id": "d327e34d",
   "metadata": {
    "editable": true
   },
   "source": [
    "## Measurements\n",
    "\n",
    "Armed with the spectral decomposition, we are now ready to discuss how\n",
    "to compute measurements of observables.  When we make a measurement,\n",
    "quantum mechanics postulates that mutually exclusive measurement\n",
    "outcomes correspond to orthogonal projection operators.\n",
    "\n",
    "We assume now we can contruct a series of such orthogonal operators based on $\\vert i \\rangle \\in \\{\\vert 0\\rangle, \\vert 1\\rangle,\\dots, \\vert n-1\\rangle$ computational basis states. These projection operators $\\boldsymbol{P}_0,\\boldsymbol{P}_1,\\dots,\\boldsymbol{P}_{n-1}$ are all idempotent and sum to one"
   ]
  },
  {
   "cell_type": "markdown",
   "id": "51c86899",
   "metadata": {
    "editable": true
   },
   "source": [
    "$$\n",
    "\\sum_{i=0}^{n-1}\\boldsymbol{P}_i=\\boldsymbol{I}.\n",
    "$$"
   ]
  },
  {
   "cell_type": "markdown",
   "id": "5cb07c56",
   "metadata": {
    "editable": true
   },
   "source": [
    "As an example, consider the basis of two qubits $\\vert 0\\rangle$ and $\\vert 1\\rangle$ with the corresponding sum"
   ]
  },
  {
   "cell_type": "markdown",
   "id": "94252382",
   "metadata": {
    "editable": true
   },
   "source": [
    "$$\n",
    "\\sum_{i=0}^{1}\\boldsymbol{P}_i=\\begin{bmatrix} 1 & 0 \\\\ 0 & 1\\end{bmatrix}.\n",
    "$$"
   ]
  },
  {
   "cell_type": "markdown",
   "id": "b7e9955f",
   "metadata": {
    "editable": true
   },
   "source": [
    "Based on the spectral decomposition discussed above, we can define the probability of eigenvalue $\\lambda_i$ as"
   ]
  },
  {
   "cell_type": "markdown",
   "id": "65bd3164",
   "metadata": {
    "editable": true
   },
   "source": [
    "$$\n",
    "\\mathrm{Prob}(\\lambda_i) = \\vert \\boldsymbol{P}_i\\vert \\psi\\rangle\\vert^2,\n",
    "$$"
   ]
  },
  {
   "cell_type": "markdown",
   "id": "fc38062c",
   "metadata": {
    "editable": true
   },
   "source": [
    "where $\\vert \\psi_a\\rangle$ is a quantum state representing the system prior to a specific measurement.\n",
    "We can rewrite this as"
   ]
  },
  {
   "cell_type": "markdown",
   "id": "3180fdb5",
   "metadata": {
    "editable": true
   },
   "source": [
    "$$\n",
    "\\mathrm{Prob}(\\lambda_i) = \\langle \\psi\\vert \\boldsymbol{P}_i^{\\dagger}\\boldsymbol{P}_i\\vert \\psi\\rangle =\\langle \\psi\\vert \\boldsymbol{P}_i\\vert \\psi\\rangle.\n",
    "$$"
   ]
  },
  {
   "cell_type": "markdown",
   "id": "582a94b5",
   "metadata": {
    "editable": true
   },
   "source": [
    "The total probability for all measurements is the sum overt all probabilities"
   ]
  },
  {
   "cell_type": "markdown",
   "id": "a756acfc",
   "metadata": {
    "editable": true
   },
   "source": [
    "$$\n",
    "\\sum_{i=0}^{n-1}\\mathrm{Prob}(\\lambda_i)=1.\n",
    "$$"
   ]
  },
  {
   "cell_type": "markdown",
   "id": "f27e672f",
   "metadata": {
    "editable": true
   },
   "source": [
    "We can in turn define the post-measurement normalized pure quantum state as, for the specific outcome $\\lambda_i$, as"
   ]
  },
  {
   "cell_type": "markdown",
   "id": "87b79dca",
   "metadata": {
    "editable": true
   },
   "source": [
    "$$\n",
    "\\vert \\psi'\\rangle = \\frac{\\boldsymbol{P}_i\\vert \\psi\\rangle}{\\sqrt{\\langle \\psi \\vert \\boldsymbol{P}_i\\vert \\psi\\rangle}}.\n",
    "$$"
   ]
  },
  {
   "cell_type": "markdown",
   "id": "e0dc6d40",
   "metadata": {
    "editable": true
   },
   "source": [
    "As an example, consider the binary system states $\\vert 0\\rangle$ and $\\vert 1\\rangle$ with corresponding projection operators"
   ]
  },
  {
   "cell_type": "markdown",
   "id": "b8b1a0d3",
   "metadata": {
    "editable": true
   },
   "source": [
    "$$\n",
    "\\boldsymbol{P}_0 =\\vert 0 \\rangle \\langle 0\\vert,\n",
    "$$"
   ]
  },
  {
   "cell_type": "markdown",
   "id": "972298e3",
   "metadata": {
    "editable": true
   },
   "source": [
    "and"
   ]
  },
  {
   "cell_type": "markdown",
   "id": "3cd52685",
   "metadata": {
    "editable": true
   },
   "source": [
    "$$\n",
    "\\boldsymbol{P}_1 =\\vert 1 \\rangle \\langle 1\\vert,\n",
    "$$"
   ]
  },
  {
   "cell_type": "markdown",
   "id": "3f961455",
   "metadata": {
    "editable": true
   },
   "source": [
    "with the properties"
   ]
  },
  {
   "cell_type": "markdown",
   "id": "41bc6528",
   "metadata": {
    "editable": true
   },
   "source": [
    "$$\n",
    "\\sum_{i=0}^1\\boldsymbol{P}_i^{\\dagger}\\boldsymbol{P}_1=\\boldsymbol{I},\n",
    "$$"
   ]
  },
  {
   "cell_type": "markdown",
   "id": "031f508c",
   "metadata": {
    "editable": true
   },
   "source": [
    "$$\n",
    "\\boldsymbol{P}_0^{\\dagger}\\boldsymbol{P}_0=\\boldsymbol{P}_0^2=\\boldsymbol{P}_0,\n",
    "$$"
   ]
  },
  {
   "cell_type": "markdown",
   "id": "5be4b816",
   "metadata": {
    "editable": true
   },
   "source": [
    "and"
   ]
  },
  {
   "cell_type": "markdown",
   "id": "d7242deb",
   "metadata": {
    "editable": true
   },
   "source": [
    "$$\n",
    "\\boldsymbol{P}_1^{\\dagger}\\boldsymbol{P}_1=\\boldsymbol{P}_1^2=\\boldsymbol{P}_1.\n",
    "$$"
   ]
  },
  {
   "cell_type": "markdown",
   "id": "fc0c1e81",
   "metadata": {
    "editable": true
   },
   "source": [
    "Assume thereafter that we have a state $\\vert \\psi\\rangle$ which is a superposition of the above two qubit states"
   ]
  },
  {
   "cell_type": "markdown",
   "id": "c198e18c",
   "metadata": {
    "editable": true
   },
   "source": [
    "$$\n",
    "\\vert \\psi \\rangle = \\alpha\\vert 0 \\rangle + \\beta \\vert 1\\rangle.\n",
    "$$"
   ]
  },
  {
   "cell_type": "markdown",
   "id": "fe5612b7",
   "metadata": {
    "editable": true
   },
   "source": [
    "The probability of finding either $\\vert 0\\rangle$ or $\\vert 1\\rangle$ is then"
   ]
  },
  {
   "cell_type": "markdown",
   "id": "16d258de",
   "metadata": {
    "editable": true
   },
   "source": [
    "$$\n",
    "\\boldsymbol{P}_{\\psi(0)}=\\langle \\psi\\vert \\boldsymbol{P}_0^{\\dagger}\\boldsymbol{P}_0\\vert \\psi\\rangle=\\vert \\alpha\\vert^2,\n",
    "$$"
   ]
  },
  {
   "cell_type": "markdown",
   "id": "d185df9b",
   "metadata": {
    "editable": true
   },
   "source": [
    "and similarly we have"
   ]
  },
  {
   "cell_type": "markdown",
   "id": "0f6db809",
   "metadata": {
    "editable": true
   },
   "source": [
    "$$\n",
    "\\boldsymbol{P}_{\\psi(1)}=\\langle \\psi\\vert \\boldsymbol{P}_1^{\\dagger}\\boldsymbol{P}_1\\vert \\psi\\rangle=\\vert \\beta\\vert^2.\n",
    "$$"
   ]
  },
  {
   "cell_type": "markdown",
   "id": "90356237",
   "metadata": {
    "editable": true
   },
   "source": [
    "If we set"
   ]
  },
  {
   "cell_type": "markdown",
   "id": "93c67913",
   "metadata": {
    "editable": true
   },
   "source": [
    "$$\n",
    "\\vert \\psi \\rangle = \\frac{1}{\\sqrt{2}}\\left(\\vert 0 \\rangle + \\vert 1\\rangle\\right),\n",
    "$$"
   ]
  },
  {
   "cell_type": "markdown",
   "id": "8b2d0f88",
   "metadata": {
    "editable": true
   },
   "source": [
    "we have $\\vert \\alpha\\vert^2=\\vert \\beta\\vert^2=1/2$. In general for this system we have"
   ]
  },
  {
   "cell_type": "markdown",
   "id": "6eea7e7a",
   "metadata": {
    "editable": true
   },
   "source": [
    "$$\n",
    "\\vert \\psi'_0\\rangle = \\frac{\\boldsymbol{P}_0\\vert \\psi\\rangle}{\\sqrt{\\langle \\psi \\vert \\boldsymbol{P}_0\\vert \\psi\\rangle}}=\\frac{\\alpha}{\\vert \\alpha\\vert}\\vert 0 \\rangle,\n",
    "$$"
   ]
  },
  {
   "cell_type": "markdown",
   "id": "02da2a50",
   "metadata": {
    "editable": true
   },
   "source": [
    "and"
   ]
  },
  {
   "cell_type": "markdown",
   "id": "7d80e383",
   "metadata": {
    "editable": true
   },
   "source": [
    "$$\n",
    "\\vert \\psi'_1\\rangle = \\frac{\\boldsymbol{P}_1\\vert \\psi\\rangle}{\\sqrt{\\langle \\psi \\vert \\boldsymbol{P}_1\\vert \\psi\\rangle}}=\\frac{\\beta}{\\vert \\beta\\vert}\\vert 1 \\rangle.\n",
    "$$"
   ]
  },
  {
   "cell_type": "markdown",
   "id": "90dbeaec",
   "metadata": {
    "editable": true
   },
   "source": [
    "In general we have that"
   ]
  },
  {
   "cell_type": "markdown",
   "id": "d6bf3e88",
   "metadata": {
    "editable": true
   },
   "source": [
    "$$\n",
    "\\boldsymbol{P}_{\\psi(x)}=\\langle \\psi\\vert \\boldsymbol{P}_x^{\\dagger}\\boldsymbol{P}_x\\vert \\psi\\rangle,,\n",
    "$$"
   ]
  },
  {
   "cell_type": "markdown",
   "id": "755c2ecd",
   "metadata": {
    "editable": true
   },
   "source": [
    "which we can rewrite as"
   ]
  },
  {
   "cell_type": "markdown",
   "id": "8c511728",
   "metadata": {
    "editable": true
   },
   "source": [
    "$$\n",
    "\\mathrm{Prob}(\\psi(x))=\\mathrm{Tr}\\left[\\boldsymbol{P}_x^{\\dagger}\\boldsymbol{P}_x\\vert \\psi\\rangle\\langle \\psi\\vert\\right].\n",
    "$$"
   ]
  },
  {
   "cell_type": "markdown",
   "id": "fe4f4124",
   "metadata": {
    "editable": true
   },
   "source": [
    "The last equation can be understood better through the following example with a state $\\vert \\psi\\rangle$"
   ]
  },
  {
   "cell_type": "markdown",
   "id": "798f7cf0",
   "metadata": {
    "editable": true
   },
   "source": [
    "$$\n",
    "\\vert \\psi \\rangle = \\alpha \\vert 0\\rangle+\\beta \\vert 1\\rangle,\n",
    "$$"
   ]
  },
  {
   "cell_type": "markdown",
   "id": "0bc66278",
   "metadata": {
    "editable": true
   },
   "source": [
    "which results in a projection operator"
   ]
  },
  {
   "cell_type": "markdown",
   "id": "914455be",
   "metadata": {
    "editable": true
   },
   "source": [
    "$$\n",
    "\\vert \\psi \\rangle\\langle \\psi\\vert = \\begin{bmatrix} \\vert \\alpha \\vert^2 & \\alpha\\beta^* \\\\ \\alpha^*\\beta & \\vert\\beta\\vert^2\\end{bmatrix}.\n",
    "$$"
   ]
  },
  {
   "cell_type": "markdown",
   "id": "8fb85d88",
   "metadata": {
    "editable": true
   },
   "source": [
    "We have that"
   ]
  },
  {
   "cell_type": "markdown",
   "id": "87e97c1a",
   "metadata": {
    "editable": true
   },
   "source": [
    "$$\n",
    "\\boldsymbol{P}_0^{\\dagger}\\boldsymbol{P}_0=\\boldsymbol{P}_0=\\begin{bmatrix} 1 & 0 \\\\ 0 & 0\\end{bmatrix},\n",
    "$$"
   ]
  },
  {
   "cell_type": "markdown",
   "id": "40ca1ec1",
   "metadata": {
    "editable": true
   },
   "source": [
    "and computing the matrix product $\\boldsymbol{P}_0\\vert\\psi\\rangle\\langle \\psi\\vert$ gives"
   ]
  },
  {
   "cell_type": "markdown",
   "id": "d1577511",
   "metadata": {
    "editable": true
   },
   "source": [
    "$$\n",
    "\\boldsymbol{P}_0\\vert\\psi\\rangle\\langle \\psi\\vert=\\begin{bmatrix} 1 & 0 \\\\ 0 & 0\\end{bmatrix}\\begin{bmatrix} \\vert \\alpha \\vert^2 & \\alpha\\beta^* \\\\ \\alpha^*\\beta & \\vert\\beta\\vert^2\\end{bmatrix}=\\begin{bmatrix} \\vert \\alpha \\vert^2 & \\alpha\\beta^* \\\\ 0 & 0\\end{bmatrix},\n",
    "$$"
   ]
  },
  {
   "cell_type": "markdown",
   "id": "161cbc48",
   "metadata": {
    "editable": true
   },
   "source": [
    "and taking the trace of this matrix, that is computing"
   ]
  },
  {
   "cell_type": "markdown",
   "id": "8ad9c18c",
   "metadata": {
    "editable": true
   },
   "source": [
    "$$\n",
    "\\mathrm{Prob}(\\psi(0))=\\mathrm{Tr}\\left[\\boldsymbol{P}_0^{\\dagger}\\boldsymbol{P}_0\\vert \\psi\\rangle\\langle \\psi\\vert\\right]=\\vert \\alpha\\vert^2,\n",
    "$$"
   ]
  },
  {
   "cell_type": "markdown",
   "id": "adf92783",
   "metadata": {
    "editable": true
   },
   "source": [
    "we obtain the same results as the one we had earlier by computing\n",
    "the probabliblity for $0$ given by the expression"
   ]
  },
  {
   "cell_type": "markdown",
   "id": "afcfe093",
   "metadata": {
    "editable": true
   },
   "source": [
    "$$\n",
    "\\boldsymbol{P}_{\\psi(0)}=\\langle \\psi\\vert \\boldsymbol{P}_0^{\\dagger}\\boldsymbol{P}_0\\vert \\psi\\rangle=\\vert \\alpha\\vert^2.\n",
    "$$"
   ]
  },
  {
   "cell_type": "markdown",
   "id": "0a81067b",
   "metadata": {
    "editable": true
   },
   "source": [
    "It is straight forward to show that"
   ]
  },
  {
   "cell_type": "markdown",
   "id": "07a4550e",
   "metadata": {
    "editable": true
   },
   "source": [
    "$$\n",
    "\\mathrm{Prob}(\\psi(1))=\\mathrm{Tr}\\left[\\boldsymbol{P}_1^{\\dagger}\\boldsymbol{P}_1\\vert \\psi\\rangle\\langle \\psi\\vert\\right]=\\vert \\beta\\vert^2,\n",
    "$$"
   ]
  },
  {
   "cell_type": "markdown",
   "id": "3d519351",
   "metadata": {
    "editable": true
   },
   "source": [
    "which we also could have obtained by computing"
   ]
  },
  {
   "cell_type": "markdown",
   "id": "312f731c",
   "metadata": {
    "editable": true
   },
   "source": [
    "$$\n",
    "\\boldsymbol{P}_{\\psi(1)}=\\langle \\psi\\vert \\boldsymbol{P}_1^{\\dagger}\\boldsymbol{P}_1\\vert \\psi\\rangle=\\vert \\beta\\vert^2.\n",
    "$$"
   ]
  },
  {
   "cell_type": "markdown",
   "id": "6c6f3589",
   "metadata": {
    "editable": true
   },
   "source": [
    "We can now extend these expressions to the complete ensemble of measurements. Using the spectral decomposition we have that the probability of an outcome $p(x)$ is"
   ]
  },
  {
   "cell_type": "markdown",
   "id": "85dac12f",
   "metadata": {
    "editable": true
   },
   "source": [
    "$$\n",
    "p(x)=\\sum_{i=0}^{n-1}p_i\\boldsymbol{P}_{\\psi_i(x)},\n",
    "$$"
   ]
  },
  {
   "cell_type": "markdown",
   "id": "1da7ebde",
   "metadata": {
    "editable": true
   },
   "source": [
    "where $p_i$ are the probabilities of a specific outcome.  Add later a digression on marginal probabilities.\n",
    "\n",
    "With these prerequisites we are now ready to introduce the density  matrices, or density operators."
   ]
  },
  {
   "cell_type": "markdown",
   "id": "4551cb9d",
   "metadata": {
    "editable": true
   },
   "source": [
    "## Density matrices/operators\n",
    "\n",
    "The last equation can be rewritten as"
   ]
  },
  {
   "cell_type": "markdown",
   "id": "6d275bbd",
   "metadata": {
    "editable": true
   },
   "source": [
    "$$\n",
    "p(x)=\\sum_{i=0}^{n-1}p_i\\boldsymbol{P}_{\\psi_i(x)}=\\sum_{i=0}^{n-1}p_i\\mathrm{Tr}\\left[\\boldsymbol{P}_x^{\\dagger}\\boldsymbol{P}_x\\vert \\psi_i\\rangle\\langle \\psi_i\\vert\\right],\n",
    "$$"
   ]
  },
  {
   "cell_type": "markdown",
   "id": "1fdab9fd",
   "metadata": {
    "editable": true
   },
   "source": [
    "and we define the **density matrix/operator** as"
   ]
  },
  {
   "cell_type": "markdown",
   "id": "d8b2b1e6",
   "metadata": {
    "editable": true
   },
   "source": [
    "$$\n",
    "\\rho=\\sum_{i=0}^{n-1}p_i\\vert \\psi_i\\rangle\\langle \\psi_i\\vert,\n",
    "$$"
   ]
  },
  {
   "cell_type": "markdown",
   "id": "01ff8128",
   "metadata": {
    "editable": true
   },
   "source": [
    "we can rewrite the first equation above as"
   ]
  },
  {
   "cell_type": "markdown",
   "id": "4251892a",
   "metadata": {
    "editable": true
   },
   "source": [
    "$$\n",
    "p(x)=\\mathrm{Tr}\\left[\\boldsymbol{P}_x^{\\dagger}\\boldsymbol{P}_x\\rho\\right].\n",
    "$$"
   ]
  },
  {
   "cell_type": "markdown",
   "id": "9dcb60d6",
   "metadata": {
    "editable": true
   },
   "source": [
    "If we can define the state of a system in terms of the density matrix, the probability of a specific outcome is then given by"
   ]
  },
  {
   "cell_type": "markdown",
   "id": "be9e8da1",
   "metadata": {
    "editable": true
   },
   "source": [
    "$$\n",
    "p(x)_{\\rho}=\\mathrm{Tr}\\left[\\boldsymbol{P}_x^{\\dagger}\\boldsymbol{P}_x\\rho\\right].\n",
    "$$"
   ]
  },
  {
   "cell_type": "markdown",
   "id": "1e16b9f7",
   "metadata": {
    "editable": true
   },
   "source": [
    "A density matrix in a Hilbert space with $n$ states has the following properties (which we state without proof)\n",
    "1. There exists a probability $p_i\\geq 0$ with $\\sum_ip_i=1$,\n",
    "\n",
    "2. There exists an orthonormal basis $\\psi_i$ such that we can define $\\rho=\\sum_ip_i\\vert\\psi_i\\rangle\\langle \\psi_i\\vert$,\n",
    "\n",
    "3. We have $0 \\leq \\rho^2\\leq 1$ and\n",
    "\n",
    "4. The norm $\\vert\\vert \\rho \\vert\\vert_2\\leq 1$.\n",
    "\n",
    "With the density matrix we can also define the state the system collapses to after a measurement, namely"
   ]
  },
  {
   "cell_type": "markdown",
   "id": "763c74f8",
   "metadata": {
    "editable": true
   },
   "source": [
    "$$\n",
    "\\rho'_x=\\frac{\\boldsymbol{P}_x\\rho\\boldsymbol{P}_x^{\\dagger}}{\\mathrm{Tr}[\\boldsymbol{P}_x^{\\dagger}\\boldsymbol{P}_x\\rho]}.\n",
    "$$"
   ]
  },
  {
   "cell_type": "markdown",
   "id": "95ce950b",
   "metadata": {
    "editable": true
   },
   "source": [
    "In order to study entanglement and why it is so important for quantum\n",
    "computing, we need to introduce some basic measures and useful\n",
    "quantities.  For these endeavors, we  will use our two-qubit system from\n",
    "the second lecture in order to introduce, through examples, density\n",
    "matrices and entropy. These two quantities, together with\n",
    "technicalities like the Schmidt decomposition define important quantities in analyzing quantum computing examples.\n",
    "\n",
    "The Schmidt decomposition is again a\n",
    "linear decompostions which allows us to express a vector in terms of\n",
    "tensor product of two inner product spaces. In quantum information\n",
    "theory and quantum computing it is widely used as away to define and\n",
    "describe entanglement."
   ]
  },
  {
   "cell_type": "markdown",
   "id": "04190edb",
   "metadata": {
    "editable": true
   },
   "source": [
    "## First entanglement encounter"
   ]
  },
  {
   "cell_type": "markdown",
   "id": "569c46c9",
   "metadata": {
    "editable": true
   },
   "source": [
    "### Two-qubit system\n",
    "\n",
    "This system can be thought of as composed of two subsystems\n",
    "$A$ and $B$. Each subsystem has computational basis states"
   ]
  },
  {
   "cell_type": "markdown",
   "id": "a7da8e92",
   "metadata": {
    "editable": true
   },
   "source": [
    "$$\n",
    "\\vert 0\\rangle_{\\mathrm{A,B}}=\\begin{bmatrix} 1 & 0\\end{bmatrix}^T \\hspace{1cm} \\vert 1\\rangle_{\\mathrm{A,B}}=\\begin{bmatrix} 0 & 1\\end{bmatrix}^T.\n",
    "$$"
   ]
  },
  {
   "cell_type": "markdown",
   "id": "96ff8a56",
   "metadata": {
    "editable": true
   },
   "source": [
    "The subsystems could represent single particles or composite many-particle systems of a given symmetry.\n",
    "This leads to the many-body computational basis states"
   ]
  },
  {
   "cell_type": "markdown",
   "id": "a3c94d49",
   "metadata": {
    "editable": true
   },
   "source": [
    "$$\n",
    "\\vert 00\\rangle = \\vert 0\\rangle_{\\mathrm{A}}\\otimes \\vert 0\\rangle_{\\mathrm{B}}=\\begin{bmatrix} 1 & 0 & 0 &0\\end{bmatrix}^T,\n",
    "$$"
   ]
  },
  {
   "cell_type": "markdown",
   "id": "2d57d137",
   "metadata": {
    "editable": true
   },
   "source": [
    "and"
   ]
  },
  {
   "cell_type": "markdown",
   "id": "e7c11b9c",
   "metadata": {
    "editable": true
   },
   "source": [
    "$$\n",
    "\\vert 01\\rangle = \\vert 0\\rangle_{\\mathrm{A}}\\otimes \\vert 1\\rangle_{\\mathrm{B}}=\\begin{bmatrix} 0 & 1 & 0 &0\\end{bmatrix}^T,\n",
    "$$"
   ]
  },
  {
   "cell_type": "markdown",
   "id": "9c67e040",
   "metadata": {
    "editable": true
   },
   "source": [
    "and"
   ]
  },
  {
   "cell_type": "markdown",
   "id": "754335aa",
   "metadata": {
    "editable": true
   },
   "source": [
    "$$\n",
    "\\vert 10\\rangle = \\vert 1\\rangle_{\\mathrm{A}}\\otimes \\vert 0\\rangle_{\\mathrm{B}}=\\begin{bmatrix} 0 & 0 & 1 &0\\end{bmatrix}^T,\n",
    "$$"
   ]
  },
  {
   "cell_type": "markdown",
   "id": "78a34725",
   "metadata": {
    "editable": true
   },
   "source": [
    "and finally"
   ]
  },
  {
   "cell_type": "markdown",
   "id": "e6d7ee75",
   "metadata": {
    "editable": true
   },
   "source": [
    "$$\n",
    "\\vert 11\\rangle = \\vert 1\\rangle_{\\mathrm{A}}\\otimes \\vert 1\\rangle_{\\mathrm{B}}=\\begin{bmatrix} 0 & 0 & 0 &1\\end{bmatrix}^T.\n",
    "$$"
   ]
  },
  {
   "cell_type": "markdown",
   "id": "14fb904d",
   "metadata": {
    "editable": true
   },
   "source": [
    "### Bell states\n",
    "\n",
    "The above computational basis states, which define an ONB, can in turn\n",
    "be used to define another ONB. As an example, consider the so-called\n",
    "Bell states"
   ]
  },
  {
   "cell_type": "markdown",
   "id": "e48882fa",
   "metadata": {
    "editable": true
   },
   "source": [
    "$$\n",
    "\\vert \\Phi^+\\rangle = \\frac{1}{\\sqrt{2}}\\left[\\vert 00\\rangle +\\vert 11\\rangle\\right]=\\frac{1}{\\sqrt{2}}\\begin{bmatrix} 1 \\\\ 0 \\\\ 0 \\\\ 1\\end{bmatrix},\n",
    "$$"
   ]
  },
  {
   "cell_type": "markdown",
   "id": "3669135a",
   "metadata": {
    "editable": true
   },
   "source": [
    "$$\n",
    "\\vert \\Phi^-\\rangle = \\frac{1}{\\sqrt{2}}\\left[\\vert 00\\rangle -\\vert 11\\rangle\\right]=\\frac{1}{\\sqrt{2}}\\begin{bmatrix} 1 \\\\ 0 \\\\ 0 \\\\ -1\\end{bmatrix},\n",
    "$$"
   ]
  },
  {
   "cell_type": "markdown",
   "id": "47938d4b",
   "metadata": {
    "editable": true
   },
   "source": [
    "$$\n",
    "\\vert \\Psi^+\\rangle = \\frac{1}{\\sqrt{2}}\\left[\\vert 10\\rangle +\\vert 01\\rangle\\right]=\\frac{1}{\\sqrt{2}}\\begin{bmatrix} 0 \\\\ 1 \\\\ 1 \\\\ 0\\end{bmatrix},\n",
    "$$"
   ]
  },
  {
   "cell_type": "markdown",
   "id": "ae3332ff",
   "metadata": {
    "editable": true
   },
   "source": [
    "and"
   ]
  },
  {
   "cell_type": "markdown",
   "id": "67f6238a",
   "metadata": {
    "editable": true
   },
   "source": [
    "$$\n",
    "\\vert \\Psi^-\\rangle = \\frac{1}{\\sqrt{2}}\\left[\\vert 10\\rangle -\\vert 01\\rangle\\right]=\\frac{1}{\\sqrt{2}}\\begin{bmatrix} 0 \\\\ 1 \\\\ -1 \\\\ 0\\end{bmatrix}.\n",
    "$$"
   ]
  },
  {
   "cell_type": "markdown",
   "id": "353d1f1c",
   "metadata": {
    "editable": true
   },
   "source": [
    "It is easy to convince oneself that these states also form an orthonormal basis. \n",
    "\n",
    "Measuring one of the qubits of one of the above Bell states,\n",
    "automatically determines, as we will see below, the state of the\n",
    "second quabit. To convince ourselves about this, let us assume we perform a measurement on the qubit in system $A$ by introducing the projections with outcomes $0$ or $1$ as"
   ]
  },
  {
   "cell_type": "markdown",
   "id": "1f8c7718",
   "metadata": {
    "editable": true
   },
   "source": [
    "$$\n",
    "\\boldsymbol{P}_0=\\vert 0\\rangle\\langle 0\\vert_A\\otimes \\boldsymbol{I}_B=\\begin{bmatrix} 1 & 0\\\\ 0 & 0\\end{bmatrix}\\otimes\\begin{bmatrix} 1& 0 \\\\ 0 & 1\\end{bmatrix}=\\begin{bmatrix} 1 & 0 & 0 & 0 \\\\ 0 & 1 & 0 & 0 \\\\ 0 & 0 & 0 & 0 \\\\ 0 & 0 & 0 & 0\\end{bmatrix},\n",
    "$$"
   ]
  },
  {
   "cell_type": "markdown",
   "id": "bb8ecb15",
   "metadata": {
    "editable": true
   },
   "source": [
    "for the projection of the $\\vert 0 \\rangle$ state in system $A$ and similarly"
   ]
  },
  {
   "cell_type": "markdown",
   "id": "8abec120",
   "metadata": {
    "editable": true
   },
   "source": [
    "$$\n",
    "\\boldsymbol{P}_1=\\vert 1\\rangle\\langle 1\\vert_A\\otimes \\boldsymbol{I}_B=\\begin{bmatrix} 0 & 0\\\\ 0 & 1\\end{bmatrix}\\otimes\\begin{bmatrix} 1& 0 \\\\ 0 & 1\\end{bmatrix}=\\begin{bmatrix} 0 & 0 & 0 & 0 \\\\ 0 & 0 & 0 & 0 \\\\ 0 & 0 & 1 & 0 \\\\ 0 & 0 & 0 & 1\\end{bmatrix},\n",
    "$$"
   ]
  },
  {
   "cell_type": "markdown",
   "id": "c605e4de",
   "metadata": {
    "editable": true
   },
   "source": [
    "for the projection of the $\\vert 1 \\rangle$ state in system $A$.\n",
    "\n",
    "We can then calculate the probability for the various outcomes by\n",
    "computing for example the probability for measuring qubit $0$"
   ]
  },
  {
   "cell_type": "markdown",
   "id": "74907c73",
   "metadata": {
    "editable": true
   },
   "source": [
    "$$\n",
    "\\langle \\Phi^+\\vert \\boldsymbol{P}_0\\vert \\Phi^+\\rangle = \\frac{1}{2} \\left[\\langle 00\\vert +\\langle 11\\vert\\right]\\begin{bmatrix} 1 & 0 & 0 & 0 \\\\ 0 & 1 & 0 & 0 \\\\ 0 & 0 & 0 & 0 \\\\ 0 & 0 & 0 & 0\\end{bmatrix}\\left[\\vert 00\\rangle +\\vert 11\\rangle\\right]=\\frac{1}{2}.\n",
    "$$"
   ]
  },
  {
   "cell_type": "markdown",
   "id": "23afb7d2",
   "metadata": {
    "editable": true
   },
   "source": [
    "Similarly, we obtain"
   ]
  },
  {
   "cell_type": "markdown",
   "id": "ad05cef6",
   "metadata": {
    "editable": true
   },
   "source": [
    "$$\n",
    "\\langle \\Phi^+\\vert \\boldsymbol{P}_1\\vert \\Phi^+\\rangle = \\frac{1}{2}\\left[\\langle 00\\vert +\\langle 11\\vert\\right]\\begin{bmatrix} 0 & 0 & 0 & 0 \\\\ 0 & 0 & 0 & 0 \\\\ 0 & 0 & 1 & 0 \\\\ 0 & 0 & 0 & 1\\end{bmatrix}\\left[\\vert 00\\rangle +\\vert 11\\rangle\\right]=\\frac{1}{2}.\n",
    "$$"
   ]
  },
  {
   "cell_type": "markdown",
   "id": "ea858ccc",
   "metadata": {
    "editable": true
   },
   "source": [
    "After the above measurements the system is in the states"
   ]
  },
  {
   "cell_type": "markdown",
   "id": "3bd8cbf4",
   "metadata": {
    "editable": true
   },
   "source": [
    "$$\n",
    "\\vert \\Phi'_0 \\rangle = \\sqrt{2}\\left[\\vert 0\\rangle\\langle 0\\vert_A\\otimes \\boldsymbol{I}_B\\right]\\vert\\Phi^+\\rangle=\\vert 00\\rangle,\n",
    "$$"
   ]
  },
  {
   "cell_type": "markdown",
   "id": "96686055",
   "metadata": {
    "editable": true
   },
   "source": [
    "and"
   ]
  },
  {
   "cell_type": "markdown",
   "id": "99ebdcfb",
   "metadata": {
    "editable": true
   },
   "source": [
    "$$\n",
    "\\vert \\Phi'_1 \\rangle = \\sqrt{2}\\left[\\vert 1\\rangle\\langle 1\\vert_A\\otimes \\boldsymbol{I}_B\\right]\\vert\\Phi^+\\rangle=\\vert 11\\rangle.\n",
    "$$"
   ]
  },
  {
   "cell_type": "markdown",
   "id": "f983d292",
   "metadata": {
    "editable": true
   },
   "source": [
    "We see from the last two equations that the state of the second qubit\n",
    "is determined even though the measurement has only taken place locally\n",
    "on system $A$.\n",
    "\n",
    "If we on the other hand consider a state like"
   ]
  },
  {
   "cell_type": "markdown",
   "id": "e199d53d",
   "metadata": {
    "editable": true
   },
   "source": [
    "$$\n",
    "\\vert 00 \\rangle = \\vert 0\\rangle_A\\otimes \\vert 0\\rangle_B,\n",
    "$$"
   ]
  },
  {
   "cell_type": "markdown",
   "id": "32c1c495",
   "metadata": {
    "editable": true
   },
   "source": [
    "this is a pure product state of the single-qubit, or single-particle\n",
    "states, of two qubits (particles) in system $A$ and system $B$,\n",
    "respectively. We call such a state for a **pure state**.  Quantum states\n",
    "that cannot be written as a mixture of other states are called pure\n",
    "quantum states, while all other states are called mixed quantum states.\n",
    "\n",
    "A state like one of the Bell states (where we introduce the subscript $AB$ to indicate that the state is composed of single states from two subsystem)"
   ]
  },
  {
   "cell_type": "markdown",
   "id": "0b1f1e36",
   "metadata": {
    "editable": true
   },
   "source": [
    "$$\n",
    "\\vert \\Phi^+\\rangle = \\frac{1}{\\sqrt{2}}\\left[\\vert 00\\rangle_{AB} +\\vert 11\\rangle_{AB}\\right],\n",
    "$$"
   ]
  },
  {
   "cell_type": "markdown",
   "id": "59f4d6ba",
   "metadata": {
    "editable": true
   },
   "source": [
    "is on the other hand a mixed state and we cannot determine whether system $A$ is in a state $0$ or $1$. The above state is a superpostion of the states $\\vert 00\\rangle_{AB}$ and $\\vert 11\\rangle_{AB}$ and it is not possible to determine individual states of systems $A$ and $B$, respectively.\n",
    "\n",
    "We say that the state is entangled. This yields the following\n",
    "definition of entangled states: a pure bipartite state $\\vert\n",
    "\\psi\\rangle_{AB}$ is entangled if it cannot be written as a product\n",
    "state $\\vert\\psi\\rangle_{A}\\otimes\\vert\\phi\\rangle_B$ for any choice\n",
    "of the states $\\vert\\psi\\rangle_{A}$ and $\\vert\\phi\\rangle_B$. Otherwise we say the state is separable.\n",
    "\n",
    "As an example, considere an ansatz for the ground state of the helium\n",
    "atom with two electrons in the lowest $1s$ state (hydrogen-like\n",
    "orbits) and with spin $s=1/2$ and spin projections $m_s=-1/2$ and\n",
    "$m_s=1/2$.  The two single-particle states are given by the tensor\n",
    "products of their spatial $1s$ single-particle states\n",
    "$\\vert\\phi_{1s}\\rangle$ and and their spin up or spin down spinors\n",
    "$\\vert\\xi_{sm_s}\\rangle$. The ansatz for the ground state is given by a Slater\n",
    "determinant with total orbital momentum $L=l_1+l_2=0$ and totalt spin\n",
    "$S=s_1+s_2=0$, normally labeled as a spin-singlet state. This ansatz\n",
    "for the ground state is then written as, using the compact notations"
   ]
  },
  {
   "cell_type": "markdown",
   "id": "b302270d",
   "metadata": {
    "editable": true
   },
   "source": [
    "$$\n",
    "\\vert \\psi_{i}\\rangle = \\vert\\phi_{1s}\\rangle_i\\otimes \\vert \\xi\\rangle_{s_im_{s_i}}=\\vert 1s,s,m_s\\rangle_i,\n",
    "$$"
   ]
  },
  {
   "cell_type": "markdown",
   "id": "d43b2527",
   "metadata": {
    "editable": true
   },
   "source": [
    "with $i$ being electron $1$ or $2$, and the tensor product of the two single-electron states as\n",
    "$\\vert 1s,s,m_s\\rangle_1\\vert 1s,s,m_s\\rangle_2=\\vert 1s,s,m_s\\rangle_1\\otimes \\vert 1s,s,m_s\\rangle_2$, we arrive at"
   ]
  },
  {
   "cell_type": "markdown",
   "id": "3e4b9034",
   "metadata": {
    "editable": true
   },
   "source": [
    "$$\n",
    "\\Psi(\\boldsymbol{r}_1,\\boldsymbol{r}_2;s_1,s_2)=\\frac{1}{\\sqrt{2}}\\left[\\vert 1s,1/2,1/2\\rangle_1\\vert 1s,1/2,-1/2\\rangle_2-\\vert 1s,1/2,-1/2\\rangle_1\\vert 1s,1/2,1/2\\rangle_2\\right].\n",
    "$$"
   ]
  },
  {
   "cell_type": "markdown",
   "id": "5df06106",
   "metadata": {
    "editable": true
   },
   "source": [
    "This is also an example of a state which cannot be written out as a pure state. We call this for an entangled state as well.\n",
    "\n",
    "A so-called maximally entangled state for a bipartite system has equal  probability amplitudes"
   ]
  },
  {
   "cell_type": "markdown",
   "id": "1c67b002",
   "metadata": {
    "editable": true
   },
   "source": [
    "$$\n",
    "\\vert \\Psi \\rangle = \\frac{1}{\\sqrt{d}}\\sum_{i=0}^{d-1}\\vert ii\\rangle.\n",
    "$$"
   ]
  },
  {
   "cell_type": "markdown",
   "id": "ee916e31",
   "metadata": {
    "editable": true
   },
   "source": [
    "We call a bipartite state composed of systems $A$ and $B$ (these\n",
    "systems can be single-particle systems, or single-qubit systems\n",
    "representing low-lying states of complicated many-body systems) for\n",
    "separable if its density matrix $\\rho_{AB}$ can be written out as the\n",
    "tensor product of the individual density matrices $\\rho_A$ and\n",
    "$\\rho_B$, that is we have for a given probability distribution $p_i$"
   ]
  },
  {
   "cell_type": "markdown",
   "id": "5420108c",
   "metadata": {
    "editable": true
   },
   "source": [
    "$$\n",
    "\\rho_{AB}=\\sum_ip_i\\rho_A(i)\\otimes \\rho_B(i).\n",
    "$$"
   ]
  },
  {
   "cell_type": "markdown",
   "id": "0bfeadb3",
   "metadata": {
    "editable": true
   },
   "source": [
    "If we cannot write the density matrix in this form, we say the system\n",
    "$AB$ is entangled. In order to see this, we can use the so-called\n",
    "Schmidt decomposition, which is essentially an application of the\n",
    "singular-value decomposition.\n",
    "\n",
    "The Schmidt decomposition allows us to define a pure state in a\n",
    "bipartite Hilbert space composed of systems $A$ and $B$ as"
   ]
  },
  {
   "cell_type": "markdown",
   "id": "2bd4be02",
   "metadata": {
    "editable": true
   },
   "source": [
    "$$\n",
    "\\vert\\psi\\rangle=\\sum_{i=0}^{d-1}\\sigma_i\\vert i\\rangle_A\\vert i\\rangle_B,\n",
    "$$"
   ]
  },
  {
   "cell_type": "markdown",
   "id": "9d63cf2f",
   "metadata": {
    "editable": true
   },
   "source": [
    "where the ampltitudes $\\sigma_i$ are real and positive and their\n",
    "squared values sum up to one, $\\sum_i\\sigma_i^2=1$. The states $\\vert\n",
    "i\\rangle_A$ and $\\vert i\\rangle_B$ form orthornormal bases for systems\n",
    "$A$ and $B$ respectively, the amplitudes $\\lambda_i$ are the so-called\n",
    "Schmidt coefficients and the Schmidt rank $d$ is equal to the number\n",
    "of Schmidt coefficients and is smaller or equal to the minimum\n",
    "dimensionality of system $A$ and system $B$, that is $d\\leq\n",
    "\\mathrm{min}(\\mathrm{dim}(A), \\mathrm{dim}(B))$.\n",
    "\n",
    "The proof for the above decomposition is based on the singular-value decomposition. To see this, assume that we have two orthonormal bases sets for systems $A$ and $B$, respectively. That is we have two ONBs $\\vert i\\rangle_A$ and $\\vert j\\rangle_B$. We can always construct a product state (a pure state) as"
   ]
  },
  {
   "cell_type": "markdown",
   "id": "5cabd80f",
   "metadata": {
    "editable": true
   },
   "source": [
    "$$\n",
    "\\vert\\psi \\rangle = \\sum_{ij} c_{ij}\\vert i\\rangle_A\\vert j\\rangle_B,\n",
    "$$"
   ]
  },
  {
   "cell_type": "markdown",
   "id": "f5f33152",
   "metadata": {
    "editable": true
   },
   "source": [
    "where the coefficients $c_{ij}$ are the overlap coefficients which belong to a matrix $\\boldsymbol{C}$. If we now assume that the dimensionalities of the two subsystems $A$ and $B$ are the same $d$, we can always rewrite the matrix $\\boldsymbol{C}$ in terms of a singular-value decomposition with unitary/orthogonal matrices $\\boldsymbol{U}$ and $\\boldsymbol{V}$ of dimension $d\\times d$ and a matrix $\\boldsymbol{\\Sigma}$ which contains the (diagonal) singular values $\\sigma_0\\leq \\sigma_1 \\leq \\dots 0$ as"
   ]
  },
  {
   "cell_type": "markdown",
   "id": "99de28b0",
   "metadata": {
    "editable": true
   },
   "source": [
    "$$\n",
    "\\boldsymbol{C}=\\boldsymbol{U}\\boldsymbol{\\Sigma}\\boldsymbol{V}^{\\dagger}.\n",
    "$$"
   ]
  },
  {
   "cell_type": "markdown",
   "id": "54bd3150",
   "metadata": {
    "editable": true
   },
   "source": [
    "This means we can rewrite the coefficients $c_{ij}$ in terms of the singular-value decomposition"
   ]
  },
  {
   "cell_type": "markdown",
   "id": "ccf170f6",
   "metadata": {
    "editable": true
   },
   "source": [
    "$$\n",
    "c_{ij}=\\sum_k u_{ik}\\sigma_kv_{kj},\n",
    "$$"
   ]
  },
  {
   "cell_type": "markdown",
   "id": "2ad20c50",
   "metadata": {
    "editable": true
   },
   "source": [
    "and inserting this in the definition of the pure state $\\vert \\psi\\rangle$ we have"
   ]
  },
  {
   "cell_type": "markdown",
   "id": "326a6247",
   "metadata": {
    "editable": true
   },
   "source": [
    "$$\n",
    "\\vert\\psi \\rangle = \\sum_{ij} \\left(\\sum_k u_{ik}\\sigma_kv_{kj} \\right)\\vert i\\rangle_A\\vert j\\rangle_B,\n",
    "$$"
   ]
  },
  {
   "cell_type": "markdown",
   "id": "40765706",
   "metadata": {
    "editable": true
   },
   "source": [
    "which we rewrite as"
   ]
  },
  {
   "cell_type": "markdown",
   "id": "7ff06777",
   "metadata": {
    "editable": true
   },
   "source": [
    "$$\n",
    "\\vert\\psi \\rangle = \\sum_{k}\\sigma_k \\left(\\sum_i u_{ik}\\vert i\\rangle_A\\right)\\otimes\\left(\\sum_jv_{kj}\\vert j\\rangle_B\\right),\n",
    "$$"
   ]
  },
  {
   "cell_type": "markdown",
   "id": "6442b57c",
   "metadata": {
    "editable": true
   },
   "source": [
    "which we identify simply as, since the matrices $\\boldsymbol{U}$ and $\\boldsymbol{V}$ represent unitary transformations,"
   ]
  },
  {
   "cell_type": "markdown",
   "id": "059c4127",
   "metadata": {
    "editable": true
   },
   "source": [
    "$$\n",
    "\\vert\\psi \\rangle = \\sum_{k}\\sigma_k \\vert k\\rangle_A\\vert k\\rangle_B.\n",
    "$$"
   ]
  },
  {
   "cell_type": "markdown",
   "id": "6df473b0",
   "metadata": {
    "editable": true
   },
   "source": [
    "It is straight forward to prove this relation in case systems $A$ and $B$ have different dimensionalities.\n",
    "Once we know the Schmidt decomposition of a state, we can immmediately say whether it is entangled or not. If a state $\\psi$ has is entangled, then its Schmidt decomposition has more than one term. Stated differently, the state is entangled if the so-called Schmidt rank is is greater than one.\n",
    "There is another important property of the Schmidt decomposition which is related to the properties of the density matrices and their trace operations and the entropies. In order to introduce these concepts let us look at the two-qubit Hamiltonian described here."
   ]
  },
  {
   "cell_type": "markdown",
   "id": "b2412df6",
   "metadata": {
    "editable": true
   },
   "source": [
    "## Density matrix and simple Hamiltonian\n",
    "\n",
    "These computational basis\n",
    "states define also the eigenstates of the non-interacting Hamiltonian"
   ]
  },
  {
   "cell_type": "markdown",
   "id": "e97a197f",
   "metadata": {
    "editable": true
   },
   "source": [
    "$$\n",
    "H_0\\vert 00 \\rangle = \\epsilon_{00}\\vert 00 \\rangle,\n",
    "$$"
   ]
  },
  {
   "cell_type": "markdown",
   "id": "70ae3699",
   "metadata": {
    "editable": true
   },
   "source": [
    "$$\n",
    "H_0\\vert 10 \\rangle = \\epsilon_{10}\\vert 10 \\rangle,\n",
    "$$"
   ]
  },
  {
   "cell_type": "markdown",
   "id": "5504dcff",
   "metadata": {
    "editable": true
   },
   "source": [
    "$$\n",
    "H_0\\vert 01 \\rangle = \\epsilon_{01}\\vert 01 \\rangle,\n",
    "$$"
   ]
  },
  {
   "cell_type": "markdown",
   "id": "2da97e98",
   "metadata": {
    "editable": true
   },
   "source": [
    "and"
   ]
  },
  {
   "cell_type": "markdown",
   "id": "9f7fb9cf",
   "metadata": {
    "editable": true
   },
   "source": [
    "$$\n",
    "H_0\\vert 11 \\rangle = \\epsilon_{11}\\vert 11 \\rangle.\n",
    "$$"
   ]
  },
  {
   "cell_type": "markdown",
   "id": "d64a4ce2",
   "metadata": {
    "editable": true
   },
   "source": [
    "The interacting part of the Hamiltonian $H_{\\mathrm{I}}$ is given by the tensor product of two $\\sigma_x$ and $\\sigma_z$  matrices, respectively, that is"
   ]
  },
  {
   "cell_type": "markdown",
   "id": "17f5d776",
   "metadata": {
    "editable": true
   },
   "source": [
    "$$\n",
    "H_{\\mathrm{I}}=H_x\\sigma_x\\otimes\\sigma_x+H_z\\sigma_z\\otimes\\sigma_z,\n",
    "$$"
   ]
  },
  {
   "cell_type": "markdown",
   "id": "3a9ccd14",
   "metadata": {
    "editable": true
   },
   "source": [
    "where $H_x$ and $H_z$ are interaction strength parameters. Our final Hamiltonian matrix is given by"
   ]
  },
  {
   "cell_type": "markdown",
   "id": "d61191d8",
   "metadata": {
    "editable": true
   },
   "source": [
    "$$\n",
    "\\boldsymbol{H}=\\begin{bmatrix} \\epsilon_{00}+H_z & 0 & 0 & H_x \\\\\n",
    "                       0  & \\epsilon_{10}-H_z & H_x & 0 \\\\\n",
    "\t\t       0 & H_x & \\epsilon_{01}-H_z & 0 \\\\\n",
    "\t\t       H_x & 0 & 0 & \\epsilon_{11} +H_z \\end{bmatrix}.\n",
    "$$"
   ]
  },
  {
   "cell_type": "markdown",
   "id": "4d345f34",
   "metadata": {
    "editable": true
   },
   "source": [
    "The four eigenstates of the above Hamiltonian matrix can in turn be used to\n",
    "define density matrices. As an example, the density matrix of the\n",
    "first eigenstate (lowest energy $E_0$) $\\Psi_0$ is"
   ]
  },
  {
   "cell_type": "markdown",
   "id": "f8bc3048",
   "metadata": {
    "editable": true
   },
   "source": [
    "$$\n",
    "\\rho_0=\\left(\\alpha_{00}\\vert 00 \\rangle\\langle 00\\vert+\\alpha_{10}\\vert 10 \\rangle\\langle 10\\vert+\\alpha_{01}\\vert 01 \\rangle\\langle 01\\vert+\\alpha_{11}\\vert 11 \\rangle\\langle 11\\vert\\right),\n",
    "$$"
   ]
  },
  {
   "cell_type": "markdown",
   "id": "6232c177",
   "metadata": {
    "editable": true
   },
   "source": [
    "where the coefficients $\\alpha_{ij}$ are the eigenvector coefficients\n",
    "resulting from the solution of the above eigenvalue problem.\n",
    "\n",
    "We can\n",
    "then in turn define the density matrix for the subsets $A$ or $B$ as"
   ]
  },
  {
   "cell_type": "markdown",
   "id": "156066fb",
   "metadata": {
    "editable": true
   },
   "source": [
    "$$\n",
    "\\rho_A=\\mathrm{Tr}_B(\\rho_{0})=\\langle 0 \\vert \\rho_{0} \\vert 0\\rangle_{B}+\\langle 1 \\vert \\rho_{0} \\vert 1\\rangle_{B},\n",
    "$$"
   ]
  },
  {
   "cell_type": "markdown",
   "id": "6b10c516",
   "metadata": {
    "editable": true
   },
   "source": [
    "or"
   ]
  },
  {
   "cell_type": "markdown",
   "id": "464cc057",
   "metadata": {
    "editable": true
   },
   "source": [
    "$$\n",
    "\\rho_B=\\mathrm{Tr}_A(\\rho_0)=\\langle 0 \\vert \\rho_{0} \\vert 0\\rangle_{A}+\\langle 1 \\vert \\rho_{0} \\vert 1\\rangle_{A}.\n",
    "$$"
   ]
  },
  {
   "cell_type": "markdown",
   "id": "0383a6a0",
   "metadata": {
    "editable": true
   },
   "source": [
    "## Entropies and density matrices\n",
    "\n",
    "The density matrices for these subsets can be used to compute the\n",
    "so-called von Neumann entropy, which is one of the possible measures\n",
    "of entanglement.\n",
    "\n",
    "We define a set of random variables $X=\\{x_0,x_1,\\dots,x_{n-1}\\}$ with probability for an outcome $x\\in X$ given by $p_X(x)$, the\n",
    "classical or Shannon information entropy is defined as"
   ]
  },
  {
   "cell_type": "markdown",
   "id": "20a6f1cc",
   "metadata": {
    "editable": true
   },
   "source": [
    "$$\n",
    "S=-\\sum_{x\\in X}p_X(x)\\log_2{p_X(x)}.\n",
    "$$"
   ]
  },
  {
   "cell_type": "markdown",
   "id": "0f1b7814",
   "metadata": {
    "editable": true
   },
   "source": [
    "The quantum mechanical Von Neumann entropy is defined as"
   ]
  },
  {
   "cell_type": "markdown",
   "id": "2ac26cb6",
   "metadata": {
    "editable": true
   },
   "source": [
    "$$\n",
    "S=-\\mathrm{Tr}[\\rho\\log_2{\\rho}].\n",
    "$$"
   ]
  },
  {
   "cell_type": "markdown",
   "id": "7ba55d5b",
   "metadata": {
    "editable": true
   },
   "source": [
    "For a derivation of the these quantities see [whiteboard notes](https://github.com/CompPhysics/QuantumComputingMachineLearning/tree/gh-pages/doc/HandWrittenNotes/2023/NotesFebruary20.pdf)"
   ]
  },
  {
   "cell_type": "markdown",
   "id": "239366fe",
   "metadata": {
    "editable": true
   },
   "source": [
    "## Pure states\n",
    "\n",
    " A pure state has entropy equal zero while entangled\n",
    "state have an entropy larger than zero. The von-Neumann entropy for the subsystems is\n",
    "defined as"
   ]
  },
  {
   "cell_type": "markdown",
   "id": "8e512fab",
   "metadata": {
    "editable": true
   },
   "source": [
    "$$\n",
    "S(A,B)=-\\mathrm{Tr}\\left(\\rho_{A,B}\\log_2 (\\rho_{A,B})\\right).\n",
    "$$"
   ]
  },
  {
   "cell_type": "markdown",
   "id": "f63d595c",
   "metadata": {
    "editable": true
   },
   "source": [
    "The example here shows the above von Neumann entropy based on the\n",
    "density matrix for the lowest many-body state. We see clearly a jump\n",
    "in the entropy around the point where we have a level crossing. At\n",
    "interaction strenght $\\lambda=0$ we have many-body states purely\n",
    "defined by their computational basis states. As we switch on the\n",
    "interaction strength, we obtain an increased degree of mixing and the\n",
    "entropy increases till we reach the level crossing point where we see\n",
    "an additional and sudden increase in entropy. Similar behaviors are\n",
    "observed for the other states. The most important result from this\n",
    "example is that entanglement is driven by the Hamiltonian itself and\n",
    "the strength of the interaction matrix elements and the\n",
    "non-interacting energies."
   ]
  },
  {
   "cell_type": "code",
   "execution_count": 1,
   "id": "13e5674d",
   "metadata": {
    "collapsed": false,
    "editable": true
   },
   "outputs": [],
   "source": [
    "%matplotlib inline\n",
    "\n",
    "%matplotlib inline\n",
    "from  matplotlib import pyplot as plt\n",
    "import numpy as np\n",
    "from scipy.linalg import logm, expm\n",
    "def log2M(a): # base 2 matrix logarithm\n",
    "    return logm(a)/np.log(2.0)\n",
    "\n",
    "dim = 4\n",
    "Hamiltonian = np.zeros((dim,dim))\n",
    "#number of lambda values\n",
    "n = 40\n",
    "lmbd = np.linspace(0.0,1.0,n)\n",
    "Hx = 2.0\n",
    "Hz = 3.0\n",
    "# Non-diagonal part as sigma_x tensor product with sigma_x\n",
    "sx = np.matrix([[0,1],[1,0]])\n",
    "sx2 = Hx*np.kron(sx, sx)\n",
    "# Diagonal part as sigma_z tensor product with sigma_z\n",
    "sz = np.matrix([[1,0],[0,-1]])\n",
    "sz2 = Hz*np.kron(sz, sz)\n",
    "noninteracting = [0.0, 2.5, 6.5, 7.0]\n",
    "D = np.diag(noninteracting)\n",
    "Eigenvalue = np.zeros((dim,n))\n",
    "Entropy = np.zeros(n)\n",
    "\n",
    "for i in range(n): \n",
    "    Hamiltonian = lmbd[i]*(sx2+sz2)+D\n",
    "    # diagonalize and obtain eigenvalues, not necessarily sorted\n",
    "    EigValues, EigVectors = np.linalg.eig(Hamiltonian)\n",
    "    # sort eigenvectors and eigenvalues\n",
    "    permute = EigValues.argsort()\n",
    "    EigValues = EigValues[permute]\n",
    "    EigVectors = EigVectors[:,permute]\n",
    "    # Compute density matrix for selected system state, here ground state\n",
    "    DensityMatrix = np.zeros((dim,dim))\n",
    "    DensityMatrix = np.outer(EigVectors[:,0],EigVectors[:,0])\n",
    "    # Project down on substates and find density matrix for subsystem\n",
    "    d = np.matrix([[1,0],[0,1]])\n",
    "    v1 = [1.0,0.0]\n",
    "    proj1 = np.kron(v1,d)\n",
    "    x1 = proj1 @ DensityMatrix @ proj1.T\n",
    "    v2 = [0.0,1.0]\n",
    "    proj2 = np.kron(v2,d)\n",
    "    x2 = proj2 @ DensityMatrix @ proj2.T\n",
    "    # Total density matrix for subsystem\n",
    "    total = x1+x2\n",
    "    # von Neumann Entropy for subsystem \n",
    "    Entropy[i] = -np.matrix.trace(total @ log2M(total))\n",
    "    # Plotting eigenvalues and entropy as functions of interaction strengths\n",
    "    Eigenvalue[0,i] = EigValues[0]\n",
    "    Eigenvalue[1,i] = EigValues[1]\n",
    "    Eigenvalue[2,i] = EigValues[2]\n",
    "    Eigenvalue[3,i] = EigValues[3]\n",
    "plt.plot(lmbd, Eigenvalue[0,:] ,'b-',lmbd, Eigenvalue[1,:],'g-',)\n",
    "plt.plot(lmbd, Eigenvalue[2,:] ,'r-',lmbd, Eigenvalue[3,:],'y-',)\n",
    "plt.xlabel('$\\lambda$')\n",
    "plt.ylabel('Eigenvalues')\n",
    "plt.show()\n",
    "plt.plot(lmbd, Entropy)\n",
    "plt.xlabel('$\\lambda$')\n",
    "plt.ylabel('Entropy')          \n",
    "plt.show"
   ]
  },
  {
   "cell_type": "markdown",
   "id": "96ba005e",
   "metadata": {
    "editable": true
   },
   "source": [
    "## Additional material"
   ]
  },
  {
   "cell_type": "markdown",
   "id": "fc5f654f",
   "metadata": {
    "editable": true
   },
   "source": [
    "## Quantum gates, circuits and simple algorithms\n",
    "\n",
    "Quantum gates are physical actions that are applied to the physical\n",
    "system representing the qubits. Mathematically, they are\n",
    "complex-valued, unitary matrices which act on the complex-values\n",
    "normalized vectors that represent qubits. As the quantum analog of\n",
    "classical logic gates (such as AND and OR), there is a corresponding\n",
    "quantum gate for every classical gate; however, there are quantum\n",
    "gates that have no classical counter-part. They act on a set of qubits\n",
    "and, changing their state. That is, if $U$ is a quantum gate and\n",
    "$\\vert q \\rangle $ is a qubit, then acting the gate $U$ on the qubit $\\vert q \\rangle $\n",
    "transforms the qubit as follows:"
   ]
  },
  {
   "cell_type": "markdown",
   "id": "0b5ebfd7",
   "metadata": {
    "editable": true
   },
   "source": [
    "<!-- Equation labels as ordinary links -->\n",
    "<div id=\"_auto1\"></div>\n",
    "\n",
    "$$\n",
    "\\begin{equation}\n",
    "\\vert q \\rangle \\overset{U}{\\to}U\\vert q \\rangle \n",
    ". \\label{_auto1} \\tag{1}\n",
    "\\end{equation}\n",
    "$$"
   ]
  },
  {
   "cell_type": "markdown",
   "id": "f47d45e7",
   "metadata": {
    "editable": true
   },
   "source": [
    "This action would be represented as the following quantum circuit"
   ]
  },
  {
   "cell_type": "markdown",
   "id": "0289257b",
   "metadata": {
    "editable": true
   },
   "source": [
    "<!-- Equation labels as ordinary links -->\n",
    "<div id=\"simple_qc\"></div>\n",
    "\n",
    "$$\n",
    "\\begin{equation}\n",
    "\\label{simple_qc} \\tag{2}\n",
    "\\Qcircuit\n",
    "{\n",
    "\\lstick{\\vert q \\rangle }  \\gate{U}  \\rstick{U\\vert q \\rangle } \\qw \n",
    "}\n",
    "\\end{equation}\n",
    "$$"
   ]
  },
  {
   "cell_type": "markdown",
   "id": "acf0e5f5",
   "metadata": {
    "editable": true
   },
   "source": [
    "Quantum circuits are diagrammatic representations of quantum\n",
    "algorithms. The horizontal dimension corresponds to time; moving left\n",
    "to right corresponds to forward motion in time. They consist of a set\n",
    "of qubits $\\vert q_n\\rangle$ which are stacked vertically on the left-hand\n",
    "side of the diagram. Lines, called quantum wires, extend horizontally\n",
    "to the right from each qubit, representing its state moving forward in\n",
    "time. Additionally, they contain a set of quantum gates that are\n",
    "applied to the quantum wires. Gates are applied chronologically, left\n",
    "to right. With this, we can see that the quantum circuit above\n",
    "([2](#simple_qc)) implies that the quantum gate $U$ is being applied\n",
    "to the qubit in state $\\vert q \\rangle$.\n",
    "\n",
    "To explain what quantum circuits represent mathematically, consider the following circuit"
   ]
  },
  {
   "cell_type": "markdown",
   "id": "46b7fd76",
   "metadata": {
    "editable": true
   },
   "source": [
    "<!-- Equation labels as ordinary links -->\n",
    "<div id=\"simple_qce\"></div>\n",
    "\n",
    "$$\n",
    "\\begin{equation}\n",
    "\\label{simple_qce} \\tag{3}\n",
    "\\Qcircuit @C=1em @R=1em\n",
    "{\n",
    "\\lstick{\\vert q_0 \\rangle }  \\gate{A}  \\gate{B}  \\qw \n",
    "\\end{equation}\n",
    "$$"
   ]
  },
  {
   "cell_type": "markdown",
   "id": "69777f1e",
   "metadata": {
    "editable": true
   },
   "source": [
    "<!-- Equation labels as ordinary links -->\n",
    "<div id=\"_auto2\"></div>\n",
    "\n",
    "$$\n",
    "\\begin{equation} \n",
    "\\lstick{\\vert q_1 \\rangle }  \\gate{C}  \\gate{D}  \\qw \n",
    "}\n",
    "\\label{_auto2} \\tag{4}\n",
    "\\end{equation}\n",
    "$$"
   ]
  },
  {
   "cell_type": "markdown",
   "id": "5afc59c3",
   "metadata": {
    "editable": true
   },
   "source": [
    "This circuit implies the following mathematical statement"
   ]
  },
  {
   "cell_type": "markdown",
   "id": "ec328c3b",
   "metadata": {
    "editable": true
   },
   "source": [
    "<!-- Equation labels as ordinary links -->\n",
    "<div id=\"_auto3\"></div>\n",
    "\n",
    "$$\n",
    "\\begin{equation}\n",
    "\\vert q_0q_1\\rangle\n",
    "\\to\n",
    "(B\\otimes D)(A\\otimes C)\\vert q_0q_1\\rangle\n",
    "\\label{_auto3} \\tag{5}\n",
    "\\end{equation}\n",
    "$$"
   ]
  },
  {
   "cell_type": "markdown",
   "id": "fe4d34e5",
   "metadata": {
    "editable": true
   },
   "source": [
    "<!-- Equation labels as ordinary links -->\n",
    "<div id=\"_auto4\"></div>\n",
    "\n",
    "$$\n",
    "\\begin{equation} \n",
    "\\to\n",
    "(BA)\\otimes(DC)\\vert q_0q_1\\rangle\n",
    "\\label{_auto4} \\tag{6}\n",
    "\\end{equation}\n",
    "$$"
   ]
  },
  {
   "cell_type": "markdown",
   "id": "8dfeb3d1",
   "metadata": {
    "editable": true
   },
   "source": [
    "<!-- Equation labels as ordinary links -->\n",
    "<div id=\"_auto5\"></div>\n",
    "\n",
    "$$\n",
    "\\begin{equation} \n",
    "\\to \n",
    "BA\\vert q_0 \\rangle DC\\vert q_1 \\rangle \n",
    ". \\label{_auto5} \\tag{7}\n",
    "\\end{equation}\n",
    "$$"
   ]
  },
  {
   "cell_type": "markdown",
   "id": "73013426",
   "metadata": {
    "editable": true
   },
   "source": [
    "Note that the mathematical form is in reverse order from circuit form\n",
    "($AB\\leftrightarrow BA$). This is because the operator closest to the\n",
    "state (furthest to the right) acts first. Additionally, we are able to\n",
    "write the actions of the top two gates and the bottom two as acting\n",
    "separately on each qubit as every gate here is a single-qubit gate\n",
    "(acting on only one qubit). The same would not be true for certain\n",
    "two-qubit gates which would entangle the states of the two qubits, not\n",
    "allowing their state to be written in a separable form. Finally, we\n",
    "define the depth of a quantum circuit as the number of columns of\n",
    "gates. The circuit above thus has a depth of 2 because it contains two\n",
    "columns of gates, namely $A\\otimes C$ and $B\\otimes D$."
   ]
  },
  {
   "cell_type": "markdown",
   "id": "22a3e73c",
   "metadata": {
    "editable": true
   },
   "source": [
    "### Single-Qubit Gates\n",
    "\n",
    "A single-qubit gate is a physical action that is applied to one qubit. It can be represented by a matrix $U$ from the group SU(2). Any single-qubit gate can be parameterized by three angles: $\\theta$, $\\phi$, and $\\lambda$ as follows"
   ]
  },
  {
   "cell_type": "markdown",
   "id": "a790995d",
   "metadata": {
    "editable": true
   },
   "source": [
    "<!-- Equation labels as ordinary links -->\n",
    "<div id=\"U\"></div>\n",
    "\n",
    "$$\n",
    "\\begin{equation}\n",
    "\\label{U} \\tag{8}\n",
    "U(\\theta,\\phi,\\lambda)\n",
    "=\n",
    "\\begin{pmatrix}\n",
    "\\cos\\frac{\\theta}{2} & -e^{i\\lambda}\\sin\\frac{\\theta}{2}\n",
    "\\\\\n",
    "e^{i\\phi}\\sin\\frac{\\theta}{2} & e^{i(\\phi+\\lambda)}\\cos\\frac{\\theta}{2}\n",
    "\\end{pmatrix}\n",
    ".\\end{equation}\n",
    "$$"
   ]
  },
  {
   "cell_type": "markdown",
   "id": "3456a494",
   "metadata": {
    "editable": true
   },
   "source": [
    "There are several widely used quantum gates, include the following:\n",
    "The Pauli gates correspond to the Pauli matrices"
   ]
  },
  {
   "cell_type": "markdown",
   "id": "40b0ec06",
   "metadata": {
    "editable": true
   },
   "source": [
    "<!-- Equation labels as ordinary links -->\n",
    "<div id=\"_auto6\"></div>\n",
    "\n",
    "$$\n",
    "\\begin{equation}\n",
    "I\n",
    "=\n",
    "\\begin{pmatrix}\n",
    "1 & 0 \\\\\n",
    "0 & 1\n",
    "\\end{pmatrix}\n",
    "\\label{_auto6} \\tag{9}\n",
    "\\end{equation}\n",
    "$$"
   ]
  },
  {
   "cell_type": "markdown",
   "id": "fa095e09",
   "metadata": {
    "editable": true
   },
   "source": [
    "<!-- Equation labels as ordinary links -->\n",
    "<div id=\"_auto7\"></div>\n",
    "\n",
    "$$\n",
    "\\begin{equation} \n",
    "X\n",
    "=\n",
    "\\begin{pmatrix}\n",
    "0 & 1 \\\\\n",
    "1 & 0\n",
    "\\end{pmatrix}\n",
    "\\label{_auto7} \\tag{10}\n",
    "\\end{equation}\n",
    "$$"
   ]
  },
  {
   "cell_type": "markdown",
   "id": "74e129ac",
   "metadata": {
    "editable": true
   },
   "source": [
    "<!-- Equation labels as ordinary links -->\n",
    "<div id=\"_auto8\"></div>\n",
    "\n",
    "$$\n",
    "\\begin{equation} \n",
    "Y\n",
    "=\n",
    "\\begin{pmatrix}\n",
    "0 & -i \\\\\n",
    "i & 0\n",
    "\\end{pmatrix}\n",
    "\\label{_auto8} \\tag{11}\n",
    "\\end{equation}\n",
    "$$"
   ]
  },
  {
   "cell_type": "markdown",
   "id": "280141b2",
   "metadata": {
    "editable": true
   },
   "source": [
    "<!-- Equation labels as ordinary links -->\n",
    "<div id=\"_auto9\"></div>\n",
    "\n",
    "$$\n",
    "\\begin{equation} \n",
    "Z\n",
    "=\n",
    "\\begin{pmatrix}\n",
    "1 & 0 \\\\\n",
    "0 & -1\n",
    "\\end{pmatrix}\n",
    ", \\label{_auto9} \\tag{12}\n",
    "\\end{equation}\n",
    "$$"
   ]
  },
  {
   "cell_type": "markdown",
   "id": "9d3e888d",
   "metadata": {
    "editable": true
   },
   "source": [
    "which satisfy the relation"
   ]
  },
  {
   "cell_type": "markdown",
   "id": "a8b5bbd6",
   "metadata": {
    "editable": true
   },
   "source": [
    "<!-- Equation labels as ordinary links -->\n",
    "<div id=\"_auto10\"></div>\n",
    "\n",
    "$$\n",
    "\\begin{equation}\n",
    "\\comm{\\sigma}{\\tau}=i\\epsilon_{\\sigma\\tau\\upsilon}\\upsilon\n",
    ", \\label{_auto10} \\tag{13}\n",
    "\\end{equation}\n",
    "$$"
   ]
  },
  {
   "cell_type": "markdown",
   "id": "ee21590a",
   "metadata": {
    "editable": true
   },
   "source": [
    "for $\\sigma,\\tau,\\upsilon\\in\\{X,Y,Z\\}$. These gates form a basis for\n",
    "the algebra $\\mathfrak{su}(2)$. Exponentiating them will thus give us\n",
    "a basis for SU(2), the group within which all single-qubit gates\n",
    "live. These exponentiated Pauli gates are called rotation gates\n",
    "$R_{\\sigma}(\\theta)$ because they rotate the quantum state around the\n",
    "axis $\\sigma=X,Y,Z$ of the Bloch sphere by an angle $\\theta$. They are\n",
    "defined as"
   ]
  },
  {
   "cell_type": "markdown",
   "id": "a669fbad",
   "metadata": {
    "editable": true
   },
   "source": [
    "<!-- Equation labels as ordinary links -->\n",
    "<div id=\"_auto11\"></div>\n",
    "\n",
    "$$\n",
    "\\begin{equation}\n",
    "R_X(\\theta)\n",
    "=\n",
    "e^{-i\\frac{\\theta}{2}X}\n",
    "=\n",
    "\\begin{pmatrix}\n",
    "\\cos\\frac{\\theta}{2} & -i\\sin\\frac{\\theta}{2} \\\\\n",
    "-i\\sin\\frac{\\theta}{2} & \\cos\\frac{\\theta}{2} \n",
    "\\end{pmatrix},\n",
    "\\label{_auto11} \\tag{14}\n",
    "\\end{equation}\n",
    "$$"
   ]
  },
  {
   "cell_type": "markdown",
   "id": "d41e69cc",
   "metadata": {
    "editable": true
   },
   "source": [
    "<!-- Equation labels as ordinary links -->\n",
    "<div id=\"_auto12\"></div>\n",
    "\n",
    "$$\n",
    "\\begin{equation} \n",
    "R_Y(\\theta)\n",
    "=\n",
    "e^{-i\\frac{\\theta}{2}Y}\n",
    "=\n",
    "\\begin{pmatrix}\n",
    "\\cos\\frac{\\theta}{2} & -\\sin\\frac{\\theta}{2} \\\\\n",
    "\\sin\\frac{\\theta}{2} & \\cos\\frac{\\theta}{2} \n",
    "\\end{pmatrix},\n",
    "\\label{_auto12} \\tag{15}\n",
    "\\end{equation}\n",
    "$$"
   ]
  },
  {
   "cell_type": "markdown",
   "id": "b1646a17",
   "metadata": {
    "editable": true
   },
   "source": [
    "<!-- Equation labels as ordinary links -->\n",
    "<div id=\"_auto13\"></div>\n",
    "\n",
    "$$\n",
    "\\begin{equation} \n",
    "R_Z(\\theta)\n",
    "=\n",
    "e^{-i\\frac{\\theta}{2}Z}\n",
    "=\n",
    "\\begin{pmatrix}\n",
    "e^{-i\\theta/2} & 0 \\\\\n",
    "0 & e^{i\\theta/2}\n",
    "\\end{pmatrix}\n",
    ". \\label{_auto13} \\tag{16}\n",
    "\\end{equation}\n",
    "$$"
   ]
  },
  {
   "cell_type": "markdown",
   "id": "3261d459",
   "metadata": {
    "editable": true
   },
   "source": [
    "Because they form a basis for $\\text{SU}(2)$, any single-qubit gate can be decomposed into three rotation gates. Indeed"
   ]
  },
  {
   "cell_type": "markdown",
   "id": "d730f547",
   "metadata": {
    "editable": true
   },
   "source": [
    "<!-- Equation labels as ordinary links -->\n",
    "<div id=\"_auto14\"></div>\n",
    "\n",
    "$$\n",
    "\\begin{equation}\n",
    "R_z(\\phi)R_y(\\theta)R_z(\\lambda)\n",
    "=\n",
    "\\begin{pmatrix}\n",
    "e^{-i\\phi/2} & 0 \\\\\n",
    "0 & e^{i\\phi/2}\n",
    "\\end{pmatrix}\n",
    "\\begin{pmatrix}\n",
    "\\cos\\frac{\\theta}{2} & -\\sin\\frac{\\theta}{2} \\\\\n",
    "\\sin\\frac{\\theta}{2} & \\cos\\frac{\\theta}{2} \n",
    "\\end{pmatrix}\n",
    "\\begin{pmatrix}\n",
    "e^{-i\\lambda/2} & 0 \\\\\n",
    "0 & e^{i\\lambda/2}\n",
    "\\end{pmatrix}\n",
    "\\label{_auto14} \\tag{17}\n",
    "\\end{equation}\n",
    "$$"
   ]
  },
  {
   "cell_type": "markdown",
   "id": "d6c0394d",
   "metadata": {
    "editable": true
   },
   "source": [
    "<!-- Equation labels as ordinary links -->\n",
    "<div id=\"_auto15\"></div>\n",
    "\n",
    "$$\n",
    "\\begin{equation} \n",
    "=\n",
    "e^{-i(\\phi+\\lambda)/2}\n",
    "\\begin{pmatrix}\n",
    "\\cos\\frac{\\theta}{2} & -e^{i\\lambda}\\sin\\frac{\\theta}{2}\n",
    "\\\\\n",
    "e^{i\\phi}\\sin\\frac{\\theta}{2} & e^{i(\\phi+\\lambda)}\\cos\\frac{\\theta}{2}\n",
    "\\end{pmatrix}\n",
    ", \\label{_auto15} \\tag{18}\n",
    "\\end{equation}\n",
    "$$"
   ]
  },
  {
   "cell_type": "markdown",
   "id": "30889abc",
   "metadata": {
    "editable": true
   },
   "source": [
    "which is, up to a global phase, equal to the expression for an arbitrary single-qubit gate ([8](#U))."
   ]
  },
  {
   "cell_type": "markdown",
   "id": "c510f6aa",
   "metadata": {
    "editable": true
   },
   "source": [
    "### Two-Qubit Gates\n",
    "\n",
    "A two-qubit gate is a physical action that is applied to two\n",
    "qubits. It can be represented by a matrix $U$ from the group\n",
    "SU(4). One important type of two-qubit gates are controlled gates,\n",
    "which work as follows: Suppose $U$ is a single-qubit gate. A\n",
    "controlled-$U$ gate ($CU$) acts on two qubits: a control qubit\n",
    "$\\vert x \\rangle $ and a target qubit $\\vert y \\rangle $. The controlled-$U$ gate\n",
    "applies the identity $I$ or the single-qubit gate $U$ to the target\n",
    "qubit if the control gate is in the zero state $\\ket{0}$ or the one\n",
    "state $\\ket{1}$, respectively. The control qubit is not acted\n",
    "upon. This can be represented as follows:"
   ]
  },
  {
   "cell_type": "markdown",
   "id": "f23a9782",
   "metadata": {
    "editable": true
   },
   "source": [
    "<!-- Equation labels as ordinary links -->\n",
    "<div id=\"_auto16\"></div>\n",
    "\n",
    "$$\n",
    "\\begin{equation}\n",
    "CU\\ket{xy}=\n",
    "\\begin{cases}\n",
    "\\ket{xy}  \\text{if} \\ \\vert x \\rangle =\\ket{0}\n",
    "\\label{_auto16} \\tag{19}\n",
    "\\end{equation}\n",
    "$$"
   ]
  },
  {
   "cell_type": "markdown",
   "id": "d7da0296",
   "metadata": {
    "editable": true
   },
   "source": [
    "<!-- Equation labels as ordinary links -->\n",
    "<div id=\"_auto17\"></div>\n",
    "\n",
    "$$\n",
    "\\begin{equation} \n",
    "\\vert x \\rangle U\\vert y \\rangle   \\text{if} \\ \\vert x \\rangle =\\ket{1}\n",
    "\\end{cases}\n",
    ". \\label{_auto17} \\tag{20}\n",
    "\\end{equation}\n",
    "$$"
   ]
  },
  {
   "cell_type": "markdown",
   "id": "1766b973",
   "metadata": {
    "editable": true
   },
   "source": [
    "The action of a controlled-$U$ gate $CU$ can be represented in a quantum circuit as follows"
   ]
  },
  {
   "cell_type": "markdown",
   "id": "ed7c3072",
   "metadata": {
    "editable": true
   },
   "source": [
    "<!-- Equation labels as ordinary links -->\n",
    "<div id=\"_auto18\"></div>\n",
    "\n",
    "$$\n",
    "\\begin{equation}\n",
    "\\Qcircuit @C=1em @R=3em \n",
    "{\n",
    "\\lstick{\\vert x \\rangle }  \\ctrl{1}  \\rstick{\\vert x \\rangle } \\qw\n",
    "\\label{_auto18} \\tag{21}\n",
    "\\end{equation}\n",
    "$$"
   ]
  },
  {
   "cell_type": "markdown",
   "id": "ca416fe6",
   "metadata": {
    "editable": true
   },
   "source": [
    "<!-- Equation labels as ordinary links -->\n",
    "<div id=\"_auto19\"></div>\n",
    "\n",
    "$$\n",
    "\\begin{equation} \n",
    "\\lstick{\\vert y \\rangle }  \\gate{U}  \\rstick{\\begin{cases}\\vert y \\rangle ,  \\vert x \\rangle =\\ket{0} \n",
    "\\label{_auto19} \\tag{22}\n",
    "\\end{equation}\n",
    "$$"
   ]
  },
  {
   "cell_type": "markdown",
   "id": "dc2a7775",
   "metadata": {
    "editable": true
   },
   "source": [
    "<!-- Equation labels as ordinary links -->\n",
    "<div id=\"_auto20\"></div>\n",
    "\n",
    "$$\n",
    "\\begin{equation}  U\\vert y \\rangle ,  \\ket{a}=\\vert x \\rangle \\end{cases}} \\qw\n",
    "}\n",
    "\\label{_auto20} \\tag{23}\n",
    "\\end{equation}\n",
    "$$"
   ]
  },
  {
   "cell_type": "markdown",
   "id": "af8fabae",
   "metadata": {
    "editable": true
   },
   "source": [
    "$$\n",
    "\\nonumber\n",
    "$$"
   ]
  },
  {
   "cell_type": "markdown",
   "id": "ac44e387",
   "metadata": {
    "editable": true
   },
   "source": [
    "It can be written in matrix form by writing it as a superposition of\n",
    "the two possible cases, each written as a simple tensor product"
   ]
  },
  {
   "cell_type": "markdown",
   "id": "9207d5c6",
   "metadata": {
    "editable": true
   },
   "source": [
    "<!-- Equation labels as ordinary links -->\n",
    "<div id=\"_auto21\"></div>\n",
    "\n",
    "$$\n",
    "\\begin{equation}\n",
    "CU \n",
    "= \\ket{0}\\bra{0}\\otimes I + \\ket{1}\\bra{1}\\otimes U\n",
    "\\label{_auto21} \\tag{24}\n",
    "\\end{equation}\n",
    "$$"
   ]
  },
  {
   "cell_type": "markdown",
   "id": "63326799",
   "metadata": {
    "editable": true
   },
   "source": [
    "<!-- Equation labels as ordinary links -->\n",
    "<div id=\"_auto22\"></div>\n",
    "\n",
    "$$\n",
    "\\begin{equation} \n",
    "&=\\begin{pmatrix}\n",
    "1 & 0 & 0 & 0 \\\\\n",
    "0 & 1 & 0 & 0 \\\\\n",
    "0 & 0 & u_{00} & u_{01} \\\\\n",
    "0 & 0 & u_{10} & u_{11}\n",
    "\\end{pmatrix}\n",
    ". \\label{_auto22} \\tag{25}\n",
    "\\end{equation}\n",
    "$$"
   ]
  },
  {
   "cell_type": "markdown",
   "id": "b6f9c1c8",
   "metadata": {
    "editable": true
   },
   "source": [
    "One of the most fundamental controlled gates is the CNOT gate. It is\n",
    "defined as the controlled-$X$ gate $CX$ and thus flips the state of\n",
    "the target qubit if the control qubit is in the zero state\n",
    "$\\ket{0}$. It can be written in matrix form as follows:"
   ]
  },
  {
   "cell_type": "markdown",
   "id": "1b0f4085",
   "metadata": {
    "editable": true
   },
   "source": [
    "<!-- Equation labels as ordinary links -->\n",
    "<div id=\"_auto23\"></div>\n",
    "\n",
    "$$\n",
    "\\begin{equation}\n",
    "\\text{CNOT}\n",
    "=\\begin{pmatrix}\n",
    "1 & 0 & 0 & 0 \\\\\n",
    "0 & 1 & 0 & 0 \\\\\n",
    "0 & 0 & 0 & 1 \\\\\n",
    "0 & 0 & 1 & 0\n",
    "\\end{pmatrix}\n",
    ". \\label{_auto23} \\tag{26}\n",
    "\\end{equation}\n",
    "$$"
   ]
  },
  {
   "cell_type": "markdown",
   "id": "81ca2954",
   "metadata": {
    "editable": true
   },
   "source": [
    "A widely used two-qubit gate that goes beyond the simple controlled function is the SWAP gate. It swaps the states of the two qubits it acts upon"
   ]
  },
  {
   "cell_type": "markdown",
   "id": "e3c459cc",
   "metadata": {
    "editable": true
   },
   "source": [
    "<!-- Equation labels as ordinary links -->\n",
    "<div id=\"swap_def\"></div>\n",
    "\n",
    "$$\n",
    "\\begin{equation}\n",
    "\\text{SWAP}\\ket{xy}=\\ket{yx}\n",
    ",\\end{equation}\n",
    "as depicted in the quantum circuit below\n",
    "\\begin{equation}\n",
    "\\label{swap_def} \\tag{27}\n",
    "\\Qcircuit\n",
    "{\n",
    "\\lstick{\\vert x \\rangle }  \\qswap       \\rstick{\\vert y \\rangle } \\qw\n",
    "\\end{equation}\n",
    "$$"
   ]
  },
  {
   "cell_type": "markdown",
   "id": "0879187f",
   "metadata": {
    "editable": true
   },
   "source": [
    "<!-- Equation labels as ordinary links -->\n",
    "<div id=\"_auto24\"></div>\n",
    "\n",
    "$$\n",
    "\\begin{equation} \n",
    "\\lstick{\\vert y \\rangle }  \\qswap \\qwx  \\rstick{\\vert x \\rangle } \\qw\n",
    "}\n",
    ", \\label{_auto24} \\tag{28}\n",
    "\\end{equation}\n",
    "$$"
   ]
  },
  {
   "cell_type": "markdown",
   "id": "582477ed",
   "metadata": {
    "editable": true
   },
   "source": [
    "and has the following matrix form"
   ]
  },
  {
   "cell_type": "markdown",
   "id": "cf90284b",
   "metadata": {
    "editable": true
   },
   "source": [
    "<!-- Equation labels as ordinary links -->\n",
    "<div id=\"_auto25\"></div>\n",
    "\n",
    "$$\n",
    "\\begin{equation}\n",
    "\\text{SWAP}\n",
    "=\\begin{pmatrix}\n",
    "1 & 0 & 0 & 0 \\\\\n",
    "0 & 0 & 1 & 0 \\\\\n",
    "0 & 1 & 0 & 0 \\\\\n",
    "0 & 0 & 0 & 1\n",
    "\\end{pmatrix}\n",
    ". \\label{_auto25} \\tag{29}\n",
    "\\end{equation}\n",
    "$$"
   ]
  },
  {
   "cell_type": "markdown",
   "id": "fad3b617",
   "metadata": {
    "editable": true
   },
   "source": [
    "It can be decomposed into a series of three CNOTs, each of which has its directionality flipped from the previous"
   ]
  },
  {
   "cell_type": "markdown",
   "id": "cc5f1817",
   "metadata": {
    "editable": true
   },
   "source": [
    "<!-- Equation labels as ordinary links -->\n",
    "<div id=\"_auto26\"></div>\n",
    "\n",
    "$$\n",
    "\\begin{equation}\n",
    "\\Qcircuit\n",
    "{\n",
    "\\lstick{\\vert x \\rangle }  \\ctrl{1}  \\targ      \\ctrl{1}  \\rstick{\\vert y \\rangle } \\qw\n",
    "\\label{_auto26} \\tag{30}\n",
    "\\end{equation}\n",
    "$$"
   ]
  },
  {
   "cell_type": "markdown",
   "id": "9468d06c",
   "metadata": {
    "editable": true
   },
   "source": [
    "<!-- Equation labels as ordinary links -->\n",
    "<div id=\"_auto27\"></div>\n",
    "\n",
    "$$\n",
    "\\begin{equation} \n",
    "\\lstick{\\vert y \\rangle }  \\targ     \\ctrl{-1}  \\targ     \\rstick{\\vert x \\rangle } \\qw\n",
    "}\n",
    "\\label{_auto27} \\tag{31}\n",
    "\\end{equation}\n",
    "$$"
   ]
  },
  {
   "cell_type": "markdown",
   "id": "7d27cb72",
   "metadata": {
    "editable": true
   },
   "source": [
    "As for arbitrary two-qubit gates $U\\in\\text{SU(4)}$, they can be\n",
    "optimally decomposed (up to a global phase) into the following\n",
    "sequence \\[[ref:kak]](#ref:kak) involving three parameters, fifteen elementary\n",
    "one-qubit gates and three CNOT gates"
   ]
  },
  {
   "cell_type": "markdown",
   "id": "28058ab5",
   "metadata": {
    "editable": true
   },
   "source": [
    "<!-- Equation labels as ordinary links -->\n",
    "<div id=\"_auto28\"></div>\n",
    "\n",
    "$$\n",
    "\\begin{equation}\n",
    "\\Qcircuit\n",
    "{\n",
    "\\qw  \\gate{U_1}  \\ctrl{1}  \\gate{R_y(\\theta_1)}  \\targ       \\gate{R_y(\\theta_2)}  \\ctrl{1}  \\gate{U_3}  \\qw\n",
    "\\label{_auto28} \\tag{32}\n",
    "\\end{equation}\n",
    "$$"
   ]
  },
  {
   "cell_type": "markdown",
   "id": "eb32ae3a",
   "metadata": {
    "editable": true
   },
   "source": [
    "<!-- Equation labels as ordinary links -->\n",
    "<div id=\"_auto29\"></div>\n",
    "\n",
    "$$\n",
    "\\begin{equation} \n",
    "\\qw  \\gate{U_2}  \\targ     \\gate{R_z(\\theta_3)}  \\ctrl{-1}  \\qw                   \\targ      \\gate{U_4}  \\qw\n",
    "}\n",
    "\\label{_auto29} \\tag{33}\n",
    "\\end{equation}\n",
    "$$"
   ]
  },
  {
   "cell_type": "markdown",
   "id": "e9dd7d0f",
   "metadata": {
    "editable": true
   },
   "source": [
    "where $U_1,U_2,U_3,U_4$ are single-qubit gates, each of which can be\n",
    "decomposed into three elementary one-qubit gates (rotation\n",
    "gates). Additionally, $\\theta_1,\\theta_2,\\theta_3$ are parameters to\n",
    "be determined by the arbitrary two-qubit gate to be\n",
    "decomposed. Two-qubit gates that are restricted to $U\\in\\text{SO(4)}$\n",
    "can be decomposed into a shorter depth circuit consisting of just\n",
    "twelve elementary single-qubit gates and two CNOT gates"
   ]
  },
  {
   "cell_type": "markdown",
   "id": "e9796942",
   "metadata": {
    "editable": true
   },
   "source": [
    "<!-- Equation labels as ordinary links -->\n",
    "<div id=\"_auto30\"></div>\n",
    "\n",
    "$$\n",
    "\\begin{equation}\n",
    "\\Qcircuit\n",
    "{\n",
    "\\qw  \\gate{R_z(\\pi/2)}  \\gate{R_y(\\pi/2)}  \\ctrl{1}  \\gate{U_1}  \\ctrl{1}  \\gate{R^*_y(\\pi/2)}  \\gate{R^*_z(\\pi/2)}  \\qw\n",
    "\\label{_auto30} \\tag{34}\n",
    "\\end{equation}\n",
    "$$"
   ]
  },
  {
   "cell_type": "markdown",
   "id": "5278d072",
   "metadata": {
    "editable": true
   },
   "source": [
    "<!-- Equation labels as ordinary links -->\n",
    "<div id=\"_auto31\"></div>\n",
    "\n",
    "$$\n",
    "\\begin{equation} \n",
    "\\qw  \\gate{R_z(\\pi/2)}  \\qw                \\targ     \\gate{U_2}  \\targ     \\qw                  \\gate{R^*_z(\\pi/2)}  \\qw\n",
    "}\n",
    "\\label{_auto31} \\tag{35}\n",
    "\\end{equation}\n",
    "$$"
   ]
  },
  {
   "cell_type": "markdown",
   "id": "5745aa74",
   "metadata": {
    "editable": true
   },
   "source": [
    "## Introduction to [Qiskit](https://qiskit.org/)"
   ]
  },
  {
   "cell_type": "code",
   "execution_count": 2,
   "id": "10c93339",
   "metadata": {
    "collapsed": false,
    "editable": true
   },
   "outputs": [],
   "source": [
    "#!/usr/bin/env python\n",
    "# coding: utf-8\n",
    "import numpy as np\n",
    "import qiskit as qk\n",
    "from scipy.optimize import minimize\n",
    "\n",
    "\n",
    "# # Initialize registers and circuit\n",
    "\n",
    "n_qubits = 1 #Number of qubits\n",
    "n_cbits = 1 #Number of classical bits (the number of qubits you want to measure at the end of the circuit)\n",
    "qreg = qk.QuantumRegister(n_qubits) #Create a quantum register\n",
    "creg = qk.ClassicalRegister(n_cbits) #Create a classical register\n",
    "circuit = qk.QuantumCircuit(qreg,creg) #Create your quantum circuit\n",
    "\n",
    "\n",
    "circuit.draw() #Draw circuit. It is empty"
   ]
  },
  {
   "cell_type": "markdown",
   "id": "ee70010c",
   "metadata": {
    "editable": true
   },
   "source": [
    "Thereafter we perform operations on qubit"
   ]
  },
  {
   "cell_type": "code",
   "execution_count": 3,
   "id": "91d1102b",
   "metadata": {
    "collapsed": false,
    "editable": true
   },
   "outputs": [],
   "source": [
    "circuit.x(qreg[0]) #Applies a Pauli X gate to the first qubit in the quantum register\n",
    "circuit.draw()"
   ]
  },
  {
   "cell_type": "markdown",
   "id": "0066aaea",
   "metadata": {
    "editable": true
   },
   "source": [
    "and select  a qubit to measure and encode the results to a classical bit"
   ]
  },
  {
   "cell_type": "code",
   "execution_count": 4,
   "id": "aae86be6",
   "metadata": {
    "collapsed": false,
    "editable": true
   },
   "outputs": [],
   "source": [
    "#Measure the first qubit in the quantum register\n",
    "#and encode the results to the first qubit in the classical register\n",
    "circuit.measure(qreg[0],creg[0])\n",
    "circuit.draw()"
   ]
  },
  {
   "cell_type": "markdown",
   "id": "15a841d5",
   "metadata": {
    "editable": true
   },
   "source": [
    "Thereafter we execute the circuit"
   ]
  },
  {
   "cell_type": "code",
   "execution_count": 5,
   "id": "3819c5fb",
   "metadata": {
    "collapsed": false,
    "editable": true
   },
   "outputs": [],
   "source": [
    "backend = qk.Aer.get_backend('qasm_simulator') \n",
    "#This is the device you want to use. It is an ideal simulation of a quantum device\n",
    "\n",
    "\n",
    "job = backend.run(circuit,shots=1000) #Run the circuit 1000 times\n",
    "result = job.result()\n",
    "counts = result.get_counts()\n",
    "print(counts)\n",
    "circuit.clear()\n",
    "circuit.draw()\n",
    "\n",
    "\n",
    "circuit.h(qreg[0]) #Apply a Hadamard gate to the first qubit of the quantum register\n",
    "circuit.measure(qreg,creg)\n",
    "print(circuit.draw())\n",
    "\n",
    "\n",
    "job = backend.run(circuit,shots=1000)\n",
    "result = job.result()\n",
    "counts = result.get_counts()\n",
    "print(counts)\n",
    "circuit.clear()"
   ]
  },
  {
   "cell_type": "markdown",
   "id": "fd012106",
   "metadata": {
    "editable": true
   },
   "source": [
    "Now we create a two-qubit circuit and set up a Bell state"
   ]
  },
  {
   "cell_type": "code",
   "execution_count": 6,
   "id": "ddcfc492",
   "metadata": {
    "collapsed": false,
    "editable": true
   },
   "outputs": [],
   "source": [
    "n_qubits = 2\n",
    "n_cbits = 2\n",
    "qreg = qk.QuantumRegister(n_qubits)\n",
    "creg = qk.ClassicalRegister(n_cbits)\n",
    "circuit = qk.QuantumCircuit(qreg,creg)\n",
    "circuit.draw()\n",
    "\n",
    "\n",
    "\n",
    "circuit.h(qreg[0])\n",
    "circuit.cx(qreg[0],qreg[1]) \n",
    "#This is a controlled operation. Apply a Pauli X gate to the second qubit (qreg[1]) if the first qubit (qreg[0])\n",
    "#is in the |1> state. Else do nothing\n",
    "\n",
    "circuit.draw()\n",
    "\n",
    "circuit.measure(qreg,creg)\n",
    "circuit.draw()"
   ]
  },
  {
   "cell_type": "code",
   "execution_count": 7,
   "id": "039b529f",
   "metadata": {
    "collapsed": false,
    "editable": true
   },
   "outputs": [],
   "source": [
    "job = backend.run(circuit,shots=1000)\n",
    "result = job.result()\n",
    "counts = result.get_counts()\n",
    "print(counts)\n",
    "circuit.clear()"
   ]
  },
  {
   "cell_type": "markdown",
   "id": "3f2719b1",
   "metadata": {
    "editable": true
   },
   "source": [
    "We apply a rotation to a qubit"
   ]
  },
  {
   "cell_type": "code",
   "execution_count": 8,
   "id": "831af44e",
   "metadata": {
    "collapsed": false,
    "editable": true
   },
   "outputs": [],
   "source": [
    "theta = np.pi/3\n",
    "circuit.rx(theta, qreg[0]) #R_x(theta) rotation on the first qubit (qreg[0])\n",
    "circuit.measure(qreg,creg)\n",
    "print(circuit.draw())\n",
    "job = backend.run(circuit,shots=1000)\n",
    "result = job.result()\n",
    "counts = result.get_counts()\n",
    "circuit.clear()\n",
    "print(counts)"
   ]
  },
  {
   "cell_type": "markdown",
   "id": "4c7b7611",
   "metadata": {
    "editable": true
   },
   "source": [
    "Now we want to find the lowest eigenvalue of $$ H = c_1 Z_0 + c_2 Z_1 + c_3 X_0 Y_1 $$ \n",
    "We will use $$<\\psi|H|\\psi> = c_1<\\psi|Z_0|\\psi> + c_2<\\psi|Z_1|\\psi> + c_3<\\psi|X_0Y_1|\\psi> $$"
   ]
  },
  {
   "cell_type": "code",
   "execution_count": 9,
   "id": "d108aef2",
   "metadata": {
    "collapsed": false,
    "editable": true
   },
   "outputs": [],
   "source": [
    "I = np.eye(2)\n",
    "X = np.array([[0,1],[1,0]])\n",
    "Y = np.array([[0,-1j],[1j,0]])\n",
    "Z = np.array([[1,0],[0,-1]])\n",
    "H = np.kron(Z,I) + np.kron(I,Z) + np.kron(X,Y)\n",
    "eigvals,eigvecs = np.linalg.eigh(H)\n",
    "print(eigvals[0])\n",
    "\n",
    "\n",
    "\n",
    "c_1 = 1\n",
    "c_2 = 1\n",
    "c_3 = 1\n",
    "\n",
    "h_1 = [c_1,[0],['z']]\n",
    "h_2 = [c_2,[1],['z']]\n",
    "h_3 = [c_3,[0,1],['x','y']]\n",
    "H = [h_1,h_2,h_3]\n",
    "H\n",
    "\n",
    "\n",
    "\n",
    "H[0]"
   ]
  },
  {
   "cell_type": "markdown",
   "id": "6316fc00",
   "metadata": {
    "editable": true
   },
   "source": [
    "We create the ansatz"
   ]
  },
  {
   "cell_type": "code",
   "execution_count": 10,
   "id": "6456b6dc",
   "metadata": {
    "collapsed": false,
    "editable": true
   },
   "outputs": [],
   "source": [
    "def ansatz(theta,n_qubits):\n",
    "    qreg = qk.QuantumRegister(n_qubits)\n",
    "    circuit = qk.QuantumCircuit(qreg)\n",
    "    for i in range(n_qubits):\n",
    "        circuit.ry(theta[i],qreg[i])\n",
    "    for i in range(n_qubits-1):\n",
    "        circuit.cx(qreg[i],qreg[i+1])\n",
    "    return(circuit)\n",
    "qreg = qk.QuantumRegister(n_qubits)\n",
    "circuit = qk.QuantumCircuit(qreg)\n",
    "circuit.h(qreg[:2])\n",
    "print('Before ansatz')\n",
    "print(circuit.draw())\n",
    "theta = np.random.randn(2)\n",
    "n_qubits = 2\n",
    "circuit = circuit.compose(ansatz(theta,n_qubits))\n",
    "print('After ansatz')\n",
    "circuit.draw()"
   ]
  },
  {
   "cell_type": "markdown",
   "id": "72c1a29d",
   "metadata": {
    "editable": true
   },
   "source": [
    "Now we change measurement basis"
   ]
  },
  {
   "cell_type": "code",
   "execution_count": 11,
   "id": "6c5ba084",
   "metadata": {
    "collapsed": false,
    "editable": true
   },
   "outputs": [],
   "source": [
    "def basis_change(h_i,n_qubits):\n",
    "    qreg = qk.QuantumRegister(n_qubits)\n",
    "    circuit = qk.QuantumCircuit(qreg)\n",
    "    \n",
    "    for qubit,operator in zip(h_i[1],h_i[2]):\n",
    "        if operator == 'x':\n",
    "            circuit.h(qreg[qubit])\n",
    "        if operator == 'y':\n",
    "            circuit.sdg(qreg[qubit])\n",
    "            circuit.h(qreg[qubit])\n",
    "    return(circuit)\n",
    "n_qubits = 2\n",
    "qreg = qk.QuantumRegister(n_qubits)\n",
    "circuit = qk.QuantumCircuit(qreg)\n",
    "theta = np.random.randn(n_qubits)\n",
    "circuit = circuit.compose(ansatz(theta,n_qubits))\n",
    "print('Ansatz circuit')\n",
    "circuit.draw()\n",
    "circuit = circuit.compose(basis_change(H[2],n_qubits))\n",
    "print('After basis transformation:')\n",
    "print(circuit.draw())"
   ]
  },
  {
   "cell_type": "markdown",
   "id": "281105b7",
   "metadata": {
    "editable": true
   },
   "source": [
    "Get energy for given rotational parameters $theta$"
   ]
  },
  {
   "cell_type": "code",
   "execution_count": 12,
   "id": "ccc40e9d",
   "metadata": {
    "collapsed": false,
    "editable": true
   },
   "outputs": [],
   "source": [
    "def get_energy(theta):\n",
    "    n_qubits = 2\n",
    "    qreg = qk.QuantumRegister(n_qubits)\n",
    "    circuit = qk.QuantumCircuit(qreg)\n",
    "    circuit = circuit.compose(ansatz(theta,n_qubits))\n",
    "    circuit_list = []\n",
    "    for idx,h_i in enumerate(H):\n",
    "        basis_change_circuit = basis_change(h_i,n_qubits)\n",
    "        new_circuit = circuit.compose(basis_change_circuit)\n",
    "        creg = qk.ClassicalRegister(len(h_i[1]))\n",
    "        new_circuit.add_register(creg)\n",
    "        new_circuit.measure(qreg[h_i[1]],creg)\n",
    "        circuit_list.append(new_circuit)\n",
    "    shots = 10000\n",
    "    job = backend.run(circuit_list,shots=shots)\n",
    "    E = np.zeros(len(circuit_list))\n",
    "    for i in range(len(circuit_list)):\n",
    "        result = job.result()\n",
    "        counts = result.get_counts(i)\n",
    "        for key,value in counts.items():\n",
    "            e = 1\n",
    "            for bit in key:\n",
    "                if bit == '0':\n",
    "                    e *= 1\n",
    "                if bit == '1':\n",
    "                    e *= -1\n",
    "            E[i] += e*value\n",
    "        E[i] *= H[i][0]\n",
    "    E /= shots\n",
    "    return(np.sum(E))\n",
    "\n",
    "theta = np.random.randn(2)\n",
    "get_energy(theta)"
   ]
  },
  {
   "cell_type": "markdown",
   "id": "0a8b6dbd",
   "metadata": {
    "editable": true
   },
   "source": [
    "Minimize energy with Scipy"
   ]
  },
  {
   "cell_type": "code",
   "execution_count": 13,
   "id": "705bd394",
   "metadata": {
    "collapsed": false,
    "editable": true
   },
   "outputs": [],
   "source": [
    "theta = np.random.randn(2)\n",
    "res = minimize(get_energy, theta, method='Powell',tol=1e-12)\n",
    "get_energy(res.x)"
   ]
  },
  {
   "cell_type": "markdown",
   "id": "d45ab49c",
   "metadata": {
    "editable": true
   },
   "source": [
    "We define  a more flexible ansatz"
   ]
  },
  {
   "cell_type": "code",
   "execution_count": 14,
   "id": "778c29f0",
   "metadata": {
    "collapsed": false,
    "editable": true
   },
   "outputs": [],
   "source": [
    "def ansatz(theta,n_qubits):\n",
    "    qreg = qk.QuantumRegister(n_qubits)\n",
    "    circuit = qk.QuantumCircuit(qreg)\n",
    "    idx = 0\n",
    "    for i in range(n_qubits):\n",
    "        circuit.ry(theta[idx],qreg[i])\n",
    "        idx += 1\n",
    "    for i in range(n_qubits-1):\n",
    "        circuit.cx(qreg[i],qreg[i+1])\n",
    "    for i in range(n_qubits):\n",
    "        circuit.rx(theta[idx],qreg[i])\n",
    "        idx += 1\n",
    "    for i in range(n_qubits-1):\n",
    "        circuit.cx(qreg[i],qreg[i+1])\n",
    "    return(circuit)\n",
    "theta = np.random.randn(4)\n",
    "res = minimize(get_energy, theta, method='Powell',tol=1e-16)\n",
    "get_energy(res.x)"
   ]
  },
  {
   "cell_type": "markdown",
   "id": "7f5faed8",
   "metadata": {
    "editable": true
   },
   "source": [
    "Minimize energy with gradient descent $$ \\frac{\\partial E (\\theta_1,\\dots,\\theta_i,\\dots,\\theta_p)}{\\partial \\theta_i} = \\frac{E(\\theta_1,\\dots,\\theta_i + \\pi/2,\\dots, \\theta_p) - E(\\theta_1,\\dots, \\theta_i - \\pi/2,\\dots, \\theta_p}{2} $$"
   ]
  },
  {
   "cell_type": "code",
   "execution_count": 15,
   "id": "6a8cc467",
   "metadata": {
    "collapsed": false,
    "editable": true
   },
   "outputs": [],
   "source": [
    "epochs = 200\n",
    "theta = np.random.randn(4)\n",
    "for epoch in range(epochs):\n",
    "    print(epoch,get_energy(theta))\n",
    "    grad = np.zeros_like(theta)\n",
    "    for idx in range(theta.shape[0]):\n",
    "        theta_temp = theta.copy()\n",
    "        theta_temp[idx] += np.pi/2\n",
    "        E_plus = get_energy(theta_temp)\n",
    "        theta_temp[idx] -= np.pi\n",
    "        E_minus = get_energy(theta_temp)\n",
    "        grad[idx] = (E_plus - E_minus)/2\n",
    "    theta -= 0.1*grad"
   ]
  }
 ],
 "metadata": {},
 "nbformat": 4,
 "nbformat_minor": 5
}

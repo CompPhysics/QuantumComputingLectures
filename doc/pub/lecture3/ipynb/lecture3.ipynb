{
 "cells": [
  {
   "cell_type": "markdown",
   "id": "2b7aed73",
   "metadata": {},
   "source": [
    "<!-- HTML file automatically generated from DocOnce source (https://github.com/doconce/doconce/)\n",
    "doconce format html lecture3.do.txt --no_mako -->\n",
    "<!-- dom:TITLE: Quantum Computing Lectures for  Nano and Quantum Workshop -->"
   ]
  },
  {
   "cell_type": "markdown",
   "id": "a06f273e",
   "metadata": {},
   "source": [
    "# Quantum Computing Lectures for  Nano and Quantum Workshop\n",
    "**Morten Hjorth-Jensen**, Department of Physics and Center for Computing in Science Education, University of Oslo, Norway and Department of Physics and Astronomy and Facility for Rare Isotope Beams, Michigan State University, East Lansing, Michigan, USA\n",
    "\n",
    "Date: **Cali, Colombia, December 4-8, 2023**"
   ]
  },
  {
   "cell_type": "markdown",
   "id": "2287b469",
   "metadata": {},
   "source": [
    "## Solving quantum mechanical problems\n",
    "\n",
    "1. Simple Hamiltonian, the Lipkin model\n",
    "\n",
    "2. Introducing the Variational Quantum Eigensolver (VQE)\n",
    "\n",
    "3. Additional material with technicalities"
   ]
  },
  {
   "cell_type": "markdown",
   "id": "d33b584e",
   "metadata": {},
   "source": [
    "## Simple Hamiltonian, the Lipkin model\n",
    "\n",
    "We will study a schematic model (the Lipkin model, see Nuclear\n",
    "Physics **62** (1965) 188), for the interaction among  $2$ and more \n",
    "fermions that can occupy two different energy levels.\n",
    "\n",
    "For four fermions, the case we consider first here, each levels has\n",
    "degeneration $d=4$, leading to different total spin values.  The two\n",
    "levels have quantum numbers $\\sigma=\\pm 1$, with the upper level\n",
    "having $2\\sigma=+1$ and energy $\\varepsilon_{1}= \\varepsilon/2$. The\n",
    "lower level has $2\\sigma=-1$ and energy\n",
    "$\\varepsilon_{2}=-\\varepsilon/2$. That is, the lowest single-particle\n",
    "level has negative spin projection (or spin down), while the upper\n",
    "level has spin up.  In addition, the substates of each level are\n",
    "characterized by the quantum numbers $p=1,2,3,4$."
   ]
  },
  {
   "cell_type": "markdown",
   "id": "1cf042e1",
   "metadata": {},
   "source": [
    "## Single-particle states\n",
    "\n",
    "We define the single-particle states (for the four fermion case which we will work on here)"
   ]
  },
  {
   "cell_type": "markdown",
   "id": "27e3bc98",
   "metadata": {},
   "source": [
    "$$\n",
    "\\vert u_{\\sigma =-1,p}\\rangle=a_{-p}^{\\dagger}\\vert 0\\rangle\n",
    "\\hspace{1cm}\n",
    "\\vert u_{\\sigma =1,p}\\rangle=a_{+p}^{\\dagger}\\vert 0\\rangle.\n",
    "$$"
   ]
  },
  {
   "cell_type": "markdown",
   "id": "f13fb142",
   "metadata": {},
   "source": [
    "The single-particle states span an orthonormal basis."
   ]
  },
  {
   "cell_type": "markdown",
   "id": "36317b23",
   "metadata": {},
   "source": [
    "## The Hamiltonian\n",
    "\n",
    "The Hamiltonian of the system is given by"
   ]
  },
  {
   "cell_type": "markdown",
   "id": "3fb242f5",
   "metadata": {},
   "source": [
    "$$\n",
    "\\begin{array}{ll}\n",
    "\\hat{H}=&\\hat{H}_{0}+\\hat{H}_{1}+\\hat{H}_{2}\\\\\n",
    "&\\\\\n",
    "\\hat{H}_{0}=&\\frac{1}{2}\\varepsilon\\sum_{\\sigma ,p}\\sigma\n",
    "a_{\\sigma,p}^{\\dagger}a_{\\sigma ,p}\\\\\n",
    "&\\\\\n",
    "\\hat{H}_{1}=&\\frac{1}{2}V\\sum_{\\sigma ,p,p'}\n",
    "a_{\\sigma,p}^{\\dagger}a_{\\sigma ,p'}^{\\dagger}\n",
    "a_{-\\sigma ,p'}a_{-\\sigma ,p}\\\\\n",
    "&\\\\\n",
    "\\hat{H}_{2}=&\\frac{1}{2}W\\sum_{\\sigma ,p,p'}\n",
    "a_{\\sigma,p}^{\\dagger}a_{-\\sigma ,p'}^{\\dagger}\n",
    "a_{\\sigma ,p'}a_{-\\sigma ,p}\\\\\n",
    "&\\\\\n",
    "\\end{array}\n",
    "$$"
   ]
  },
  {
   "cell_type": "markdown",
   "id": "3e1fce7e",
   "metadata": {},
   "source": [
    "where $V$ and $W$ are constants. The operator \n",
    "$H_{1}$ can move pairs of fermions\n",
    "while $H_{2}$ is a spin-exchange term. The latter\n",
    "moves a pair of fermions from a state $(p\\sigma ,p' -\\sigma)$ to a state\n",
    "$(p-\\sigma ,p'\\sigma)$."
   ]
  },
  {
   "cell_type": "markdown",
   "id": "a1b9cf59",
   "metadata": {},
   "source": [
    "## Rewrite in terms of quasispin operators\n",
    "\n",
    "We are going to rewrite the above Hamiltonian in terms of so-called  quasispin operators"
   ]
  },
  {
   "cell_type": "markdown",
   "id": "7027df45",
   "metadata": {},
   "source": [
    "$$\n",
    "\\begin{array}{ll}\n",
    "\\hat{J}_{+}=&\\sum_{p}\n",
    "a_{p+}^{\\dagger}a_{p-}\\\\\n",
    "&\\\\\n",
    "\\hat{J}_{-}=&\\sum_{p}\n",
    "a_{p-}^{\\dagger}a_{p+}\\\\\n",
    "&\\\\\n",
    "\\hat{J}_{z}=&\\frac{1}{2}\\sum_{p\\sigma}\\sigma\n",
    "a_{p\\sigma}^{\\dagger}a_{p\\sigma}\\\\\n",
    "&\\\\\n",
    "\\hat{J}^{2}=&J_{+}J_{-}+J_{z}^{2}-J_{z}\\\\\n",
    "&\\\\\n",
    "\\end{array}\n",
    "$$"
   ]
  },
  {
   "cell_type": "markdown",
   "id": "57a8339b",
   "metadata": {},
   "source": [
    "We can in turn express $\\hat{H}$ in terms of the above quasispin operators and the number operator"
   ]
  },
  {
   "cell_type": "markdown",
   "id": "3590c296",
   "metadata": {},
   "source": [
    "$$\n",
    "\\hat{N}=\\sum_{p\\sigma}\n",
    "a_{p\\sigma}^{\\dagger}a_{p\\sigma}.\n",
    "$$"
   ]
  },
  {
   "cell_type": "markdown",
   "id": "fbc371f9",
   "metadata": {},
   "source": [
    "## Rewriting the Hamiltonian\n",
    "\n",
    "We can rewrite the Hamiltonian in terms of the above quasi-spin operators and the number operator \n",
    "We have"
   ]
  },
  {
   "cell_type": "markdown",
   "id": "0eeaf34f",
   "metadata": {},
   "source": [
    "<!-- Equation labels as ordinary links -->\n",
    "<div id=\"_auto1\"></div>\n",
    "\n",
    "$$\n",
    "\\begin{equation}\n",
    "H_0 = \\varepsilon J_z.\n",
    "\\label{_auto1} \\tag{1}\n",
    "\\end{equation}\n",
    "$$"
   ]
  },
  {
   "cell_type": "markdown",
   "id": "7c2e0fd6",
   "metadata": {},
   "source": [
    "Moving over to $H_1$ and using the anti-commutation relations ([10](#eq:al,ak)) through ([12](#eq:ald,ak)) we obtain"
   ]
  },
  {
   "cell_type": "markdown",
   "id": "6c27254d",
   "metadata": {},
   "source": [
    "<!-- Equation labels as ordinary links -->\n",
    "<div id=\"_auto2\"></div>\n",
    "\n",
    "$$\n",
    "\\begin{equation}\n",
    "H_1 = \\frac{1}{2} V \\left( J_+^2 + J_-^2 \\right).\n",
    "\\label{_auto2} \\tag{2}\n",
    "\\end{equation}\n",
    "$$"
   ]
  },
  {
   "cell_type": "markdown",
   "id": "8ff87578",
   "metadata": {},
   "source": [
    "Finally, we rewrite the last term"
   ]
  },
  {
   "cell_type": "markdown",
   "id": "b33fb899",
   "metadata": {},
   "source": [
    "<!-- Equation labels as ordinary links -->\n",
    "<div id=\"_auto3\"></div>\n",
    "\n",
    "$$\n",
    "\\begin{equation}\n",
    "H_2 = \\frac{1}{2} W \\left( -N + J_+ J_- + J_- J_+ \\right).\n",
    "\\label{_auto3} \\tag{3}\n",
    "\\end{equation}\n",
    "$$"
   ]
  },
  {
   "cell_type": "markdown",
   "id": "0695a90b",
   "metadata": {},
   "source": [
    "We have thus expressed the Hamiltonian in term of the quasi-spin operators. See additional material for more details."
   ]
  },
  {
   "cell_type": "markdown",
   "id": "7667fe18",
   "metadata": {},
   "source": [
    "## Variational Quantum Eigensolver\n",
    "\n",
    "One initial algorithm to estimate the eigenenergies of a quantum\n",
    "Hamiltonian was [quantum phase estimation](https://qiskit.org/textbook/ch-algorithms/quantum-phase-estimation.html). In it, one\n",
    "encodes the eigenenergies, one binary bit at a time (up to $n$ bits),\n",
    "into the complex phases of the quantum states of the Hilbert space for\n",
    "$n$ qubits. It does this by applying powers of controlled unitary\n",
    "evolution operators to a quantum state that can be expanded in terms\n",
    "of the Hamiltonian's eigenvectors of interest. The eigenenergies are\n",
    "encoded into the complex phases in such a way that taking the inverse\n",
    "quantum Fourier transformation (see material on Quantum Fourier Transforms) of the states into which the\n",
    "eigen-energies are encoded results in a measurement probability\n",
    "distribution that has peaks around the bit strings that represent a\n",
    "binary fraction which corresponds to the eigen-energies of the quantum\n",
    "state acted upon by the controlled unitary operators. While quantum\n",
    "phase estimation (QPE) is provably efficient, non-hybrid, and\n",
    "non-variational, the number of qubits and length of circuits required\n",
    "is too great for our NISQ era quantum computers. Thus, QPE is only\n",
    "efficiently applicable to large, fault-tolerant quantum computers that\n",
    "likely won't exist in the near, but the far future.\n",
    "\n",
    "Therefore, a different algorithm for finding the eigen-energies of a\n",
    "quantum Hamiltonian was put forth in 2014 called the variational\n",
    "quantum eigensolver, commonly referred to as [VQE](https://arxiv.org/abs/2111.05176). The\n",
    "algorithm is hybrid, meaning that it requires the use of both a\n",
    "quantum computer and a classical computer. It is also variational,\n",
    "meaning that it relies, ultimately, on solving an optimization problem\n",
    "by varying parameters and thus is not as deterministic as QPE. The\n",
    "variational quantum eigensolver is based on the variational principle:\n",
    "The expectation value of a Hamiltonian $H$ in a state\n",
    "$|\\psi(\\theta)\\rangle$ parameterized by a set of angles $\\theta$, is\n",
    "always greater than or equal to the minimum eigen-energy $E_0$. To see\n",
    "this, let $|n\\rangle$ be the eigenstates of $H$, that is"
   ]
  },
  {
   "cell_type": "markdown",
   "id": "f28a2fc5",
   "metadata": {},
   "source": [
    "<!-- Equation labels as ordinary links -->\n",
    "<div id=\"_auto4\"></div>\n",
    "\n",
    "$$\n",
    "\\begin{equation}\n",
    "H|n\\rangle=E_n|n\\rangle.\n",
    "\\label{_auto4} \\tag{4}\n",
    "\\end{equation}\n",
    "$$"
   ]
  },
  {
   "cell_type": "markdown",
   "id": "d756d886",
   "metadata": {},
   "source": [
    "We can then expand our state $|\\psi(\\theta)\\rangle$ in terms of said eigenstates"
   ]
  },
  {
   "cell_type": "markdown",
   "id": "b2512f8f",
   "metadata": {},
   "source": [
    "$$\n",
    "|\\psi(\\theta)\\rangle=\\sum_nc_n|n\\rangle,\n",
    "$$"
   ]
  },
  {
   "cell_type": "markdown",
   "id": "ab8a802f",
   "metadata": {},
   "source": [
    "and plug this into the expectation value to yield"
   ]
  },
  {
   "cell_type": "markdown",
   "id": "1d4effcf",
   "metadata": {},
   "source": [
    "$$\n",
    "\\langle\\psi(\\theta)|H|\\psi(\\theta)\\rangle=\\sum_{nm}c^*_mc_n\\langle m|H|n \\rangle\n",
    "=\\sum_{nm}c^*_mc_nE_n\\langle m|n \\rangle=\\sum_{nm}\\delta_{nm}c^*_mc_nE_n=\\sum_{n}|c_n|^2E_n \\geq E_0\\sum_{n}|c_n|^2=E_0,\n",
    "$$"
   ]
  },
  {
   "cell_type": "markdown",
   "id": "d6dbf8e1",
   "metadata": {},
   "source": [
    "which implies that we can minimize over the set of angles $\\theta$ and arrive at the ground state energy $E_0$"
   ]
  },
  {
   "cell_type": "markdown",
   "id": "d59a9c31",
   "metadata": {},
   "source": [
    "$$\n",
    "\\min_\\theta \\ \\langle\\psi(\\theta)|H|\\psi(\\theta)\\rangle=E_0.\n",
    "$$"
   ]
  },
  {
   "cell_type": "markdown",
   "id": "f60d06e3",
   "metadata": {},
   "source": [
    "Using this fact, the VQE algorithm can be broken down into the following steps\n",
    "1. Prepare the variational state $|\\psi(\\theta)\\rangle$ on a quantum computer.\n",
    "\n",
    "2. Measure this circuit in various bases and send these measurements to a classical computer\n",
    "\n",
    "3. The classical computer post-processes the measurement data to compute the expectation value $\\langle\\psi(\\theta)|H|\\psi(\\theta)\\rangle$\n",
    "\n",
    "4. The classical computer varies the parameters $\\theta$ according to a classical minimization algorithm and sends them back to the quantum computer which runs step 1 again.\n",
    "\n",
    "This loop continues until the classical optimization algorithm\n",
    "terminates which results in a set of angles $\\theta_{\\text{min}}$ that\n",
    "characterize the ground state $|\\phi(\\theta_{\\text{min}})\\rangle$ and\n",
    "an estimate for the ground state energy\n",
    "$\\langle\\psi(\\theta_{\\text{min}})|H|\\psi(\\theta_{\\text{min}})\\rangle$."
   ]
  },
  {
   "cell_type": "markdown",
   "id": "a22c7c90",
   "metadata": {},
   "source": [
    "## VQE and efficient computations of gradients\n",
    "\n",
    "We start with a simple $2\\times 2$ Hamiltonian matrix expressed in\n",
    "terms of Pauli $X$ and $Z$ matrices, as discussed in the project text.\n",
    "\n",
    "We define a  symmetric matrix  $H\\in {\\mathbb{R}}^{2\\times 2}$"
   ]
  },
  {
   "cell_type": "markdown",
   "id": "ec1af439",
   "metadata": {},
   "source": [
    "$$\n",
    "H = \\begin{bmatrix} H_{11} & H_{12} \\\\ H_{21} & H_{22}\n",
    "\\end{bmatrix},\n",
    "$$"
   ]
  },
  {
   "cell_type": "markdown",
   "id": "17489602",
   "metadata": {},
   "source": [
    "We  let $H = H_0 + H_I$, where"
   ]
  },
  {
   "cell_type": "markdown",
   "id": "83de3a8d",
   "metadata": {},
   "source": [
    "$$\n",
    "H_0= \\begin{bmatrix} E_1 & 0 \\\\ 0 & E_2\\end{bmatrix},\n",
    "$$"
   ]
  },
  {
   "cell_type": "markdown",
   "id": "b44eff75",
   "metadata": {},
   "source": [
    "is a diagonal matrix. Similarly,"
   ]
  },
  {
   "cell_type": "markdown",
   "id": "5a71fc74",
   "metadata": {},
   "source": [
    "$$\n",
    "H_I= \\begin{bmatrix} V_{11} & V_{12} \\\\ V_{21} & V_{22}\\end{bmatrix},\n",
    "$$"
   ]
  },
  {
   "cell_type": "markdown",
   "id": "2da8cf54",
   "metadata": {},
   "source": [
    "where $V_{ij}$ represent various interaction matrix elements.\n",
    "We can view $H_0$ as the non-interacting solution"
   ]
  },
  {
   "cell_type": "markdown",
   "id": "d760daab",
   "metadata": {},
   "source": [
    "<!-- Equation labels as ordinary links -->\n",
    "<div id=\"_auto5\"></div>\n",
    "\n",
    "$$\n",
    "\\begin{equation}\n",
    "       H_0\\vert 0 \\rangle =E_1\\vert 0 \\rangle,\n",
    "\\label{_auto5} \\tag{5}\n",
    "\\end{equation}\n",
    "$$"
   ]
  },
  {
   "cell_type": "markdown",
   "id": "39d3b162",
   "metadata": {},
   "source": [
    "and"
   ]
  },
  {
   "cell_type": "markdown",
   "id": "87fd05a5",
   "metadata": {},
   "source": [
    "<!-- Equation labels as ordinary links -->\n",
    "<div id=\"_auto6\"></div>\n",
    "\n",
    "$$\n",
    "\\begin{equation}\n",
    "       H_0\\vert 1\\rangle =E_2\\vert 1\\rangle,\n",
    "\\label{_auto6} \\tag{6}\n",
    "\\end{equation}\n",
    "$$"
   ]
  },
  {
   "cell_type": "markdown",
   "id": "6614ec2b",
   "metadata": {},
   "source": [
    "where we have defined the orthogonal computational one-qubit basis states $\\vert 0\\rangle$ and $\\vert 1\\rangle$.\n",
    "\n",
    "We rewrite $H$ (and $H_0$ and $H_I$)  via Pauli matrices"
   ]
  },
  {
   "cell_type": "markdown",
   "id": "46d635cc",
   "metadata": {},
   "source": [
    "$$\n",
    "H_0 = \\mathcal{E} I + \\Omega \\sigma_z, \\quad \\mathcal{E} = \\frac{E_1\n",
    "  + E_2}{2}, \\; \\Omega = \\frac{E_1-E_2}{2},\n",
    "$$"
   ]
  },
  {
   "cell_type": "markdown",
   "id": "7b1b74fc",
   "metadata": {},
   "source": [
    "and"
   ]
  },
  {
   "cell_type": "markdown",
   "id": "bf9cb865",
   "metadata": {},
   "source": [
    "$$\n",
    "H_I = c \\boldsymbol{I} +\\omega_z\\sigma_z + \\omega_x\\sigma_x,\n",
    "$$"
   ]
  },
  {
   "cell_type": "markdown",
   "id": "6b63c77c",
   "metadata": {},
   "source": [
    "with $c = (V_{11}+V_{22})/2$, $\\omega_z = (V_{11}-V_{22})/2$ and $\\omega_x = V_{12}=V_{21}$.\n",
    "We let our Hamiltonian depend linearly on a strength parameter $\\lambda$"
   ]
  },
  {
   "cell_type": "markdown",
   "id": "4ceb44f7",
   "metadata": {},
   "source": [
    "$$\n",
    "H=H_0+\\lambda H_\\mathrm{I},\n",
    "$$"
   ]
  },
  {
   "cell_type": "markdown",
   "id": "38015769",
   "metadata": {},
   "source": [
    "with $\\lambda \\in [0,1]$, where the limits $\\lambda=0$ and $\\lambda=1$\n",
    "represent the non-interacting (or unperturbed) and fully interacting\n",
    "system, respectively.  The model is an eigenvalue problem with only\n",
    "two available states.\n",
    "\n",
    "Here we set the parameters $E_1=0$,\n",
    "$E_2=4$, $V_{11}=-V_{22}=3$ and $V_{12}=V_{21}=0.2$.\n",
    "\n",
    "The non-interacting solutions represent our computational basis.\n",
    "Pertinent to our choice of parameters, is that at $\\lambda\\geq 2/3$,\n",
    "the lowest eigenstate is dominated by $\\vert 1\\rangle$ while the upper\n",
    "is $\\vert 0 \\rangle$. At $\\lambda=1$ the $\\vert 0 \\rangle$ mixing of\n",
    "the lowest eigenvalue is $1\\%$ while for $\\lambda\\leq 2/3$ we have a\n",
    "$\\vert 0 \\rangle$ component of more than $90\\%$.  The character of the\n",
    "eigenvectors has therefore been interchanged when passing $z=2/3$. The\n",
    "value of the parameter $V_{12}$ represents the strength of the coupling\n",
    "between the two states."
   ]
  },
  {
   "cell_type": "markdown",
   "id": "13c0a286",
   "metadata": {},
   "source": [
    "## Setting up the matrix"
   ]
  },
  {
   "cell_type": "code",
   "execution_count": 1,
   "id": "dd20af36",
   "metadata": {},
   "outputs": [
    {
     "name": "stdout",
     "output_type": "stream",
     "text": [
      "0.9801960972814431\n"
     ]
    }
   ],
   "source": [
    "%matplotlib inline\n",
    "\n",
    "from  matplotlib import pyplot as plt\n",
    "import numpy as np\n",
    "dim = 2\n",
    "Hamiltonian = np.zeros((dim,dim))\n",
    "e0 = 0.0\n",
    "e1 = 4.0\n",
    "Xnondiag = 0.20\n",
    "Xdiag = 3.0\n",
    "Eigenvalue = np.zeros(dim)\n",
    "# setting up the Hamiltonian\n",
    "Hamiltonian[0,0] = Xdiag+e0\n",
    "Hamiltonian[0,1] = Xnondiag\n",
    "Hamiltonian[1,0] = Hamiltonian[0,1]\n",
    "Hamiltonian[1,1] = e1-Xdiag\n",
    "# diagonalize and obtain eigenvalues, not necessarily sorted\n",
    "EigValues, EigVectors = np.linalg.eig(Hamiltonian)\n",
    "permute = EigValues.argsort()\n",
    "EigValues = EigValues[permute]\n",
    "# print only the lowest eigenvalue\n",
    "print(EigValues[0])"
   ]
  },
  {
   "cell_type": "markdown",
   "id": "4fbfe127",
   "metadata": {},
   "source": [
    "Now rewrite it in terms of the identity matrix and the Pauli matrix X and Z"
   ]
  },
  {
   "cell_type": "code",
   "execution_count": 2,
   "id": "220b7575",
   "metadata": {},
   "outputs": [
    {
     "name": "stdout",
     "output_type": "stream",
     "text": [
      "0.9801960972814431\n"
     ]
    }
   ],
   "source": [
    "# Now rewrite it in terms of the identity matrix and the Pauli matrix X and Z\n",
    "X = np.array([[0,1],[1,0]])\n",
    "Y = np.array([[0,-1j],[1j,0]])\n",
    "Z = np.array([[1,0],[0,-1]])\n",
    "# identity matrix\n",
    "I = np.array([[1,0],[0,1]])\n",
    "\n",
    "epsilon = (e0+e1)*0.5; omega = (e0-e1)*0.5\n",
    "c = 0.0; omega_z=Xdiag; omega_x = Xnondiag\n",
    "Hamiltonian = (epsilon+c)*I+(omega_z+omega)*Z+omega_x*X\n",
    "EigValues, EigVectors = np.linalg.eig(Hamiltonian)\n",
    "permute = EigValues.argsort()\n",
    "EigValues = EigValues[permute]\n",
    "# print only the lowest eigenvalue\n",
    "print(EigValues[0])"
   ]
  },
  {
   "cell_type": "markdown",
   "id": "78b61b0c",
   "metadata": {},
   "source": [
    "## Implementing the VQE\n",
    "\n",
    "For a one-qubit system we can reach every point on the Bloch sphere\n",
    "(as discussed earlier) with a rotation about the $x$-axis and the\n",
    "$y$-axis.\n",
    "\n",
    "We can express this mathematically through the following operations, giving us a new state $\\vert \\psi\\rangle$"
   ]
  },
  {
   "cell_type": "markdown",
   "id": "3c5233a9",
   "metadata": {},
   "source": [
    "$$\n",
    "\\vert\\psi\\rangle = R_y(\\phi)R_x(\\theta)\\vert 0 \\rangle.\n",
    "$$"
   ]
  },
  {
   "cell_type": "markdown",
   "id": "89b8d07b",
   "metadata": {},
   "source": [
    "We can produce multiple ansatzes for the new state in terms of the\n",
    "angles $\\theta$ and $\\phi$.  With these ansatzes we can in turn\n",
    "calculate the expectation value of the above Hamiltonian, now\n",
    "rewritten in terms of various Pauli matrices (and thereby gates), that is compute"
   ]
  },
  {
   "cell_type": "markdown",
   "id": "a2fbb670",
   "metadata": {},
   "source": [
    "$$\n",
    "\\langle \\psi \\vert (c+\\mathcal{E})\\boldsymbol{I} + (\\Omega+\\omega_z)\\boldsymbol{\\sigma}_z + \\omega_x\\boldsymbol{\\sigma}_x\\vert \\psi \\rangle.\n",
    "$$"
   ]
  },
  {
   "cell_type": "markdown",
   "id": "7de26367",
   "metadata": {},
   "source": [
    "We can now set up a series of ansatzes for $\\vert \\psi \\rangle$ as\n",
    "function of the angles $\\theta$ and $\\phi$ and find thereafter the\n",
    "variational minimum using for example a gradient descent method.\n",
    "\n",
    "To do so, we need to remind ourselves about the mathematical expressions for\n",
    "the rotational matrices/operators."
   ]
  },
  {
   "cell_type": "markdown",
   "id": "39ae04d5",
   "metadata": {},
   "source": [
    "$$\n",
    "R_x(\\theta)=\\cos{\\frac{\\theta}{2}}\\boldsymbol{I}-\\imath \\sin{\\frac{\\theta}{2}}\\boldsymbol{\\sigma}_x,\n",
    "$$"
   ]
  },
  {
   "cell_type": "markdown",
   "id": "e84e8812",
   "metadata": {},
   "source": [
    "and"
   ]
  },
  {
   "cell_type": "markdown",
   "id": "fa0b8d0c",
   "metadata": {},
   "source": [
    "$$\n",
    "R_y(\\phi)=\\cos{\\frac{\\phi}{2}}\\boldsymbol{I}-\\imath \\sin{\\frac{\\phi}{2}}\\boldsymbol{\\sigma}_y.\n",
    "$$"
   ]
  },
  {
   "cell_type": "code",
   "execution_count": 4,
   "id": "a3aad70b",
   "metadata": {},
   "outputs": [
    {
     "name": "stdout",
     "output_type": "stream",
     "text": [
      "[0.67249851+0.21850801j 0.21850801-0.67249851j]\n",
      "(2-1.187159067031975e-16j)\n"
     ]
    }
   ],
   "source": [
    "# define the rotation matrices\n",
    "# Define angles theta and phi\n",
    "theta = 0.5*np.pi; phi = 0.2*np.pi\n",
    "Rx = np.cos(theta*0.5)*I-1j*np.sin(theta*0.5)*X\n",
    "Ry = np.cos(phi*0.5)*I-1j*np.sin(phi*0.5)*Y\n",
    "#define basis states\n",
    "basis0 = np.array([1,0])\n",
    "basis1 = np.array([0,1])\n",
    "\n",
    "NewBasis = Ry @ Rx @ basis0\n",
    "print(NewBasis)\n",
    "# Compute the expectation value\n",
    "#Note hermitian conjugation\n",
    "Energy = NewBasis.conj().T @ Hamiltonian @ NewBasis\n",
    "print(Energy)"
   ]
  },
  {
   "cell_type": "markdown",
   "id": "43c7a4e4",
   "metadata": {},
   "source": [
    "Not an impressive results. We set up now a loop over many angles $\\theta$ and $\\phi$ and compute the energies"
   ]
  },
  {
   "cell_type": "code",
   "execution_count": 18,
   "id": "f1d34f62",
   "metadata": {},
   "outputs": [
    {
     "name": "stdout",
     "output_type": "stream",
     "text": [
      "0.015755577993035952\n"
     ]
    }
   ],
   "source": [
    "# define a number of angles\n",
    "n = 20\n",
    "angle = np.arange(0,180,10)\n",
    "n = np.size(angle)\n",
    "ExpectationValues = np.zeros((n,n))\n",
    "for i in range (n):\n",
    "    theta = np.pi*angle[i]/180.0\n",
    "    Rx = np.cos(theta*0.5)*I-1j*np.sin(theta*0.5)*X\n",
    "    for j in range (n):\n",
    "        phi = np.pi*angle[j]/180.0\n",
    "        Ry = np.cos(phi*0.5)*I-1j*np.sin(phi*0.5)*Y\n",
    "        NewBasis = Ry @ Rx @ basis0\n",
    "        Energy = NewBasis.conj().T @ Hamiltonian @ NewBasis\n",
    "        Edifference=abs(np.real(EigValues[0]-Energy))\n",
    "        ExpectationValues[i,j]=Edifference\n",
    "\n",
    "print(np.min(ExpectationValues))"
   ]
  },
  {
   "cell_type": "markdown",
   "id": "ed07627d",
   "metadata": {},
   "source": [
    "Clearly, this is not the best way of proceeding. Rather, here we\n",
    "could try to find the optimal values for the parameters $\\theta$ and\n",
    "$\\phi$ through computation of their respective gradients and thereby\n",
    "find the minimum as function of the optimal angles $\\hat{\\theta}$ and\n",
    "$\\hat{\\phi}$.\n",
    "\n",
    "Let us now implement a classical gradient descent algorithm to the computation of the energies. \n",
    "We will follow closely  <https://journals.aps.org/pra/abstract/10.1103/PhysRevA.99.032331> in order to calculate gradients of the Hamiltonian."
   ]
  },
  {
   "cell_type": "markdown",
   "id": "ae17cc51",
   "metadata": {},
   "source": [
    "## Gradient descent and calculations of gradients\n",
    "\n",
    "In order to optimize the VQE ansatz, we need to compute derivatives\n",
    "with respect to the variational parameters.  Here we develop first a\n",
    "simpler approach tailored to the one-qubit case. For this particular\n",
    "case, we have defined an ansatz in terms of the Pauli rotation\n",
    "matrices. These define an arbitrary one-qubit state on the Bloch\n",
    "sphere through the expression"
   ]
  },
  {
   "cell_type": "markdown",
   "id": "86ca7740",
   "metadata": {},
   "source": [
    "$$\n",
    "\\vert\\psi\\rangle = \\vert \\psi(\\theta,\\phi)\\rangle =R_y(\\phi)R_x(\\theta)\\vert 0 \\rangle.\n",
    "$$"
   ]
  },
  {
   "cell_type": "markdown",
   "id": "dbff5f23",
   "metadata": {},
   "source": [
    "Each of these rotation matrices can be written in a more general form as"
   ]
  },
  {
   "cell_type": "markdown",
   "id": "b33e2c1d",
   "metadata": {},
   "source": [
    "$$\n",
    "R_{i}(\\gamma)=\\exp{-(\\imath\\frac{\\gamma}{2}\\sigma_i)}=\\cos{(\\frac{\\gamma}{2})}\\boldsymbol{I}-\\imath\\sin{(\\frac{\\gamma}{2})}\\boldsymbol{\\sigma}_i,\n",
    "$$"
   ]
  },
  {
   "cell_type": "markdown",
   "id": "6a43487e",
   "metadata": {},
   "source": [
    "where $\\sigma_i$ is one of the Pauli matrices $\\sigma_{x,y,z}$. \n",
    "\n",
    "It is easy to see that the derivative with respect to $\\gamma$ is"
   ]
  },
  {
   "cell_type": "markdown",
   "id": "f90d96df",
   "metadata": {},
   "source": [
    "$$\n",
    "\\frac{\\partial R_{i}(\\gamma)}{\\partial \\gamma}=-\\frac{\\gamma}{2}\\boldsymbol{\\sigma}_i R_{i}(\\gamma).\n",
    "$$"
   ]
  },
  {
   "cell_type": "markdown",
   "id": "055aac25",
   "metadata": {},
   "source": [
    "We can now calculate the derivative of the expectation value of the\n",
    "Hamiltonian in terms of the angles $\\theta$ and $\\phi$. We have two\n",
    "derivatives"
   ]
  },
  {
   "cell_type": "markdown",
   "id": "d3087509",
   "metadata": {},
   "source": [
    "$$\n",
    "\\frac{\\partial}{\\partial \\theta}\\left[\\langle \\psi(\\theta,\\phi) \\vert \\boldsymbol{H}\\vert \\psi(\\theta,\\phi)\\rangle\\right]=\\frac{\\partial}{\\partial \\theta}\\left[\\langle\\boldsymbol{H}(\\theta,\\phi)\\rangle\\right]=\\langle \\psi(\\theta,\\phi) \\vert \\boldsymbol{H}(-\\frac{\\imath}{2}\\boldsymbol{\\sigma}_x\\vert \\psi(\\theta,\\phi)\\rangle+\\hspace{0.1cm}\\mathrm{h.c},\n",
    "$$"
   ]
  },
  {
   "cell_type": "markdown",
   "id": "a4b29470",
   "metadata": {},
   "source": [
    "and"
   ]
  },
  {
   "cell_type": "markdown",
   "id": "d4537d24",
   "metadata": {},
   "source": [
    "$$\n",
    "\\frac{\\partial }{\\partial \\phi}\\left[\\langle \\psi(\\theta,\\phi) \\vert \\boldsymbol{H}\\vert \\psi(\\theta,\\phi)\\rangle\\right]=\\frac{\\partial}{\\partial \\phi}\\left[\\langle\\boldsymbol{H}(\\theta,\\phi)\\rangle\\right]=\\langle \\psi(\\theta,\\phi) \\vert \\boldsymbol{H}(-\\frac{\\imath}{2}\\boldsymbol{\\sigma}_y\\vert \\psi(\\theta,\\phi)\\rangle+\\hspace{0.1cm}\\mathrm{h.c}.\n",
    "$$"
   ]
  },
  {
   "cell_type": "markdown",
   "id": "95b631ec",
   "metadata": {},
   "source": [
    "This means that we have to calculate two additional expectation values\n",
    "in addition to the expectation value of the Hamiltonian itself.  If we\n",
    "stay with an ansatz for the single qubit states given by the above\n",
    "rotation operators, we can, following for example [the article by\n",
    "Maria Schuld et\n",
    "al](https://journals.aps.org/pra/abstract/10.1103/PhysRevA.99.032331),\n",
    "show that the derivative of the expectation value of the Hamiltonian\n",
    "can be written as (we focus only on a given angle $\\phi$)"
   ]
  },
  {
   "cell_type": "markdown",
   "id": "d3496940",
   "metadata": {},
   "source": [
    "$$\n",
    "\\frac{\\partial}{\\partial \\phi}\\left[\\langle\\boldsymbol{H}(\\phi)\\rangle\\right]=\\frac{1}{2}\\left[\\langle\\boldsymbol{H}(\\phi+\\frac{\\pi}{2})\\rangle-\\langle\\boldsymbol{H}(\\phi-\\frac{\\pi}{2})\\rangle\\right].\n",
    "$$"
   ]
  },
  {
   "cell_type": "markdown",
   "id": "a03c16f6",
   "metadata": {},
   "source": [
    "To see this, consider again the definition of the rotation operators.\n",
    "We can write these operators as"
   ]
  },
  {
   "cell_type": "markdown",
   "id": "4651582b",
   "metadata": {},
   "source": [
    "$$\n",
    "R_i(\\phi)=\\exp{-\\imath(\\phi \\boldsymbol{\\sigma}_i)},\n",
    "$$"
   ]
  },
  {
   "cell_type": "markdown",
   "id": "69c21e38",
   "metadata": {},
   "source": [
    "with $\\boldsymbol{sigma}_i$, with $\\boldsymbol{\\sigma}_i$ being any of the Pauli\n",
    "matrices $X$, $Y$ and $Z$. The latter can be generalized to other\n",
    "unitary matrices as well.\n",
    "The derivative with respect to $\\phi$ gives"
   ]
  },
  {
   "cell_type": "markdown",
   "id": "b7788bbb",
   "metadata": {},
   "source": [
    "$$\n",
    "\\frac{\\partial R_i(\\phi)}{\\partial \\phi}=-\\frac{\\imath}{2} \\boldsymbol{\\sigma}_i\\exp{-\\imath(\\phi \\boldsymbol{\\sigma}_i)}=-\\frac{\\imath}{2} \\boldsymbol{\\sigma} R_i(\\phi).\n",
    "$$"
   ]
  },
  {
   "cell_type": "markdown",
   "id": "04d0e87d",
   "metadata": {},
   "source": [
    "Our ansatz for a general one-qubit state on the Bloch sphere contains the product of a rotation around the $x$-axis and the $y$-axis. In the derivation here we focus only on one angle however. Our ansatz is then given by"
   ]
  },
  {
   "cell_type": "markdown",
   "id": "295554bb",
   "metadata": {},
   "source": [
    "$$\n",
    "\\vert \\psi \\rangle = R_i(\\phi)\\vert 0 \\rangle,\n",
    "$$"
   ]
  },
  {
   "cell_type": "markdown",
   "id": "b46effbd",
   "metadata": {},
   "source": [
    "and the expectation value of our Hamiltonian is"
   ]
  },
  {
   "cell_type": "markdown",
   "id": "30952b97",
   "metadata": {},
   "source": [
    "$$\n",
    "\\langle \\psi \\vert \\hat{H}\\vert \\psi \\rangle = \\langle 0 \\vert R_i(\\phi)^{\\dagger} \\hat{H}R_i(\\phi)\\vert 0\\rangle.\n",
    "$$"
   ]
  },
  {
   "cell_type": "markdown",
   "id": "7ab6890c",
   "metadata": {},
   "source": [
    "Our derivative with respect to the angle $\\phi$ has a similar structure, that is"
   ]
  },
  {
   "cell_type": "markdown",
   "id": "f24c1785",
   "metadata": {},
   "source": [
    "$$\n",
    "\\frac{\\partial }{\\partial \\phi}\\left[\\langle \\psi(\\theta,\\phi) \\vert \\boldsymbol{H}\\vert \\psi(\\theta,\\phi)\\rangle\\right]=\\langle \\psi(\\theta,\\phi) \\vert \\boldsymbol{H}(-\\frac{\\imath}{2}\\boldsymbol{\\sigma}_y\\vert \\psi(\\theta,\\phi)\\rangle+\\hspace{0.1cm}\\mathrm{h.c}.\n",
    "$$"
   ]
  },
  {
   "cell_type": "markdown",
   "id": "dfc95264",
   "metadata": {},
   "source": [
    "In order to rewrite the equation of the derivative,\n",
    "the following relation is useful"
   ]
  },
  {
   "cell_type": "markdown",
   "id": "a8d64748",
   "metadata": {},
   "source": [
    "$$\n",
    "\\langle \\psi \\vert \\hat{A}^{\\dagger}\\hat{B}\\hat{C}\\vert \\psi \\rangle = \\frac{1}{2}\\left[\n",
    "\\langle \\psi \\vert (\\hat{A}+\\hat{C})^{\\dagger}\\hat{B}(\\boldsymbol{A}+\\hat{C})\\vert \\psi \\rangle-\\langle \\psi \\vert (\\hat{A}-\\hat{C})^{\\dagger}\\hat{B}(\\boldsymbol{A}-\\hat{C})\\vert \\psi \\rangle\\right],\n",
    "$$"
   ]
  },
  {
   "cell_type": "markdown",
   "id": "756dffce",
   "metadata": {},
   "source": [
    "where $\\hat{A}$, $\\hat{B}$ and $\\hat{C}$ are arbitrary hermitian\n",
    "operators.  If we identify these operators as $\\hat{A}=\\boldsymbol{I}$, with\n",
    "$\\boldsymbol{I}$ being the unit operator, $\\hat{B}=\\hat{H}$ our Hamiltonian,\n",
    "and $\\hat{C}=-\\imath \\boldsymbol{\\sigma}_i/2$, we obtain the following\n",
    "expression for the expectation value of the derivative (excluding the hermitian conjugate)"
   ]
  },
  {
   "cell_type": "markdown",
   "id": "934a8578",
   "metadata": {},
   "source": [
    "$$\n",
    "\\langle \\psi \\vert \\boldsymbol{I}^{\\dagger}\\hat{H}(-\\frac{\\imath}{2}\\boldsymbol{\\sigma}_i\\vert \\psi \\rangle = \\frac{1}{2}\\left[\n",
    "\\langle \\psi \\vert (\\boldsymbol{I}-\\frac{\\imath}{2} \\boldsymbol{\\sigma}_i)^{\\dagger}\\hat{H}(\\boldsymbol{I}-\\frac{\\imath}{2} \\boldsymbol{\\sigma}_i)\\vert \\psi \\rangle-\\langle \\psi \\vert (\\boldsymbol{I}+\\frac{\\imath}{2} \\boldsymbol{\\sigma}_i)^{\\dagger}\\hat{H}(\\boldsymbol{I}+\\frac{\\imath}{2} \\boldsymbol{\\sigma}_i)\\vert \\psi \\rangle\\right].\n",
    "$$"
   ]
  },
  {
   "cell_type": "markdown",
   "id": "c9dc9c0f",
   "metadata": {},
   "source": [
    "If we then use that the rotation matrices can be rewritten as"
   ]
  },
  {
   "cell_type": "markdown",
   "id": "0264b875",
   "metadata": {},
   "source": [
    "$$\n",
    "R_{i}(\\phi)=\\exp{-(\\imath\\frac{\\phi}{2}\\sigma_i)}=\\cos{(\\frac{\\phi}{2})}\\boldsymbol{I}-\\imath\\sin{(\\frac{\\phi}{2})}\\boldsymbol{\\sigma}_i,\n",
    "$$"
   ]
  },
  {
   "cell_type": "markdown",
   "id": "fe3ec59a",
   "metadata": {},
   "source": [
    "we see that if we set the angle to $\\phi=\\pi/2$, we have"
   ]
  },
  {
   "cell_type": "markdown",
   "id": "24f09a2a",
   "metadata": {},
   "source": [
    "$$\n",
    "R_{i}(\\frac{\\pi}{2})=\\cos{(\\frac{\\pi}{4})}\\boldsymbol{I}-\\imath\\sin{(\\frac{\\pi}{4})}\\boldsymbol{\\sigma}_i=\\frac{1}{\\sqrt{2}}\\left(\\boldsymbol{I}-\\frac{\\imath}{2} \\boldsymbol{\\sigma}_i\\right).\n",
    "$$"
   ]
  },
  {
   "cell_type": "markdown",
   "id": "9485ab6f",
   "metadata": {},
   "source": [
    "This means that we can write"
   ]
  },
  {
   "cell_type": "markdown",
   "id": "680f3761",
   "metadata": {},
   "source": [
    "$$\n",
    "\\langle \\psi \\vert \\boldsymbol{I}^{\\dagger}\\hat{H}(-\\frac{\\imath}{2}\\boldsymbol{\\sigma}_i\\vert \\psi \\rangle = \\frac{1}{2}\\left[\n",
    "\\langle \\psi \\vert R_i(\\frac{\\pi}{2})^{\\dagger}\\hat{H}R_i(\\frac{\\pi}{2})\\vert \\psi \\rangle-\\langle \\psi \\vert R_i(-\\frac{\\pi}{2})^{\\dagger}\\hat{H}R_i(-\\frac{\\pi}{2})^{\\dagger}\\vert \\psi \\rangle\\right]=\\frac{1}{2}(\\langle\\hat{H}(\\phi+\\frac{\\pi}{2})\\rangle-\\langle\\hat{H}(\\phi-\\frac{\\pi}{2})\\rangle).\n",
    "$$"
   ]
  },
  {
   "cell_type": "markdown",
   "id": "1bd30e1b",
   "metadata": {},
   "source": [
    "## Simulations of the various models\n",
    "\n",
    "For the simulations, see the jupyter-notebooks at <https://github.com/CompPhysics/QuantumComputingLectures/tree/gh-pages/doc/Programs/LipkinModel>"
   ]
  },
  {
   "cell_type": "markdown",
   "id": "68d56005",
   "metadata": {},
   "source": [
    "## Additional material on the Lipkin model"
   ]
  },
  {
   "cell_type": "markdown",
   "id": "461ebdbb",
   "metadata": {},
   "source": [
    "## Properties of the Lipkin model\n",
    "\n",
    "We have the following quasispin operators"
   ]
  },
  {
   "cell_type": "markdown",
   "id": "6cd91f5b",
   "metadata": {},
   "source": [
    "<!-- Equation labels as ordinary links -->\n",
    "<div id=\"eq:Jpm\"></div>\n",
    "\n",
    "$$\n",
    "\\begin{equation}\n",
    "J_{\\pm} = \\sum_p a_{p\\pm}^\\dagger a_{p\\mp},\n",
    "\\label{eq:Jpm} \\tag{7} \n",
    "\\end{equation}\n",
    "$$"
   ]
  },
  {
   "cell_type": "markdown",
   "id": "0b885797",
   "metadata": {},
   "source": [
    "<!-- Equation labels as ordinary links -->\n",
    "<div id=\"eq:Jz\"></div>\n",
    "\n",
    "$$\n",
    "\\begin{equation} \n",
    "J_{z} = \\frac{1}{2}\\sum_{p,\\sigma} \\sigma a_{p\\sigma}^\\dagger a_{p\\sigma},\n",
    "\\label{eq:Jz} \\tag{8} \n",
    "\\end{equation}\n",
    "$$"
   ]
  },
  {
   "cell_type": "markdown",
   "id": "6f871f9f",
   "metadata": {},
   "source": [
    "<!-- Equation labels as ordinary links -->\n",
    "<div id=\"eq:J2\"></div>\n",
    "\n",
    "$$\n",
    "\\begin{equation} \n",
    "J^{2} = J_+ J_- + J_z^2 - J_z,\n",
    "\\label{eq:J2} \\tag{9}\n",
    "\\end{equation}\n",
    "$$"
   ]
  },
  {
   "cell_type": "markdown",
   "id": "a2e3aed2",
   "metadata": {},
   "source": [
    "and we want to compute the commutators"
   ]
  },
  {
   "cell_type": "markdown",
   "id": "5f78a225",
   "metadata": {},
   "source": [
    "$$\n",
    "[J_z,J_\\pm], \\quad [J_+,J_-], \\quad [J^2,J_\\pm] \\quad \\text{og} \\quad \n",
    "[J^2,J_z].\n",
    "$$"
   ]
  },
  {
   "cell_type": "markdown",
   "id": "7d67bf31",
   "metadata": {},
   "source": [
    "Let us start with the first one and inserting for  $J_z$ and $J_\\pm$ given by the equations ([8](#eq:Jz)) and ([7](#eq:Jpm)), respectively, we obtain"
   ]
  },
  {
   "cell_type": "markdown",
   "id": "7a8f510c",
   "metadata": {},
   "source": [
    "$$\n",
    "\\begin{align*}\n",
    "[J_z,J_\\pm] &= J_z J_\\pm - J_\\pm J_z \\\\\n",
    "%\n",
    "&= \\left( \\frac{1}{2}\\sum_{p,\\sigma} \\sigma a_{p\\sigma}^\\dagger a_{p\\sigma} \\right)\n",
    "\\left( \\sum_{p'} a_{p'\\pm}^\\dagger a_{p'\\mp} \\right) -\n",
    "\\left( \\sum_{p'} a_{p'\\pm}^\\dagger a_{p'\\mp} \\right)\n",
    "\\left( \\frac{1}{2}\\sum_{p,\\sigma} \\sigma a_{p\\sigma}^\\dagger a_{p\\sigma} \\right) \\\\\n",
    "&= \\frac{1}{2} \\sum_{p,p',\\sigma} \\sigma \\left( a_{p\\sigma}^\\dagger a_{p\\sigma} a_{p'\\pm}^\\dagger a_{p'\\mp} - a_{p'\\pm}^\\dagger a_{p'\\mp} a_{p\\sigma}^\\dagger a_{p\\sigma} \\right).\n",
    "\\end{align*}\n",
    "$$"
   ]
  },
  {
   "cell_type": "markdown",
   "id": "fc2659cc",
   "metadata": {},
   "source": [
    "Using the commutation relations for the creation and annihilation operators"
   ]
  },
  {
   "cell_type": "markdown",
   "id": "7cbf64ee",
   "metadata": {},
   "source": [
    "<!-- Equation labels as ordinary links -->\n",
    "<div id=\"eq:al,ak\"></div>\n",
    "\n",
    "$$\n",
    "\\begin{equation}\n",
    "\\{ a_l,a_k \\} = 0, \\label{eq:al,ak} \\tag{10} \n",
    "\\end{equation}\n",
    "$$"
   ]
  },
  {
   "cell_type": "markdown",
   "id": "d3c43748",
   "metadata": {},
   "source": [
    "<!-- Equation labels as ordinary links -->\n",
    "<div id=\"eq:ald,akd\"></div>\n",
    "\n",
    "$$\n",
    "\\begin{equation} \n",
    "\\{ a_l^\\dagger , a_k^\\dagger \\} = 0, \\label{eq:ald,akd} \\tag{11} \n",
    "\\end{equation}\n",
    "$$"
   ]
  },
  {
   "cell_type": "markdown",
   "id": "6c683984",
   "metadata": {},
   "source": [
    "<!-- Equation labels as ordinary links -->\n",
    "<div id=\"eq:ald,ak\"></div>\n",
    "\n",
    "$$\n",
    "\\begin{equation} \n",
    "\\{ a_l^\\dagger , a_k \\} = \\delta_{lk}, \\label{eq:ald,ak} \\tag{12}\n",
    "\\end{equation}\n",
    "$$"
   ]
  },
  {
   "cell_type": "markdown",
   "id": "3bfe6857",
   "metadata": {},
   "source": [
    "in order to move the operators in the right product to be in the same order as those in the lefthand product"
   ]
  },
  {
   "cell_type": "markdown",
   "id": "8259f5b0",
   "metadata": {},
   "source": [
    "$$\n",
    "\\begin{align*}\n",
    "[J_z,J_\\pm] &= \\frac{1}{2} \\sum_{p,p',\\sigma} \\sigma \\left(\n",
    "a_{p\\sigma}^\\dagger a_{p\\sigma} a_{p'\\pm}^\\dagger a_{p'\\mp} -\n",
    "a_{p'\\pm}^\\dagger \\left( \\delta_{p' p} \\delta_{\\mp \\sigma} - a_{p\\sigma}^\\dagger a_{p'\\mp} \\right) a_{p\\sigma} \\right) \\\\\n",
    "&= \\frac{1}{2} \\sum_{p,p',\\sigma} \\sigma \\left(\n",
    "a_{p\\sigma}^\\dagger a_{p\\sigma} a_{p'\\pm}^\\dagger a_{p'\\mp} -\n",
    "a_{p'\\pm}^\\dagger \\delta_{p' p} \\delta_{\\mp \\sigma} a_{p\\sigma} +\n",
    "a_{p'\\pm}^\\dagger a_{p\\sigma}^\\dagger a_{p'\\mp} a_{p\\sigma} \\right), \\\\\n",
    "\\end{align*}\n",
    "$$"
   ]
  },
  {
   "cell_type": "markdown",
   "id": "a46c45fe",
   "metadata": {},
   "source": [
    "which results in"
   ]
  },
  {
   "cell_type": "markdown",
   "id": "6a00ed42",
   "metadata": {},
   "source": [
    "$$\n",
    "\\begin{align*}\n",
    "[J_z,J_\\pm]\n",
    "&= \\frac{1}{2} \\sum_{p,p',\\sigma} \\sigma \\left(\n",
    "a_{p\\sigma}^\\dagger a_{p\\sigma} a_{p'\\pm}^\\dagger a_{p'\\mp} -\n",
    "a_{p'\\pm}^\\dagger \\delta_{pp'} \\delta_{\\mp \\sigma} a_{p\\sigma} +\n",
    "a_{p\\sigma}^\\dagger a_{p'\\pm}^\\dagger a_{p\\sigma} a_{p'\\mp} \\right) \\\\\n",
    "&= \\frac{1}{2} \\sum_{p,p',\\sigma} \\sigma \\left(\n",
    "a_{p\\sigma}^\\dagger a_{p\\sigma} a_{p'\\pm}^\\dagger a_{p'\\mp} -\n",
    "a_{p'\\pm}^\\dagger \\delta_{pp'} \\delta_{\\mp \\sigma} a_{p\\sigma} +\n",
    "a_{p\\sigma}^\\dagger \\left( \\delta_{pp'} \\delta_{\\pm \\sigma} - a_{p\\sigma} a_{p'\\pm}^\\dagger \\right) a_{p'\\mp} \\right) \\\\\n",
    "&= \\frac{1}{2} \\sum_{p,p',\\sigma} \\sigma \\left(\n",
    "a_{p\\sigma}^\\dagger \\delta_{pp'} \\delta_{\\pm \\sigma} a_{p'\\mp} -\n",
    "a_{p'\\pm}^\\dagger \\delta_{pp'} \\delta_{\\mp \\sigma} a_{p\\sigma} \\right). \\\\\n",
    "\\end{align*}\n",
    "$$"
   ]
  },
  {
   "cell_type": "markdown",
   "id": "a8aa57c5",
   "metadata": {},
   "source": [
    "The last equality leads to"
   ]
  },
  {
   "cell_type": "markdown",
   "id": "7e0240fe",
   "metadata": {},
   "source": [
    "$$\n",
    "\\begin{align*}\n",
    "[J_z,J_\\pm] &= \\frac{1}{2} \\sum_p \\left(\n",
    "(\\pm 1) a_{p\\pm}^\\dagger a_{p\\mp} - (\\mp 1)\n",
    "a_{p\\pm}^\\dagger a_{p\\mp} \\right) =\n",
    "\\pm \\frac{1}{2} \\sum_p \\left(\n",
    "a_{p\\pm}^\\dagger a_{p\\mp} + (\\pm 1)\n",
    "a_{p\\pm}^\\dagger a_{p\\mp} \\right) \\\\\n",
    "&= \\pm \\sum_p a_{p\\pm}^\\dagger a_{p\\mp} = \\pm J_\\pm,\n",
    "\\end{align*}\n",
    "$$"
   ]
  },
  {
   "cell_type": "markdown",
   "id": "a8a64fc3",
   "metadata": {},
   "source": [
    "where the last results follows from comparing with Eq. ([7](#eq:Jpm)).\n",
    "\n",
    "We can then continue with the next commutation relation, using Eq. ([7](#eq:Jpm)),"
   ]
  },
  {
   "cell_type": "markdown",
   "id": "19847873",
   "metadata": {},
   "source": [
    "$$\n",
    "\\begin{align*}\n",
    "[J_+,J_-] &= J_+ J_- - J_- J_+ \\\\\n",
    "&= \\left( \\sum_p a_{p'+}^\\dagger a_{p-} \\right)\n",
    "\\left( \\sum_{p'} a_{p'-}^\\dagger a_{p'+} \\right) -\n",
    "\\left( \\sum_{p'} a_{p'-}^\\dagger a_{p'+} \\right)\n",
    "\\left( \\sum_p a_{p+}^\\dagger a_{p-} \\right) \\\\\n",
    "&= \\sum_{p,p'} \\left(\n",
    "a_{p'+}^\\dagger a_{p-} a_{p'-}^\\dagger a_{p'+} -\n",
    "a_{p'-}^\\dagger a_{p'+} a_{p+}^\\dagger a_{p-} \\right) \\\\\n",
    "&= \\sum_{p,p'} \\left(\n",
    "a_{p'+}^\\dagger a_{p-} a_{p'-}^\\dagger a_{p'+} -\n",
    "a_{p'-}^\\dagger \\left( \\delta_{++} \\delta_{pp'} -\n",
    "a_{p+}^\\dagger a_{p'+} \\right) a_{p-} \\right) \\\\\n",
    "&= \\sum_{p,p'} \\left(\n",
    "a_{p'+}^\\dagger a_{p-} a_{p'-}^\\dagger a_{p'+} -\n",
    "a_{p'-}^\\dagger \\delta_{pp'} a_{p-} +\n",
    "a_{p'-}^\\dagger a_{p+}^\\dagger a_{p'+} a_{p-} \\right) \\\\\n",
    "&= \\sum_{p,p'} \\left(\n",
    "a_{p'+}^\\dagger a_{p-} a_{p'-}^\\dagger a_{p'+} -\n",
    "a_{p'-}^\\dagger \\delta_{pp'} a_{p-} +\n",
    "a_{p+}^\\dagger a_{p'-}^\\dagger a_{p-} a_{p'+} \\right) \\\\\n",
    "&= \\sum_{p,p'} \\left(\n",
    "a_{p'+}^\\dagger a_{p-} a_{p'-}^\\dagger a_{p'+} -\n",
    "a_{p'-}^\\dagger \\delta_{pp'} a_{p-} +\n",
    "a_{p+}^\\dagger \\left( \\delta_{--} \\delta_{pp'} -\n",
    "a_{p-} a_{p'-}^\\dagger \\right) a_{p'+} \\right) \\\\\n",
    "&= \\sum_{p,p'} \\left(\n",
    "a_{p+}^\\dagger \\delta_{pp'} a_{p'+} -\n",
    "a_{p'-}^\\dagger \\delta_{pp'} a_{p-} \\right), \\\\\n",
    "\\end{align*}\n",
    "$$"
   ]
  },
  {
   "cell_type": "markdown",
   "id": "dc7d54c3",
   "metadata": {},
   "source": [
    "which results in"
   ]
  },
  {
   "cell_type": "markdown",
   "id": "c0e4ed6c",
   "metadata": {},
   "source": [
    "$$\n",
    "[J_+,J_-] = \\sum_p \\left(\n",
    "a_{p+}^\\dagger a_{p+} -\n",
    "a_{p-}^\\dagger a_{p-} \\right) = 2J_z,\n",
    "$$"
   ]
  },
  {
   "cell_type": "markdown",
   "id": "9904b7d7",
   "metadata": {},
   "source": [
    "It is straightforward to show that"
   ]
  },
  {
   "cell_type": "markdown",
   "id": "2b6e57fc",
   "metadata": {},
   "source": [
    "$$\n",
    "[J^2, J_\\pm] = [J_+ J_- + J_z^2 - J_z, J_\\pm] =\n",
    "[J_+ J_-, J_\\pm] + [J_z^2, J_\\pm] - [J_z, J_\\pm].\n",
    "$$"
   ]
  },
  {
   "cell_type": "markdown",
   "id": "7fd21738",
   "metadata": {},
   "source": [
    "Using the relations"
   ]
  },
  {
   "cell_type": "markdown",
   "id": "95854db8",
   "metadata": {},
   "source": [
    "<!-- Equation labels as ordinary links -->\n",
    "<div id=\"eq:ab,c\"></div>\n",
    "\n",
    "$$\n",
    "\\begin{equation}\n",
    "[AB,C] = A[B,C] + [A,C]B, \\label{eq:ab,c} \\tag{13} \n",
    "\\end{equation}\n",
    "$$"
   ]
  },
  {
   "cell_type": "markdown",
   "id": "82091b2f",
   "metadata": {},
   "source": [
    "<!-- Equation labels as ordinary links -->\n",
    "<div id=\"eq:a,bc\"></div>\n",
    "\n",
    "$$\n",
    "\\begin{equation} \n",
    "[A,BC] = [A,B]C + B[A,C], \\label{eq:a,bc} \\tag{14}\n",
    "\\end{equation}\n",
    "$$"
   ]
  },
  {
   "cell_type": "markdown",
   "id": "2331eb36",
   "metadata": {},
   "source": [
    "we obtain"
   ]
  },
  {
   "cell_type": "markdown",
   "id": "d7922cfa",
   "metadata": {},
   "source": [
    "$$\n",
    "[J^2, J_\\pm] =\n",
    "J_+ [J_-,J_\\pm] + [J_+,J_\\pm] J_- + J_z [J_z,J_\\pm] + [J_z,J_\\pm] J_z - [J_z,J_\\pm].\n",
    "$$"
   ]
  },
  {
   "cell_type": "markdown",
   "id": "53ebfbd8",
   "metadata": {},
   "source": [
    "Finally, from the above it follows that"
   ]
  },
  {
   "cell_type": "markdown",
   "id": "a33a6952",
   "metadata": {},
   "source": [
    "$$\n",
    "\\begin{align*}\n",
    "[J^2, J_+] &= -2J_+ J_z + J_z [J_z,J_+] + [J_z,J_+] J_z - [J_z,J_+] \\\\\n",
    "&= -2J_+ J_z + J_z J_+ + J_+ J_z - J_+ \\\\\n",
    "&= -2J_+ J_z + J_+ + J_+ J_z + J_+ J_z - J_+ = 0,\n",
    "\\end{align*}\n",
    "$$"
   ]
  },
  {
   "cell_type": "markdown",
   "id": "1036768a",
   "metadata": {},
   "source": [
    "and"
   ]
  },
  {
   "cell_type": "markdown",
   "id": "855e8b21",
   "metadata": {},
   "source": [
    "$$\n",
    "\\begin{align*}\n",
    "[J^2, J_-] &= 2J_z J_- + J_z [J_z,J_-] + [J_z,J_-] J_z - [J_z,J_-] \\\\\n",
    "&= 2J_z J_- - J_z J_- - J_- J_z + J_- \\\\\n",
    "&= J_z J_- - (J_z J_- + J_-) + J_- = 0.\n",
    "\\end{align*}\n",
    "$$"
   ]
  },
  {
   "cell_type": "markdown",
   "id": "b951eea7",
   "metadata": {},
   "source": [
    "Our last commutator is given by"
   ]
  },
  {
   "cell_type": "markdown",
   "id": "191bc6f1",
   "metadata": {},
   "source": [
    "$$\n",
    "\\begin{align*}\n",
    "[J^2,J_z] &= [J_+ J_- + J_z^2 - J_z, J_z] \\\\\n",
    "&= [J_+ J_-, J_z] + [J_z^2, J_z] - [J_z, J_z] \\\\\n",
    "&= J_+ [J_-, J_z] + [J_+,J_z] J_- \\\\\n",
    "&= J_+ J_- - J_+ J_- = 0\n",
    "\\end{align*}\n",
    "$$"
   ]
  },
  {
   "cell_type": "markdown",
   "id": "71305d7f",
   "metadata": {},
   "source": [
    "Summing up we have"
   ]
  },
  {
   "cell_type": "markdown",
   "id": "676d9c32",
   "metadata": {},
   "source": [
    "<!-- Equation labels as ordinary links -->\n",
    "<div id=\"eq:kJzJpm\"></div>\n",
    "\n",
    "$$\n",
    "\\begin{equation}\n",
    "[J_z, J_\\pm] = \\pm J_\\pm, \\label{eq:kJzJpm} \\tag{15} \n",
    "\\end{equation}\n",
    "$$"
   ]
  },
  {
   "cell_type": "markdown",
   "id": "a8d7753b",
   "metadata": {},
   "source": [
    "<!-- Equation labels as ordinary links -->\n",
    "<div id=\"eq:kJpJm\"></div>\n",
    "\n",
    "$$\n",
    "\\begin{equation} \n",
    "[J_+, J_-] = 2J_z, \\label{eq:kJpJm} \\tag{16} \n",
    "\\end{equation}\n",
    "$$"
   ]
  },
  {
   "cell_type": "markdown",
   "id": "f835b656",
   "metadata": {},
   "source": [
    "<!-- Equation labels as ordinary links -->\n",
    "<div id=\"eq:kJ2Jpm\"></div>\n",
    "\n",
    "$$\n",
    "\\begin{equation} \n",
    "[J^2, J_\\pm] = 0, \\label{eq:kJ2Jpm} \\tag{17} \n",
    "\\end{equation}\n",
    "$$"
   ]
  },
  {
   "cell_type": "markdown",
   "id": "cd168925",
   "metadata": {},
   "source": [
    "<!-- Equation labels as ordinary links -->\n",
    "<div id=\"eq:kJ2Jz\"></div>\n",
    "\n",
    "$$\n",
    "\\begin{equation} \n",
    "[J^2,J_z] = 0, \\label{eq:kJ2Jz} \\tag{18}\n",
    "\\end{equation}\n",
    "$$"
   ]
  },
  {
   "cell_type": "markdown",
   "id": "f53e4f9a",
   "metadata": {},
   "source": [
    "which are the standard commutation relations for angular (or orbital) momentum $L_\\pm$, $L_z$ og $L^2$.\n",
    "\n",
    "We can rewrite the Hamiltonian in terms of the above quasi-spin operators and the number operator"
   ]
  },
  {
   "cell_type": "markdown",
   "id": "13ba3928",
   "metadata": {},
   "source": [
    "<!-- Equation labels as ordinary links -->\n",
    "<div id=\"eq:N\"></div>\n",
    "\n",
    "$$\n",
    "\\begin{equation}\n",
    "N = \\sum_{p,\\sigma} a_{p\\sigma}^\\dagger a_{p\\sigma}.\n",
    "\\label{eq:N} \\tag{19}\n",
    "\\end{equation}\n",
    "$$"
   ]
  },
  {
   "cell_type": "markdown",
   "id": "b888ad12",
   "metadata": {},
   "source": [
    "Going through each term of the Hamiltonian and using the expressions for the quasi-spin operators we obtain"
   ]
  },
  {
   "cell_type": "markdown",
   "id": "c57e867e",
   "metadata": {},
   "source": [
    "<!-- Equation labels as ordinary links -->\n",
    "<div id=\"eq:H0ny\"></div>\n",
    "\n",
    "$$\n",
    "\\begin{equation}\n",
    "H_0 = \\varepsilon J_z.\n",
    "\\label{eq:H0ny} \\tag{20}\n",
    "\\end{equation}\n",
    "$$"
   ]
  },
  {
   "cell_type": "markdown",
   "id": "80d8aa75",
   "metadata": {},
   "source": [
    "Moving over to $H_1$ and using the anti-commutation relations ([10](#eq:al,ak)) through ([12](#eq:ald,ak)) we obtain"
   ]
  },
  {
   "cell_type": "markdown",
   "id": "f25893f0",
   "metadata": {},
   "source": [
    "$$\n",
    "\\begin{align*}\n",
    "H_1 &= \\frac{1}{2} V \\sum_{p,p',\\sigma}\n",
    "a_{p\\sigma}^\\dagger a_{p'\\sigma}^\\dagger a_{p'-\\sigma} a_{p-\\sigma} \\\\\n",
    "&= \\frac{1}{2} V \\sum_{p,p',\\sigma}\n",
    "-a_{p\\sigma}^\\dagger a_{p'\\sigma}^\\dagger a_{p-\\sigma} a_{p'-\\sigma} \\\\\n",
    "&= \\frac{1}{2} V \\sum_{p,p',\\sigma}\n",
    "-a_{p\\sigma}^\\dagger \\left( \\delta_{pp'} \\delta_{\\sigma -\\sigma} - a_{p-\\sigma} a_{p'\\sigma}^\\dagger \\right) a_{p'-\\sigma} \\\\\n",
    "&= \\frac{1}{2} V \\sum_{p,p',\\sigma}\n",
    "a_{p\\sigma}^\\dagger a_{p-\\sigma} a_{p'\\sigma}^\\dagger a_{p'-\\sigma} \\\\\n",
    "\\end{align*}\n",
    "$$"
   ]
  },
  {
   "cell_type": "markdown",
   "id": "2f47da31",
   "metadata": {},
   "source": [
    "Rewriting the sum  over $\\sigma$ we arrive at"
   ]
  },
  {
   "cell_type": "markdown",
   "id": "4dead6b2",
   "metadata": {},
   "source": [
    "$$\n",
    "\\begin{align*}\n",
    "H_1 &= \\frac{1}{2} V\\sum_{p,p'}\n",
    "a_{p+}^\\dagger a_{p-} a_{p'+}^\\dagger a_{p'-} +\n",
    "a_{p-}^\\dagger a_{p+} a_{p'-}^\\dagger a_{p'+} \\\\\n",
    "&= \\frac{1}{2} V \\left[ \\sum_p \\left( a_{p+}^\\dagger a_{p-} \\right)\n",
    "\\sum_{p'} \\left( a_{p'+}^\\dagger a_{p'-} \\right) +\n",
    "\\sum_p \\left( a_{p-}^\\dagger a_{p+} \\right)\n",
    "\\sum_{p'} \\left( a_{p'-}^\\dagger a_{p'+} \\right) \\right] \\\\\n",
    "&= \\frac{1}{2} V \\left[ J_+ J_+ + J_- J_- \\right] = \\frac{1}{2} V \\left[ J_+^2 + J_-^2 \\right] ,\n",
    "\\end{align*}\n",
    "$$"
   ]
  },
  {
   "cell_type": "markdown",
   "id": "bc979960",
   "metadata": {},
   "source": [
    "which leads to"
   ]
  },
  {
   "cell_type": "markdown",
   "id": "b9cbc85a",
   "metadata": {},
   "source": [
    "<!-- Equation labels as ordinary links -->\n",
    "<div id=\"eq:H1ny\"></div>\n",
    "\n",
    "$$\n",
    "\\begin{equation}\n",
    "H_1 = \\frac{1}{2} V \\left( J_+^2 + J_-^2 \\right).\n",
    "\\label{eq:H1ny} \\tag{21}\n",
    "\\end{equation}\n",
    "$$"
   ]
  },
  {
   "cell_type": "markdown",
   "id": "7bb4b1b6",
   "metadata": {},
   "source": [
    "Finally, we rewrite the last term"
   ]
  },
  {
   "cell_type": "markdown",
   "id": "6e81359f",
   "metadata": {},
   "source": [
    "$$\n",
    "\\begin{align*}\n",
    "H_2 &= \\frac{1}{2} W \\sum_{p,p',\\sigma}\n",
    "a_{p\\sigma}^\\dagger a_{p'-\\sigma}^\\dagger a_{p'\\sigma} a_{p-\\sigma} \\\\\n",
    "&= \\frac{1}{2} W \\sum_{p,p',\\sigma}\n",
    "-a_{p\\sigma}^\\dagger a_{p'-\\sigma}^\\dagger a_{p-\\sigma} a_{p'\\sigma} \\\\\n",
    "&= \\frac{1}{2} W \\sum_{p,p',\\sigma}\n",
    "-a_{p\\sigma}^\\dagger \\left( \\delta_{pp'} \\delta_{-\\sigma -\\sigma} -\n",
    "a_{p-\\sigma} a_{p'-\\sigma}^\\dagger \\right) a_{p'\\sigma} \\\\\n",
    "&= \\frac{1}{2} W \\sum_{p,p',\\sigma}\n",
    "-a_{p\\sigma}^\\dagger \\delta_{pp'} a_{p'\\sigma} +\n",
    "a_{p\\sigma}^\\dagger a_{p-\\sigma} a_{p'-\\sigma}^\\dagger a_{p'\\sigma} \\\\\n",
    "&= \\frac{1}{2} W \\left( -\\sum_{p,\\sigma}\n",
    "a_{p\\sigma}^\\dagger a_{p\\sigma} +\n",
    "\\sum_{p,p',\\sigma} a_{p\\sigma}^\\dagger a_{p-\\sigma} a_{p'-\\sigma}^\\dagger a_{p'\\sigma} \\right) \\\\\n",
    "\\end{align*}\n",
    "$$"
   ]
  },
  {
   "cell_type": "markdown",
   "id": "0668c32f",
   "metadata": {},
   "source": [
    "Using the expression for the number operator we obtain"
   ]
  },
  {
   "cell_type": "markdown",
   "id": "5b5420b9",
   "metadata": {},
   "source": [
    "$$\n",
    "\\begin{align*}\n",
    "\\sum_{p,p',\\sigma} a_{p\\sigma}^\\dagger a_{p-\\sigma} a_{p'-\\sigma}^\\dagger a_{p'\\sigma}\n",
    "&= \\sum_{p,p'} a_{p+}^\\dagger a_{p-} a_{p'-}^\\dagger a_{p'+} +\n",
    "a_{p-}^\\dagger a_{p+} a_{p'+}^\\dagger a_{p'-} \\\\\n",
    "&= \\sum_p \\left( a_{p+}^\\dagger a_{p-} \\right)\n",
    "\\sum_{p'} \\left( a_{p'-}^\\dagger a_{p'+} \\right) +\n",
    "\\sum_p \\left( a_{p-}^\\dagger a_{p+} \\right)\n",
    "\\sum_{p'} \\left( a_{p'+}^\\dagger a_{p'-} \\right) \\\\\n",
    "&= J_+ J_- + J_- J_+,\n",
    "\\end{align*}\n",
    "$$"
   ]
  },
  {
   "cell_type": "markdown",
   "id": "2ee3836e",
   "metadata": {},
   "source": [
    "resulting in"
   ]
  },
  {
   "cell_type": "markdown",
   "id": "0921cf1c",
   "metadata": {},
   "source": [
    "<!-- Equation labels as ordinary links -->\n",
    "<div id=\"eq:H2ny\"></div>\n",
    "\n",
    "$$\n",
    "\\begin{equation}\n",
    "H_2 = \\frac{1}{2} W \\left( -N + J_+ J_- + J_- J_+ \\right).\n",
    "\\label{eq:H2ny} \\tag{22}\n",
    "\\end{equation}\n",
    "$$"
   ]
  },
  {
   "cell_type": "markdown",
   "id": "17b39721",
   "metadata": {},
   "source": [
    "We have thus expressed the Hamiltonian in term of the quasi-spin operators."
   ]
  },
  {
   "cell_type": "markdown",
   "id": "7fbef981",
   "metadata": {},
   "source": [
    "## Commutation relations for the Hamiltonian\n",
    "\n",
    "The above expressions can in turn be used to show that the Hamiltonian\n",
    "commutes with the various quasi-spin operators. This leads to quantum\n",
    "numbers which are conserved.  Let us first show that $[H,J^2]=0$,\n",
    "which means that $J$ is a so-called *good* quantum number and that the\n",
    "total spin is a conserved quantum number.\n",
    "\n",
    "We have"
   ]
  },
  {
   "cell_type": "markdown",
   "id": "fcc52459",
   "metadata": {},
   "source": [
    "$$\n",
    "\\begin{align*}\n",
    "[H,J^2] &= [H_0 + H_1 + H_2,J^2] \\\\\n",
    "&= [H_0,J^2] + [H_1,J^2] + [H_2,J^2] \\\\\n",
    "&= \\varepsilon [J_z,J^2] + \\frac{1}{2} V [J_+^2 + J_-^2,J^2] +\n",
    "\\frac{1}{2} W [-N + J_+ J_- + J_- J_+,J^2]. \\\\\n",
    "\\end{align*}\n",
    "$$"
   ]
  },
  {
   "cell_type": "markdown",
   "id": "96b7df18",
   "metadata": {},
   "source": [
    "We have previously shown that"
   ]
  },
  {
   "cell_type": "markdown",
   "id": "2b873c5c",
   "metadata": {},
   "source": [
    "$$\n",
    "[H,J^2] = \\frac{1}{2} V \\left( [J_+^2,J^2] + [J_-^2,J^2] \\right) +\n",
    "\\frac{1}{2} W \\left( -[N,J^2] + [J_+ J_-,J^2] + [J_- J_+, J^2] \\right)\n",
    "$$"
   ]
  },
  {
   "cell_type": "markdown",
   "id": "0021c93e",
   "metadata": {},
   "source": [
    "Using that $[J_\\pm,J^2] = 0$, it follows that $[J_\\pm^2,J^2] = 0$. We can then see that $[J_+ J_-,J^2] = 0$ and $[J_- J_+, J^2] = 0$ which leads to"
   ]
  },
  {
   "cell_type": "markdown",
   "id": "732c02bb",
   "metadata": {},
   "source": [
    "$$\n",
    "\\begin{align*}\n",
    "[H,J^2] &= -\\frac{1}{2} W [N,J^2] \\\\\n",
    "&= \\frac{1}{2} W \\left( -[N,J_+ J_-] - [N,J_z^2] + [N,J_z] \\right) \\\\\n",
    "&= \\frac{1}{2} W \\left( -[N,J_+]J_- - J_+[N,J_-] - [N,J_z]J_z - J_z[N,J_z] + [N,J_z] \\right).\n",
    "\\end{align*}\n",
    "$$"
   ]
  },
  {
   "cell_type": "markdown",
   "id": "f4862d12",
   "metadata": {},
   "source": [
    "Combining with the number operator we have"
   ]
  },
  {
   "cell_type": "markdown",
   "id": "f9c1a76f",
   "metadata": {},
   "source": [
    "$$\n",
    "\\begin{align*}\n",
    "[N,J_\\pm] &= N J_\\pm - J_\\pm N \\\\\n",
    "&= \\left( \\sum_{p,\\sigma} a_{p\\sigma}^\\dagger a_{p\\sigma} \\right)\n",
    "\\left( \\sum_{p'} a_{p'\\pm}^\\dagger a_{p'\\mp} \\right) -\n",
    "\\left( \\sum_{p'} a_{p'\\pm}^\\dagger a_{p'\\mp} \\right)\n",
    "\\left( \\sum_{p,\\sigma} a_{p\\sigma}^\\dagger a_{p\\sigma} \\right) \\\\\n",
    "&= \\sum_{p,p',\\sigma}\n",
    "a_{p\\sigma}^\\dagger a_{p\\sigma} a_{p'\\pm}^\\dagger a_{p'\\mp} -\n",
    "a_{p'\\pm}^\\dagger a_{p'\\mp} a_{p\\sigma}^\\dagger a_{p\\sigma} \\\\\n",
    "&= \\sum_{p,p',\\sigma}\n",
    "a_{p\\sigma}^\\dagger a_{p\\sigma} a_{p'\\pm}^\\dagger a_{p'\\mp} -\n",
    "a_{p'\\pm}^\\dagger \\left( \\delta_{\\mp \\sigma} \\delta_{pp'} - a_{p\\sigma}^\\dagger a_{p'\\mp} \\right) a_{p\\sigma} \\\\\n",
    "&= \\sum_{p,p',\\sigma}\n",
    "a_{p\\sigma}^\\dagger a_{p\\sigma} a_{p'\\pm}^\\dagger a_{p'\\mp} -\n",
    "a_{p'\\pm}^\\dagger \\delta_{\\mp \\sigma} \\delta_{pp'} a_{p\\sigma} +\n",
    "a_{p'\\pm}^\\dagger a_{p\\sigma}^\\dagger a_{p'\\mp} a_{p\\sigma} \\\\\n",
    "&= \\sum_{p,p',\\sigma}\n",
    "a_{p\\sigma}^\\dagger a_{p\\sigma} a_{p'\\pm}^\\dagger a_{p'\\mp} +\n",
    "a_{p\\sigma}^\\dagger a_{p'\\pm}^\\dagger a_{p\\sigma} a_{p'\\mp} -\n",
    "\\sum_{p} a_{p\\pm}^\\dagger  a_{p\\mp} \\\\\n",
    "&= \\sum_{p,p',\\sigma}\n",
    "a_{p\\sigma}^\\dagger a_{p\\sigma} a_{p'\\pm}^\\dagger a_{p'\\mp} +\n",
    "a_{p\\sigma}^\\dagger \\left( \\delta_{pp'} \\delta_{\\pm \\sigma} -\n",
    "a_{p\\sigma} a_{p'\\pm}^\\dagger \\right) a_{p'\\mp} -\n",
    "\\sum_{p} a_{p\\pm}^\\dagger  a_{p\\mp} \\\\\n",
    "&= \\sum_p a_{p\\pm}^\\dagger a_{p\\mp} -\n",
    "\\sum_{p} a_{p\\pm}^\\dagger  a_{p\\mp} = 0. \\\\\n",
    "\\end{align*}\n",
    "$$"
   ]
  },
  {
   "cell_type": "markdown",
   "id": "65b5d9f9",
   "metadata": {},
   "source": [
    "We obtain then"
   ]
  },
  {
   "cell_type": "markdown",
   "id": "df8e3fa0",
   "metadata": {},
   "source": [
    "$$\n",
    "\\begin{align*}\n",
    "[N,J_z] &= N J_z - J_z N \\\\\n",
    "&= \\left( \\sum_{p,\\sigma} a_{p\\sigma}^\\dagger a_{p\\sigma} \\right)\n",
    "\\left( \\frac{1}{2}\\sum_{p',\\sigma} \\sigma a_{p'\\sigma}^\\dagger a_{p'\\sigma} \\right) -\n",
    "\\left( \\frac{1}{2}\\sum_{p',\\sigma} \\sigma a_{p'\\sigma}^\\dagger a_{p'\\sigma} \\right)\n",
    "\\left( \\sum_{p,\\sigma} a_{p\\sigma}^\\dagger a_{p\\sigma} \\right) \\\\\n",
    "&= \\sum_{p,p',\\sigma} \n",
    "\\sigma a_{p\\sigma}^\\dagger a_{p\\sigma} a_{p'\\sigma}^\\dagger a_{p'\\sigma} -\n",
    "\\sigma a_{p'\\sigma}^\\dagger a_{p'\\sigma} a_{p\\sigma}^\\dagger a_{p\\sigma} = 0,\n",
    "\\end{align*}\n",
    "$$"
   ]
  },
  {
   "cell_type": "markdown",
   "id": "e264d5b7",
   "metadata": {},
   "source": [
    "which leads to"
   ]
  },
  {
   "cell_type": "markdown",
   "id": "f1b7eac1",
   "metadata": {},
   "source": [
    "<!-- Equation labels as ordinary links -->\n",
    "<div id=\"eq:kHJ2\"></div>\n",
    "\n",
    "$$\n",
    "\\begin{equation}\n",
    "[H,J^2] = 0,\n",
    "\\label{eq:kHJ2} \\tag{23}\n",
    "\\end{equation}\n",
    "$$"
   ]
  },
  {
   "cell_type": "markdown",
   "id": "729d031f",
   "metadata": {},
   "source": [
    "and $J$ is a good quantum number."
   ]
  },
  {
   "cell_type": "markdown",
   "id": "199ad3e6",
   "metadata": {},
   "source": [
    "### Constructing the Hamiltonian matrix for $J=2$\n",
    "\n",
    "We start with the state (unique) where all spins point down"
   ]
  },
  {
   "cell_type": "markdown",
   "id": "2c6593f7",
   "metadata": {},
   "source": [
    "<!-- Equation labels as ordinary links -->\n",
    "<div id=\"eq:2,-2\"></div>\n",
    "\n",
    "$$\n",
    "\\begin{equation}\n",
    "\\vert 2,-2\\rangle = a_{1-}^{\\dagger} a_{2-}^{\\dagger}\n",
    "a_{3-}^{\\dagger} a_{4-}^{\\dagger} \\vert 0\\rangle\n",
    "\\label{eq:2,-2} \\tag{24}\n",
    "\\end{equation}\n",
    "$$"
   ]
  },
  {
   "cell_type": "markdown",
   "id": "32d5abd1",
   "metadata": {},
   "source": [
    "which is a state with  $J_z = -2$ and $J = 2$. (we label the states as $\\vert J,J_z\\rangle$). For $J = 2$ we have the spin projections $J_z = -2,-1,0,1,2$.\n",
    "We can use the lowering and raising operators for spin in order to define the other states"
   ]
  },
  {
   "cell_type": "markdown",
   "id": "1e1de667",
   "metadata": {},
   "source": [
    "<!-- Equation labels as ordinary links -->\n",
    "<div id=\"eq:J+ket\"></div>\n",
    "\n",
    "$$\n",
    "\\begin{equation}\n",
    "J_+ \\vert J,J_z\\rangle = \\sqrt{J(J+1) - J_z(J_z + 1)} \\vert J,J_z + 1\\rangle,\n",
    "\\label{eq:J+ket} \\tag{25} \n",
    "\\end{equation}\n",
    "$$"
   ]
  },
  {
   "cell_type": "markdown",
   "id": "bdb4e437",
   "metadata": {},
   "source": [
    "<!-- Equation labels as ordinary links -->\n",
    "<div id=\"eq:J-ket\"></div>\n",
    "\n",
    "$$\n",
    "\\begin{equation} \n",
    "J_- \\vert J,J_z\\rangle = \\sqrt{J(J+1) - J_z(J_z - 1)} \\vert J,J_z - 1\\rangle.\n",
    "\\label{eq:J-ket} \\tag{26}\n",
    "\\end{equation}\n",
    "$$"
   ]
  },
  {
   "cell_type": "markdown",
   "id": "495aae05",
   "metadata": {},
   "source": [
    "We can then construct all other states with $J=2$ using the raising operator\n",
    "$J_+$ on $\\vert 2,-2\\rangle$"
   ]
  },
  {
   "cell_type": "markdown",
   "id": "b5f3c42b",
   "metadata": {},
   "source": [
    "$$\n",
    "J_+ \\vert 2,-2\\rangle = \\sqrt{2(2+1) - (-2)(-2+1)} \\vert 2,-2+1\\rangle =\\sqrt{6 - 2} \\vert 2,-1\\rangle = 2\\vert 2,-1\\rangle,\n",
    "$$"
   ]
  },
  {
   "cell_type": "markdown",
   "id": "d6bdfd82",
   "metadata": {},
   "source": [
    "which gives"
   ]
  },
  {
   "cell_type": "markdown",
   "id": "412da4ad",
   "metadata": {},
   "source": [
    "<!-- Equation labels as ordinary links -->\n",
    "<div id=\"_auto7\"></div>\n",
    "\n",
    "$$\n",
    "\\begin{equation}\n",
    "\\vert 2,-1\\rangle = \\frac{1}{2} J_+ \\vert 2,-2\\rangle \\notag \n",
    "\\label{_auto7} \\tag{27}\n",
    "\\end{equation}\n",
    "$$"
   ]
  },
  {
   "cell_type": "markdown",
   "id": "c530dd40",
   "metadata": {},
   "source": [
    "<!-- Equation labels as ordinary links -->\n",
    "<div id=\"_auto8\"></div>\n",
    "\n",
    "$$\n",
    "\\begin{equation} \n",
    "= \\frac{1}{2} \\sum_p a_{p+}^\\dagger a_{p-} a_{1-}^{\\dagger} a_{2-}^{\\dagger}\n",
    "a_{3-}^{\\dagger} a_{4-}^{\\dagger} \\vert 0\\rangle \\notag \n",
    "\\label{_auto8} \\tag{28}\n",
    "\\end{equation}\n",
    "$$"
   ]
  },
  {
   "cell_type": "markdown",
   "id": "8bb9b3c9",
   "metadata": {},
   "source": [
    "<!-- Equation labels as ordinary links -->\n",
    "<div id=\"eq:2,-1\"></div>\n",
    "\n",
    "$$\n",
    "\\begin{equation} \n",
    "= \\frac{1}{2} \\left(\n",
    "a_{1+}^{\\dagger} a_{2-}^{\\dagger} a_{3-}^{\\dagger} a_{4-}^{\\dagger} +\n",
    "a_{1-}^{\\dagger} a_{2+}^{\\dagger} a_{3-}^{\\dagger} a_{4-}^{\\dagger} +\n",
    "a_{1-}^{\\dagger} a_{2-}^{\\dagger} a_{3+}^{\\dagger} a_{4-}^{\\dagger} +\n",
    "a_{1-}^{\\dagger} a_{2-}^{\\dagger} a_{3-}^{\\dagger} a_{4+}^{\\dagger}\n",
    "\\right) \\vert 0\\rangle. \\label{eq:2,-1} \\tag{29}\n",
    "\\end{equation}\n",
    "$$"
   ]
  },
  {
   "cell_type": "markdown",
   "id": "8fd35e01",
   "metadata": {},
   "source": [
    "We can construct all the other states in the same way. That is"
   ]
  },
  {
   "cell_type": "markdown",
   "id": "f6ac568d",
   "metadata": {},
   "source": [
    "$$\n",
    "J_+ \\vert 2,-1\\rangle = \\sqrt{2(2+1) - (-1)(-1+1)} \\vert 2,-1+1\\rangle = \\sqrt{6} \\vert 2,0\\rangle,\n",
    "$$"
   ]
  },
  {
   "cell_type": "markdown",
   "id": "42df4b2d",
   "metadata": {},
   "source": [
    "which results in"
   ]
  },
  {
   "cell_type": "markdown",
   "id": "0e83dd7c",
   "metadata": {},
   "source": [
    "<!-- Equation labels as ordinary links -->\n",
    "<div id=\"eq:2,0\"></div>\n",
    "\n",
    "$$\n",
    "\\begin{equation}\n",
    "\\begin{aligned}\n",
    "\\vert 2,0\\rangle &= \\frac{1}{\\sqrt{6}} \\left(\n",
    "a_{1+}^{\\dagger} a_{2+}^{\\dagger} a_{3-}^{\\dagger} a_{4-}^{\\dagger} +\n",
    "a_{1+}^{\\dagger} a_{2-}^{\\dagger} a_{3+}^{\\dagger} a_{4-}^{\\dagger} +\n",
    "a_{1+}^{\\dagger} a_{2-}^{\\dagger} a_{3-}^{\\dagger} a_{4+}^{\\dagger} +\n",
    "a_{1-}^{\\dagger} a_{2+}^{\\dagger} a_{3+}^{\\dagger} a_{4-}^{\\dagger} + \\right. \\\\\n",
    "&\\quad\\,\\, \\left.\n",
    "a_{1-}^{\\dagger} a_{2+}^{\\dagger} a_{3-}^{\\dagger} a_{4+}^{\\dagger} +\n",
    "a_{1-}^{\\dagger} a_{2-}^{\\dagger} a_{3+}^{\\dagger} a_{4+}^{\\dagger} \\right) \\vert 0\\rangle\n",
    "\\end{aligned}\n",
    "\\label{eq:2,0} \\tag{30}\n",
    "\\end{equation}\n",
    "$$"
   ]
  },
  {
   "cell_type": "markdown",
   "id": "ab14d27c",
   "metadata": {},
   "source": [
    "The two remaining states are"
   ]
  },
  {
   "cell_type": "markdown",
   "id": "add64ea9",
   "metadata": {},
   "source": [
    "<!-- Equation labels as ordinary links -->\n",
    "<div id=\"eq:2,1\"></div>\n",
    "\n",
    "$$\n",
    "\\begin{equation}\n",
    "\\vert2,1\\rangle  = \\frac{1}{2} \\left(\n",
    "a_{1+}^{\\dagger} a_{2+}^{\\dagger} a_{3+}^{\\dagger} a_{4-}^{\\dagger} +\n",
    "a_{1+}^{\\dagger} a_{2+}^{\\dagger} a_{3-}^{\\dagger} a_{4+}^{\\dagger} +\n",
    "a_{1+}^{\\dagger} a_{2-}^{\\dagger} a_{3+}^{\\dagger} a_{4+}^{\\dagger} +\n",
    "a_{1-}^{\\dagger} a_{2+}^{\\dagger} a_{3+}^{\\dagger} a_{4+}^{\\dagger}\n",
    " \\right).\n",
    "\\label{eq:2,1} \\tag{31}\n",
    "\\end{equation}\n",
    "$$"
   ]
  },
  {
   "cell_type": "markdown",
   "id": "850bcd6c",
   "metadata": {},
   "source": [
    "and"
   ]
  },
  {
   "cell_type": "markdown",
   "id": "29a6d8b0",
   "metadata": {},
   "source": [
    "<!-- Equation labels as ordinary links -->\n",
    "<div id=\"eq:2,2\"></div>\n",
    "\n",
    "$$\n",
    "\\begin{equation}\n",
    "\\vert 2,2\\rangle  = a_{1+}^{\\dagger} a_{2+}^{\\dagger} a_{3+}^{\\dagger} a_{4+}^{\\dagger} \\vert 0\\rangle.\n",
    "\\label{eq:2,2} \\tag{32}\n",
    "\\end{equation}\n",
    "$$"
   ]
  },
  {
   "cell_type": "markdown",
   "id": "757f181d",
   "metadata": {},
   "source": [
    "These five states can in turn be used as computational basis states in\n",
    "order to define the Hamiltonian matrix to be diagonalized.\n",
    "The matrix elements are given by $\\langle J,J_z \\vert H \\vert J^',J_z^' \\rangle$.\n",
    "The\n",
    "Hamiltonian is hermitian and we obtain after all this labor of ours"
   ]
  },
  {
   "cell_type": "markdown",
   "id": "7b35eeaf",
   "metadata": {},
   "source": [
    "<!-- Equation labels as ordinary links -->\n",
    "<div id=\"eq:HJ=2\"></div>\n",
    "\n",
    "$$\n",
    "\\begin{equation}\n",
    "H_{J = 2} =\n",
    "\\begin{bmatrix}\n",
    "-2\\varepsilon & 0 & \\sqrt{6}V & 0 & 0 \\\\\n",
    "0 & -\\varepsilon + 3W & 0 & 3V & 0 \\\\\n",
    "\\sqrt{6}V & 0 & 4W & 0 & \\sqrt{6}V \\\\\n",
    "0 & 3V & 0 & \\varepsilon + 3W & 0 \\\\\n",
    "0 & 0 & \\sqrt{6}V & 0 & 2\\varepsilon\n",
    "\\end{bmatrix}\n",
    "\\label{eq:HJ=2} \\tag{33}\n",
    "\\end{equation}\n",
    "$$"
   ]
  },
  {
   "cell_type": "markdown",
   "id": "a735b477",
   "metadata": {},
   "source": [
    "We can now select a set of parameters and diagonalize the above matrix. We select $\\epsilon = 2$, $V = -1/3$, $W = -1/4$ and our matrix becoes"
   ]
  },
  {
   "cell_type": "markdown",
   "id": "a028f194",
   "metadata": {},
   "source": [
    "$$\n",
    "H_{J=2}^{(1)} =\n",
    "\\begin{bmatrix}\n",
    "-4 & 0 & -\\sqrt{6}/3 & 0 & 0 \\\\\n",
    "0 & -2 - 3/4 & 0 & -1 & 0 \\\\\n",
    "-\\sqrt{6}/3 & 0 & -1 & 0 & -\\sqrt{6}/3 \\\\\n",
    "0 & -1 & 0 & 2 + -3/4 & 0 \\\\\n",
    "0 & 0 & -\\sqrt{6}/3 & 0 & 4\n",
    "\\end{bmatrix},\n",
    "$$"
   ]
  },
  {
   "cell_type": "markdown",
   "id": "5613c692",
   "metadata": {},
   "source": [
    "which gives the eigenvalue"
   ]
  },
  {
   "cell_type": "markdown",
   "id": "d6786b0b",
   "metadata": {},
   "source": [
    "$$\n",
    "D = \\begin{bmatrix}\n",
    "-4.21288 &  0 &  0 &  0 &  0 \\\\\n",
    "0 & -2.98607  & 0  & 0  & 0 \\\\\n",
    "0 &  0 & -0.91914  & 0  & 0 \\\\\n",
    "0 &  0 & 0   & 1.48607  & 0 \\\\\n",
    "0 &  0  & 0  & 0  & 4.13201\n",
    "\\end{bmatrix}.\n",
    "$$"
   ]
  },
  {
   "cell_type": "markdown",
   "id": "d846a528",
   "metadata": {},
   "source": [
    "The lowest state has an admixture of basis states given by"
   ]
  },
  {
   "cell_type": "markdown",
   "id": "47b21bac",
   "metadata": {},
   "source": [
    "$$\n",
    "\\vert \\psi_0\\rangle = 0.96735\\vert2,-2\\rangle + 0.25221\\vert 2,0\\rangle + 0.02507\\vert 2,2\\rangle,\n",
    "$$"
   ]
  },
  {
   "cell_type": "markdown",
   "id": "32b1cf8c",
   "metadata": {},
   "source": [
    "with energy $E_0 = -4.21288$.\n",
    "\n",
    "We can now change the parameters to\n",
    "$\\varepsilon = 2$, $V = -4/3$, $W = -1$. Our matrix reads then"
   ]
  },
  {
   "cell_type": "markdown",
   "id": "5debcca5",
   "metadata": {},
   "source": [
    "$$\n",
    "H_{J=2}^{(2)} =\n",
    "\\begin{bmatrix}\n",
    "-4 & 0 & -4\\sqrt{6}/3 & 0 & 0 \\\\\n",
    "0 & -5 & 0 & -4 & 0 \\\\\n",
    "-4\\sqrt{6}/3 & 0 & -4 & 0 & -4\\sqrt{6}/3 \\\\\n",
    "0 & -4 & 0 & -1 & 0 \\\\\n",
    "0 & 0 & -4\\sqrt{6}/3 & 0 & 4\n",
    "\\end{bmatrix},\n",
    "$$"
   ]
  },
  {
   "cell_type": "markdown",
   "id": "80eebd21",
   "metadata": {},
   "source": [
    "with the following eigenvalues"
   ]
  },
  {
   "cell_type": "markdown",
   "id": "7b30af25",
   "metadata": {},
   "source": [
    "$$\n",
    "D = \\begin{bmatrix}\n",
    "-7.75122 &  0 &  0 &  0  & 0 \\\\\n",
    "0 & -7.47214  & 0  & 0  & 0 \\\\\n",
    "0 &  0  & -1.55581 &  0  & 0 \\\\\n",
    "0 &  0  & 0  & 1.47214  & 0 \\\\\n",
    "0 &  0  & 0  & 0  & 5.30704\n",
    "\\end{bmatrix}.\n",
    "$$"
   ]
  },
  {
   "cell_type": "markdown",
   "id": "6d3e8d00",
   "metadata": {},
   "source": [
    "The new ground state (lowest state) has the following admixture of computational basis states"
   ]
  },
  {
   "cell_type": "markdown",
   "id": "b5f773bd",
   "metadata": {},
   "source": [
    "$$\n",
    "\\vert \\psi_0\\rangle = 0.64268\\vert 2,-2\\rangle + 0.73816\\vert 2,0\\rangle + 0.20515 \\vert 2,2\\rangle,\n",
    "$$"
   ]
  },
  {
   "cell_type": "markdown",
   "id": "c15da7a9",
   "metadata": {},
   "source": [
    "with energy $E_0 = -7.75122$.\n",
    "\n",
    "For the first set of parameters, the likelihood for observing the\n",
    "system in the computational basis state $\\vert 2,-2 \\rangle$ is rather\n",
    "large. This is expected since the interaction matrix elements are\n",
    "smaller than the single-particle energies.  For the second case, with\n",
    "larger matrix elements, we see a much stronger mixing of the other\n",
    "states, again as expected due to the ratio of the interaction matrix\n",
    "elements and the single-particle energies."
   ]
  },
  {
   "cell_type": "markdown",
   "id": "7ffba40c",
   "metadata": {},
   "source": [
    "## Quantum Circuit, rewriting the Lipkin model in terms of Pauli matrices\n",
    "\n",
    "To solve the Lipkin model on a quantum computer we have to solve\n",
    "Schrodinger's equation. To achieve this, we will use the Variational\n",
    "Quantum Eigensolver (VQE) discussed above\n",
    "\n",
    "Before we proceed however, we need to rewrite the quasispin operators in terms of Pauli spin matrices/operators.\n",
    "\n",
    "We take the liberty here of reminding you of some of the derivations done previously.\n",
    "We defined the number operator as"
   ]
  },
  {
   "cell_type": "markdown",
   "id": "986ebd0c",
   "metadata": {},
   "source": [
    "$$\n",
    "N=\\sum_{n\\sigma}a^\\dagger_{n\\sigma}a_{n\\sigma},\n",
    "$$"
   ]
  },
  {
   "cell_type": "markdown",
   "id": "3db4c586",
   "metadata": {},
   "source": [
    "which commutes with the Lipkin Hamiltonian. This can be seen by\n",
    "examining the Lipkin model Hamiltonian and noticing that the one-body\n",
    "part simply counts particles while the two-body term moves particles\n",
    "in pairs. Thus, the Hamiltonian conserves particle number. To find\n",
    "more symmetries we rewrote the Lipkin Hamiltonian in terms of $SU(2)$ quasispin\n",
    "operators"
   ]
  },
  {
   "cell_type": "markdown",
   "id": "20a64408",
   "metadata": {},
   "source": [
    "<!-- Equation labels as ordinary links -->\n",
    "<div id=\"_auto9\"></div>\n",
    "\n",
    "$$\n",
    "\\begin{equation}\n",
    "H = \\epsilon J_z + \\frac{1}{2}V(J^2_++J^2_-),\n",
    "\\label{_auto9} \\tag{34}\n",
    "\\end{equation}\n",
    "$$"
   ]
  },
  {
   "cell_type": "markdown",
   "id": "c38c6cea",
   "metadata": {},
   "source": [
    "via the mappings"
   ]
  },
  {
   "cell_type": "markdown",
   "id": "ca14ba4d",
   "metadata": {},
   "source": [
    "$$\n",
    "J_z=\\sum_{n}j_z^{(n)},\n",
    "$$"
   ]
  },
  {
   "cell_type": "markdown",
   "id": "8fef9c2e",
   "metadata": {},
   "source": [
    "and"
   ]
  },
  {
   "cell_type": "markdown",
   "id": "f6fd780f",
   "metadata": {},
   "source": [
    "$$\n",
    "J_\\pm=\\sum_nj^{(n)}_{\\pm},\n",
    "$$"
   ]
  },
  {
   "cell_type": "markdown",
   "id": "fe9ebbea",
   "metadata": {},
   "source": [
    "where we have the onebody operators"
   ]
  },
  {
   "cell_type": "markdown",
   "id": "a570f48c",
   "metadata": {},
   "source": [
    "$$\n",
    "j_z^{(n)}=\\frac{1}{2}\\sum_{\\sigma}\\sigma a^\\dagger_{n\\sigma}a_{n\\sigma},\n",
    "$$"
   ]
  },
  {
   "cell_type": "markdown",
   "id": "ede5943d",
   "metadata": {},
   "source": [
    "and"
   ]
  },
  {
   "cell_type": "markdown",
   "id": "84a7e152",
   "metadata": {},
   "source": [
    "$$\n",
    "j^{(n)}_{\\pm}=a^\\dagger_{n\\pm}a_{n\\mp}.\n",
    "$$"
   ]
  },
  {
   "cell_type": "markdown",
   "id": "e6da310e",
   "metadata": {},
   "source": [
    "These operators obey the $SU(2)$ commutation relations"
   ]
  },
  {
   "cell_type": "markdown",
   "id": "c72a6a45",
   "metadata": {},
   "source": [
    "$$\n",
    "[J_+,J_-]=2J_z,\n",
    "$$"
   ]
  },
  {
   "cell_type": "markdown",
   "id": "a4b02da7",
   "metadata": {},
   "source": [
    "and"
   ]
  },
  {
   "cell_type": "markdown",
   "id": "23eba03d",
   "metadata": {},
   "source": [
    "$$\n",
    "[J_z,J_\\pm]=\\pm J_\\pm.\n",
    "$$"
   ]
  },
  {
   "cell_type": "markdown",
   "id": "614d45cf",
   "metadata": {},
   "source": [
    "Here the ladder operators are defined as $J_{\\pm}= J_x\\pm iJ_y$. With this rewriting, we can see that the total spin operator $J^2$, which is defined as"
   ]
  },
  {
   "cell_type": "markdown",
   "id": "42326b84",
   "metadata": {},
   "source": [
    "$$\n",
    "J^2= J^2_x+J^2_y+J^2_z =\n",
    "\\frac{1}{2}\\{J_+,J_-\\}+J_z^2,\n",
    "$$"
   ]
  },
  {
   "cell_type": "markdown",
   "id": "e42456c0",
   "metadata": {},
   "source": [
    "commutes with the Hamiltonian since the Hamiltonian.\n",
    "We note also that the rotation operator"
   ]
  },
  {
   "cell_type": "markdown",
   "id": "2cffcdfc",
   "metadata": {},
   "source": [
    "$$\n",
    "R=e^{i\\phi J_z},\n",
    "$$"
   ]
  },
  {
   "cell_type": "markdown",
   "id": "1b673a5a",
   "metadata": {},
   "source": [
    "commutes with the Hamiltonian, which can be explained as follows. Writing $J_z$ as"
   ]
  },
  {
   "cell_type": "markdown",
   "id": "3c8a1362",
   "metadata": {},
   "source": [
    "$$\n",
    "J_z=\\frac{1}{2}(N_+-N_-),\n",
    "$$"
   ]
  },
  {
   "cell_type": "markdown",
   "id": "ff2ccbc7",
   "metadata": {},
   "source": [
    "where $N_\\pm=\\sum_{n\\pm}a^\\dagger_{n\\pm}a_{n\\pm}$, allows us to see that it measures half the difference between the number of particles in the upper and lower levels. Thus, the possible eigenvalues $r$ of the signature operator are"
   ]
  },
  {
   "cell_type": "markdown",
   "id": "44766eba",
   "metadata": {},
   "source": [
    "<!-- Equation labels as ordinary links -->\n",
    "<div id=\"_auto10\"></div>\n",
    "\n",
    "$$\n",
    "\\begin{equation}\n",
    "r=+1,  j_z=2n \n",
    "\\label{_auto10} \\tag{35}\n",
    "\\end{equation}\n",
    "$$"
   ]
  },
  {
   "cell_type": "markdown",
   "id": "9c0df4d3",
   "metadata": {},
   "source": [
    "<!-- Equation labels as ordinary links -->\n",
    "<div id=\"_auto11\"></div>\n",
    "\n",
    "$$\n",
    "\\begin{equation} \n",
    "r=+i,  j_z=2n+\\frac{1}{2} \n",
    "\\label{_auto11} \\tag{36}\n",
    "\\end{equation}\n",
    "$$"
   ]
  },
  {
   "cell_type": "markdown",
   "id": "4d7a9286",
   "metadata": {},
   "source": [
    "<!-- Equation labels as ordinary links -->\n",
    "<div id=\"_auto12\"></div>\n",
    "\n",
    "$$\n",
    "\\begin{equation} \n",
    "r=-1,  j_z=2n+1 \n",
    "\\label{_auto12} \\tag{37}\n",
    "\\end{equation}\n",
    "$$"
   ]
  },
  {
   "cell_type": "markdown",
   "id": "49dc8e27",
   "metadata": {},
   "source": [
    "<!-- Equation labels as ordinary links -->\n",
    "<div id=\"_auto13\"></div>\n",
    "\n",
    "$$\n",
    "\\begin{equation} \n",
    "r=-i,  j_z=2n+\\frac{3}{2} \n",
    "\\label{_auto13} \\tag{38}\n",
    "\\end{equation}\n",
    "$$"
   ]
  },
  {
   "cell_type": "markdown",
   "id": "b51b1ca3",
   "metadata": {},
   "source": [
    "<!-- Equation labels as ordinary links -->\n",
    "<div id=\"_auto14\"></div>\n",
    "\n",
    "$$\n",
    "\\begin{equation} \n",
    "\\label{_auto14} \\tag{39}\n",
    "\\end{equation}\n",
    "$$"
   ]
  },
  {
   "cell_type": "markdown",
   "id": "d77fa07b",
   "metadata": {},
   "source": [
    "for $n\\in\\mathbb{Z}$. Note that $r$ is real or imaginary if the number\n",
    "of particles $N$ is even or odd, respectively. Since, as discussed\n",
    "above, the Lipkin Hamiltonian conserves $N$, $r$ cannot jump between\n",
    "being real and imaginary. Additionally, because particles must be\n",
    "moved in pairs, and $J_z$ measures half the difference between\n",
    "particles in the upper and lower levels, $j_z$ can only change by as"
   ]
  },
  {
   "cell_type": "markdown",
   "id": "048c0aa4",
   "metadata": {},
   "source": [
    "$$\n",
    "j_z\\rightarrow \\frac{1}{2}[(N_+\\pm 2n)-(N_-\\mp 2n)]\n",
    "$$"
   ]
  },
  {
   "cell_type": "markdown",
   "id": "50e1d9a1",
   "metadata": {},
   "source": [
    "or $j_z\\rightarrow J_z\\pm2n$.\n",
    "\n",
    "To solve the Lipkin model with a quantum computer, the first step is\n",
    "to map the system to a set of qubits. We will restrict ourselves here\n",
    "to the half-filled case where the number of particles $N$ equals the\n",
    "degeneracy of the states $\\Omega$. One could assign each possible\n",
    "state $(n,\\sigma)$ a qubit such that the qubit being in the state\n",
    "$\\vert 1\\rangle$ or $\\vert 0\\rangle$ would imply that the state\n",
    "$(n,\\sigma)$ is occupied or unoccupied, respectively. This mapping\n",
    "scheme (which we will call occupation mapping) requires 2$\\Omega$\n",
    "qubits.\n",
    "\n",
    "The Hamiltonian takes the form"
   ]
  },
  {
   "cell_type": "markdown",
   "id": "0d694108",
   "metadata": {},
   "source": [
    "<!-- Equation labels as ordinary links -->\n",
    "<div id=\"_auto15\"></div>\n",
    "\n",
    "$$\n",
    "\\begin{equation}\n",
    "H=\\epsilon J_z + \\frac{1}{2}V(J^2_++J^2_-).\n",
    "\\label{_auto15} \\tag{40}\n",
    "\\end{equation}\n",
    "$$"
   ]
  },
  {
   "cell_type": "markdown",
   "id": "f56d3978",
   "metadata": {},
   "source": [
    "Plugging the mapping from the total $J$ operators to the individual one-body $j$ operators yields"
   ]
  },
  {
   "cell_type": "markdown",
   "id": "64ad6210",
   "metadata": {},
   "source": [
    "<!-- Equation labels as ordinary links -->\n",
    "<div id=\"_auto16\"></div>\n",
    "\n",
    "$$\n",
    "\\begin{equation}\n",
    "H = \\epsilon\\sum_{n}j_z^{(n)} + \\frac{1}{2}V\\left[\\left(\\sum_nj^{(n)}_{+}\\right)^2+\\left(\\sum_nj^{(n)}_{-}\\right)^2\\right]\n",
    "\\label{_auto16} \\tag{41}\n",
    "\\end{equation}\n",
    "$$"
   ]
  },
  {
   "cell_type": "markdown",
   "id": "2ea36bf9",
   "metadata": {},
   "source": [
    "<!-- Equation labels as ordinary links -->\n",
    "<div id=\"_auto17\"></div>\n",
    "\n",
    "$$\n",
    "\\begin{equation} \n",
    "= \\epsilon\\sum_{n}j_z^{(n)} + \\frac{1}{2}V\\sum_{n,m}\\left(j^{(n)}_+j^{(m)}_++j^{(n)}_-j^{(m)}_-\\right)\n",
    "\\label{_auto17} \\tag{42}\n",
    "\\end{equation}\n",
    "$$"
   ]
  },
  {
   "cell_type": "markdown",
   "id": "79ca45ad",
   "metadata": {},
   "source": [
    "<!-- Equation labels as ordinary links -->\n",
    "<div id=\"_auto18\"></div>\n",
    "\n",
    "$$\n",
    "\\begin{equation} \n",
    "= \\epsilon\\sum_{n}j_z^{(n)} + 2V\\sum_{n<m}\\left(j^{(n)}_xj^{(m)}_x-j^{(n)}_yj^{(m)}_y\\right),\n",
    "\\label{_auto18} \\tag{43}\n",
    "\\end{equation}\n",
    "$$"
   ]
  },
  {
   "cell_type": "markdown",
   "id": "6c4f8a7b",
   "metadata": {},
   "source": [
    "where we have used the definitions"
   ]
  },
  {
   "cell_type": "markdown",
   "id": "732f96fa",
   "metadata": {},
   "source": [
    "$$\n",
    "j_{\\pm}^{(n)}=j_x^{(n)}\\pm ij_y^{(n)}.\n",
    "$$"
   ]
  },
  {
   "cell_type": "markdown",
   "id": "565e73dd",
   "metadata": {},
   "source": [
    "To convert to Pauli matrices, we make the transformations"
   ]
  },
  {
   "cell_type": "markdown",
   "id": "f9b501ab",
   "metadata": {},
   "source": [
    "$$\n",
    "j_x^{(n)} \\rightarrow X_n/2,\n",
    "$$"
   ]
  },
  {
   "cell_type": "markdown",
   "id": "a5565746",
   "metadata": {},
   "source": [
    "and"
   ]
  },
  {
   "cell_type": "markdown",
   "id": "140ac93b",
   "metadata": {},
   "source": [
    "$$\n",
    "j_y^{(n)} \\rightarrow Y_n/2,\n",
    "$$"
   ]
  },
  {
   "cell_type": "markdown",
   "id": "b33a3dfe",
   "metadata": {},
   "source": [
    "and finally"
   ]
  },
  {
   "cell_type": "markdown",
   "id": "840715ca",
   "metadata": {},
   "source": [
    "$$\n",
    "j_z^{(n)} \\rightarrow Z_n/2,\n",
    "$$"
   ]
  },
  {
   "cell_type": "markdown",
   "id": "7d703a7c",
   "metadata": {},
   "source": [
    "which preserve the above $SU(2)$  commutation relations.\n",
    "The factor of $1/2$\n",
    "is due to the eigenvalues of the Pauli matrices being $\\pm 1$\n",
    "while we are dealing with spin $1/2$ particles.\n",
    "\n",
    "This transforms our Hamiltonian into"
   ]
  },
  {
   "cell_type": "markdown",
   "id": "5b4b2d8c",
   "metadata": {},
   "source": [
    "$$\n",
    "H=\\frac{1}{2}\\epsilon\\sum_{k=1}^nZ_k+\\frac{1}{2}V\\sum_{n\\neq j=1}^N(X_kX_j-Y_kY_j).\n",
    "$$"
   ]
  },
  {
   "cell_type": "markdown",
   "id": "7803dbb7",
   "metadata": {},
   "source": [
    "With this form, we can clearly see that the first (one-body) term in\n",
    "the Hamiltonian returns the energy $-\\epsilon/2$ or $+\\epsilon/2$ if\n",
    "the qubit representing the particle of a doublet is in the ground\n",
    "($\\vert 1\\rangle$) or excited ($\\vert 0\\rangle$) state,\n",
    "respectively. The action of the second (two-body) term in the\n",
    "Hamiltonian can be determined by noting that"
   ]
  },
  {
   "cell_type": "markdown",
   "id": "966b4969",
   "metadata": {},
   "source": [
    "<!-- Equation labels as ordinary links -->\n",
    "<div id=\"_auto19\"></div>\n",
    "\n",
    "$$\n",
    "\\begin{equation}\n",
    "\\frac{1}{2}(XX-YY)\\vert 00\\rangle = \\vert 11\\rangle,\n",
    "\\label{_auto19} \\tag{44}\n",
    "\\end{equation}\n",
    "$$"
   ]
  },
  {
   "cell_type": "markdown",
   "id": "7608aa02",
   "metadata": {},
   "source": [
    "<!-- Equation labels as ordinary links -->\n",
    "<div id=\"_auto20\"></div>\n",
    "\n",
    "$$\n",
    "\\begin{equation} \n",
    "\\frac{1}{2}(XX-YY)\\vert 01\\rangle = 0,\n",
    "\\label{_auto20} \\tag{45}\n",
    "\\end{equation}\n",
    "$$"
   ]
  },
  {
   "cell_type": "markdown",
   "id": "f3a98c3b",
   "metadata": {},
   "source": [
    "<!-- Equation labels as ordinary links -->\n",
    "<div id=\"_auto21\"></div>\n",
    "\n",
    "$$\n",
    "\\begin{equation} \n",
    "\\frac{1}{2}(XX-YY)\\vert 10\\rangle = 0,\n",
    "\\label{_auto21} \\tag{46}\n",
    "\\end{equation}\n",
    "$$"
   ]
  },
  {
   "cell_type": "markdown",
   "id": "659727e6",
   "metadata": {},
   "source": [
    "<!-- Equation labels as ordinary links -->\n",
    "<div id=\"_auto22\"></div>\n",
    "\n",
    "$$\n",
    "\\begin{equation} \n",
    "\\frac{1}{2}(XX-YY)\\vert 11\\rangle = \\vert 00\\rangle.\n",
    "\\label{_auto22} \\tag{47}\n",
    "\\end{equation}\n",
    "$$"
   ]
  },
  {
   "cell_type": "markdown",
   "id": "3a25d30c",
   "metadata": {},
   "source": [
    "That is, the two-body term moves a pair of particles between the\n",
    "ground states $\\vert 00\\rangle$ and the excited states $\\vert\n",
    "11\\rangle$ of their respective doublets.\n",
    "\n",
    "To construct an efficient ansatz, we must determine the subspace\n",
    "within which the Hamiltonian lives. To begin, note that particles are\n",
    "only ever moved between energy levels in pairs.\n",
    "Further,\n",
    "note that the Hamiltonian's coefficients ($\\epsilon$ and $V$) are\n",
    "state independent (do not depend on the indices $n$ or $m$) as the\n",
    "states labeled by these indices are degenerate and thus have the same\n",
    "energy level. Thus, the Hamiltonian treats all states with the same\n",
    "number of excited particles (Hamming weight of the state) as the\n",
    "same. Therefore, the following ansatz forms exactly cover the subspace\n",
    "within which the $N$-degenerate Hamiltonian explores:"
   ]
  },
  {
   "cell_type": "markdown",
   "id": "fd1f8b7a",
   "metadata": {},
   "source": [
    "<!-- Equation labels as ordinary links -->\n",
    "<div id=\"_auto23\"></div>\n",
    "\n",
    "$$\n",
    "\\begin{equation}\n",
    "\\vert \\psi_{\\text{even}}\\rangle=\\sum_{k=0}^{\\lfloor n/2 \\rfloor}c_{2k}\\vert D^n_{2k}\\rangle,\n",
    "\\label{_auto23} \\tag{48}\n",
    "\\end{equation}\n",
    "$$"
   ]
  },
  {
   "cell_type": "markdown",
   "id": "b06f5a9f",
   "metadata": {},
   "source": [
    "<!-- Equation labels as ordinary links -->\n",
    "<div id=\"_auto24\"></div>\n",
    "\n",
    "$$\n",
    "\\begin{equation} \n",
    "\\vert \\psi_{\\text{odd}}\\rangle=\\sum_{k=0}^{\\lfloor n/2 \\rfloor}c_{2k+1}\\vert D^n_{2k+1}\\rangle.\n",
    "\\label{_auto24} \\tag{49}\n",
    "\\end{equation}\n",
    "$$"
   ]
  },
  {
   "cell_type": "markdown",
   "id": "9fc16c43",
   "metadata": {},
   "source": [
    "Here $\\vert D^n_k\\rangle$ represents a Dicke state which is defined as equal superposition of all $n$-qubit states with Hamming weight $k$. That is"
   ]
  },
  {
   "cell_type": "markdown",
   "id": "d7b81a3d",
   "metadata": {},
   "source": [
    "<!-- Equation labels as ordinary links -->\n",
    "<div id=\"_auto25\"></div>\n",
    "\n",
    "$$\n",
    "\\begin{equation}\n",
    "\\vert D^n_k\\rangle= \\frac{1}{\\sqrt{{n \\choose k}}}\\sum_{x\\in h^n_k}\\vert x\\rangle,\n",
    "\\label{_auto25} \\tag{50}\n",
    "\\end{equation}\n",
    "$$"
   ]
  },
  {
   "cell_type": "markdown",
   "id": "ae8f9555",
   "metadata": {},
   "source": [
    "where $h^n_k= \\{\\vert x\\rangle \\ | \\ \\text{l}(x) = n, \\ \\text{wt}(x) = k\\}$. There are two ways we can think of to prepare such ansatz: The first is to prepare them exactly as it is known how to deterministically prepare Dicke states with linear depth. The reference provides an algorithm for preparing a set of gates $U^n_k$ that prepares a Dicke state from a product state of Hamming weight $k$; that is"
   ]
  },
  {
   "cell_type": "markdown",
   "id": "a9f7794f",
   "metadata": {},
   "source": [
    "<!-- Equation labels as ordinary links -->\n",
    "<div id=\"_auto26\"></div>\n",
    "\n",
    "$$\n",
    "\\begin{equation}\n",
    "U^n_k\\vert 1\\rangle^{\\otimes k}\\vert 0\\rangle^{\\otimes n-k}=\\vert D^n_k\\rangle.\n",
    "\\label{_auto26} \\tag{51}\n",
    "\\end{equation}\n",
    "$$"
   ]
  },
  {
   "cell_type": "markdown",
   "id": "6a98964f",
   "metadata": {},
   "source": [
    "It then describes how to one can create an arbitrary superposition of Dicke states, which we modify here to restrict ourselves to a Hamming weight of constant parity. The circuit to construct such a state (for the $k=6$ case, as an example) is discussed next week."
   ]
  }
 ],
 "metadata": {
  "kernelspec": {
   "display_name": "Python 3 (ipykernel)",
   "language": "python",
   "name": "python3"
  },
  "language_info": {
   "codemirror_mode": {
    "name": "ipython",
    "version": 3
   },
   "file_extension": ".py",
   "mimetype": "text/x-python",
   "name": "python",
   "nbconvert_exporter": "python",
   "pygments_lexer": "ipython3",
   "version": "3.9.10"
  }
 },
 "nbformat": 4,
 "nbformat_minor": 5
}
